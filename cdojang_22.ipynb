{
  "nbformat": 4,
  "nbformat_minor": 0,
  "metadata": {
    "colab": {
      "name": "cdojang_22.ipynb",
      "provenance": [],
      "collapsed_sections": [],
      "authorship_tag": "ABX9TyPyY295JzTuemhkzuUEIHZc",
      "include_colab_link": true
    },
    "kernelspec": {
      "name": "python3",
      "display_name": "Python 3"
    },
    "language_info": {
      "name": "python"
    }
  },
  "cells": [
    {
      "cell_type": "markdown",
      "metadata": {
        "id": "view-in-github",
        "colab_type": "text"
      },
      "source": [
        "<a href=\"https://colab.research.google.com/github/teahojung/goodjob/blob/main/cdojang_22.ipynb\" target=\"_parent\"><img src=\"https://colab.research.google.com/assets/colab-badge.svg\" alt=\"Open In Colab\"/></a>"
      ]
    },
    {
      "cell_type": "markdown",
      "metadata": {
        "id": "ApE0VhAlgy3M"
      },
      "source": [
        "[코딩도장] 22장 리스트와 튜플 응용하기"
      ]
    },
    {
      "cell_type": "markdown",
      "metadata": {
        "id": "J6DEsuASg4Bo"
      },
      "source": [
        "리스트에 요소 추가하기\n",
        "\n",
        "append : 요소 하나를 추가\n",
        "\n",
        "extend : 리스트를 연결하여 확장\n",
        "\n",
        "insert : 특정 인덱스에 요소 추가"
      ]
    },
    {
      "cell_type": "markdown",
      "metadata": {
        "id": "Rwd5iC4whTPt"
      },
      "source": [
        "***append***는 리스트 끝에 요소 하나를 추가"
      ]
    },
    {
      "cell_type": "code",
      "metadata": {
        "colab": {
          "base_uri": "https://localhost:8080/"
        },
        "id": "yX4haGj2g25M",
        "outputId": "2acc1df0-0a97-4305-d22a-ede45e74dbb3"
      },
      "source": [
        "a = [10, 20, 30]\n",
        "a.append(500)\n",
        "a"
      ],
      "execution_count": null,
      "outputs": [
        {
          "output_type": "execute_result",
          "data": {
            "text/plain": [
              "[10, 20, 30, 500]"
            ]
          },
          "metadata": {
            "tags": []
          },
          "execution_count": 3
        }
      ]
    },
    {
      "cell_type": "markdown",
      "metadata": {
        "id": "JJqD5P_-hjIl"
      },
      "source": [
        "22.1.3 리스트 안에 리스트 추가하기"
      ]
    },
    {
      "cell_type": "code",
      "metadata": {
        "colab": {
          "base_uri": "https://localhost:8080/"
        },
        "id": "wLf_GMLChmKz",
        "outputId": "2f0e3f86-7318-4d67-87c7-86f2915998e8"
      },
      "source": [
        "a = [10, 20, 30]\n",
        "a.append([500, 600])\n",
        "a\n",
        "# [500, 600]은 요소 1개"
      ],
      "execution_count": null,
      "outputs": [
        {
          "output_type": "execute_result",
          "data": {
            "text/plain": [
              "[10, 20, 30, [500, 600]]"
            ]
          },
          "metadata": {
            "tags": []
          },
          "execution_count": 6
        }
      ]
    },
    {
      "cell_type": "markdown",
      "metadata": {
        "id": "3zwp0cpdiAck"
      },
      "source": [
        "22.1.5 리스트의 특정 인덱스에 요소 추가하기\n",
        "\n",
        "***append***, ***extend*** 는 리스트 끝에 요소를 추가, ***insert***는 리스트의 특정 인덱스에 요소 하나를 추가\n",
        "\n",
        "\n",
        "---\n",
        "\n",
        "\n",
        "\n",
        "-insert에서 자주 사용하는 패턴 2가지-\n",
        "\n",
        "insert(0,요소) : 리스트의 맨 처음에 요소를 추가\n",
        "\n",
        "insert (len(리스트), 요소) : 리스트 끝에 요소를 추가"
      ]
    },
    {
      "cell_type": "code",
      "metadata": {
        "colab": {
          "base_uri": "https://localhost:8080/"
        },
        "id": "f1Z-vXTEh_ws",
        "outputId": "1b4d6f94-eb22-4168-c8e5-2bfa84323154"
      },
      "source": [
        "a = [10, 20, 30]\n",
        "a.insert(0, 500)\n",
        "a"
      ],
      "execution_count": null,
      "outputs": [
        {
          "output_type": "execute_result",
          "data": {
            "text/plain": [
              "[500, 10, 20, 30]"
            ]
          },
          "metadata": {
            "tags": []
          },
          "execution_count": 7
        }
      ]
    },
    {
      "cell_type": "code",
      "metadata": {
        "id": "zlJtv5ImkMKu"
      },
      "source": [
        "a = [10, 20, 30]\n",
        "a.insert(len(a))"
      ],
      "execution_count": null,
      "outputs": []
    }
  ]
}