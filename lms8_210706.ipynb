{
  "nbformat": 4,
  "nbformat_minor": 0,
  "metadata": {
    "colab": {
      "name": "lms8_210706.ipynb",
      "provenance": [],
      "collapsed_sections": [],
      "authorship_tag": "ABX9TyNUKuCy/qMPGdE2q1lVDQOZ",
      "include_colab_link": true
    },
    "kernelspec": {
      "name": "python3",
      "display_name": "Python 3"
    },
    "language_info": {
      "name": "python"
    }
  },
  "cells": [
    {
      "cell_type": "markdown",
      "metadata": {
        "id": "view-in-github",
        "colab_type": "text"
      },
      "source": [
        "<a href=\"https://colab.research.google.com/github/teahojung/goodjob/blob/main/lms8_210706.ipynb\" target=\"_parent\"><img src=\"https://colab.research.google.com/assets/colab-badge.svg\" alt=\"Open In Colab\"/></a>"
      ]
    },
    {
      "cell_type": "code",
      "metadata": {
        "colab": {
          "base_uri": "https://localhost:8080/"
        },
        "id": "nIKWpM5sOKET",
        "outputId": "b4965f56-acb8-457e-c6f1-58b6f17754d4"
      },
      "source": [
        "total = 0\n",
        "count = 0\n",
        "numbers = input(\"Enter a number :   (<Enter Key> to quit)\")\n",
        "while numbers != \"\":\n",
        "    try:\n",
        "        x = float(numbers)\n",
        "        count += 1\n",
        "        total = total + x\n",
        "    except ValueError:\n",
        "        print('NOT a number! Ignored..')\n",
        "    numbers = input(\"Enter a number :  (<Enter Key> to quit)\")\n",
        "avg = total / count\n",
        "print(\"/n average is\", avg)"
      ],
      "execution_count": null,
      "outputs": [
        {
          "output_type": "stream",
          "text": [
            "Enter a number :   (<Enter Key> to quit)80\n",
            "Enter a number :  (<Enter Key> to quit)74\n",
            "Enter a number :  (<Enter Key> to quit)\n",
            "/n average is 77.0\n"
          ],
          "name": "stdout"
        }
      ]
    },
    {
      "cell_type": "code",
      "metadata": {
        "colab": {
          "base_uri": "https://localhost:8080/"
        },
        "id": "UNAShBNXQvJJ",
        "outputId": "1d599345-83dd-4a80-abcf-31ac34b54351"
      },
      "source": [
        "def numbers():\n",
        "    X = []\n",
        "    while True:\n",
        "        number = input(\"Enter a number (<Enter key> to quit)\")\n",
        "        while number !=\"\":\n",
        "            try:\n",
        "                x = float(number)\n",
        "                X.append(x)\n",
        "            except ValueError:\n",
        "                print('>>> NOT a number! Ignored..')\n",
        "            number = input(\"Enter a number (<Enter key> to quit)\")\n",
        "        if len(X) > 1:\n",
        "            return X\n",
        "\n",
        "X = numbers()\n",
        "\n",
        "print('X :', X)"
      ],
      "execution_count": null,
      "outputs": [
        {
          "output_type": "stream",
          "text": [
            "Enter a number (<Enter key> to quit)10\n",
            "Enter a number (<Enter key> to quit)10\n",
            "Enter a number (<Enter key> to quit)\n",
            "X : [10.0, 10.0]\n"
          ],
          "name": "stdout"
        }
      ]
    },
    {
      "cell_type": "code",
      "metadata": {
        "colab": {
          "base_uri": "https://localhost:8080/"
        },
        "id": "0gX5MzizUTqb",
        "outputId": "7e78737f-a96b-411f-b382-ff504fd50c63"
      },
      "source": [
        "import array as arr\n",
        "\n",
        "mylist = [1, 2, 3]\n",
        "print(type(mylist))\n",
        "\n",
        "mylist.append('4')\n",
        "print(mylist)\n",
        "\n",
        "mylist.insert(1, 5)\n",
        "print(mylist)\n",
        "\n",
        "myarray = arr.array('i', [1,2,3])\n",
        "print(type(myarray))\n",
        "\n",
        "print(myarray)\n",
        "\n",
        "myarray.insert(1, 5)\n",
        "print(myarray)"
      ],
      "execution_count": null,
      "outputs": [
        {
          "output_type": "stream",
          "text": [
            "<class 'list'>\n",
            "[1, 2, 3, '4']\n",
            "[1, 5, 2, 3, '4']\n",
            "<class 'array.array'>\n",
            "array('i', [1, 2, 3])\n",
            "array('i', [1, 5, 2, 3])\n"
          ],
          "name": "stdout"
        }
      ]
    },
    {
      "cell_type": "code",
      "metadata": {
        "colab": {
          "base_uri": "https://localhost:8080/"
        },
        "id": "oUUntEkVVM9z",
        "outputId": "7c3dedc4-3e7a-44b2-c7cd-9a94a9f6ffc0"
      },
      "source": [
        "total = 0.0\n",
        "for i in range(len(X)):\n",
        "    total = total + X[i]\n",
        "mean = total / len(X)\n",
        "\n",
        "print('sum of X: ', total)"
      ],
      "execution_count": null,
      "outputs": [
        {
          "output_type": "stream",
          "text": [
            "sum of X:  20.0\n"
          ],
          "name": "stdout"
        }
      ]
    },
    {
      "cell_type": "code",
      "metadata": {
        "colab": {
          "base_uri": "https://localhost:8080/"
        },
        "id": "HmUeXPo0W-lo",
        "outputId": "a20081b3-2771-4218-ec5c-3f172d7e8581"
      },
      "source": [
        "def median(nums):  \t\t# nums : 리스트를 지정하는 매개변수\n",
        "    nums.sort()\t\t\t\t\t# sort()로 리스트를 순서대로 정렬\n",
        "    size = len(nums)\n",
        "    p = size // 2\n",
        "    if size % 2 == 0:\t\t   # 리스트의 개수가 짝수일때 \n",
        "        pr = p                         # 4번째 값\n",
        "        pl = p-1                      # 3번째 값\n",
        "        mid= float((nums[pl]+nums[pr])/2)    \n",
        "    else:\t\t\t\t\t\t\t\t# 리스트의 개수가 홀수일때\n",
        "        mid = nums[p]\n",
        "    return mid\n",
        "\n",
        "print('X :', X)\n",
        "median(X)\t\t\t\t\t\t# 매개변수의 값으로 X를 사용함"
      ],
      "execution_count": null,
      "outputs": [
        {
          "output_type": "stream",
          "text": [
            "X : [10.0, 10.0]\n"
          ],
          "name": "stdout"
        },
        {
          "output_type": "execute_result",
          "data": {
            "text/plain": [
              "10.0"
            ]
          },
          "metadata": {
            "tags": []
          },
          "execution_count": 10
        }
      ]
    },
    {
      "cell_type": "code",
      "metadata": {
        "colab": {
          "base_uri": "https://localhost:8080/"
        },
        "id": "5yB-PIAJXxkM",
        "outputId": "6f22689f-5e5c-404a-f00f-3005e41c9d0f"
      },
      "source": [
        "def means(nums):\n",
        "    total = 0.0\n",
        "    for i in range(len(nums)):\n",
        "        total = total + nums[i]\n",
        "    return total / len(nums)\n",
        "\n",
        "means(X)"
      ],
      "execution_count": null,
      "outputs": [
        {
          "output_type": "execute_result",
          "data": {
            "text/plain": [
              "10.0"
            ]
          },
          "metadata": {
            "tags": []
          },
          "execution_count": 11
        }
      ]
    },
    {
      "cell_type": "code",
      "metadata": {
        "colab": {
          "base_uri": "https://localhost:8080/"
        },
        "id": "2I9wHtO4ZvyF",
        "outputId": "1f201893-144b-4f11-f3d4-0719119b911d"
      },
      "source": [
        "avg = means(X)\n",
        "\n",
        "def std_dev(nums, avg):\n",
        "   texp = 0.0\n",
        "   for i in range(len(nums)):\n",
        "       texp = texp + (nums[i] - avg)**2    # 각 숫자와 평균값의 차이의 제곱을 계속 더한 후\n",
        "   return (texp/(len(nums)-1)) ** 0.5    # 그 총합을 숫자개수-1로 나눈 값의 제곱근을 리턴합니다.\n",
        "\n",
        "std_dev(X,avg)"
      ],
      "execution_count": null,
      "outputs": [
        {
          "output_type": "execute_result",
          "data": {
            "text/plain": [
              "0.0"
            ]
          },
          "metadata": {
            "tags": []
          },
          "execution_count": 12
        }
      ]
    },
    {
      "cell_type": "code",
      "metadata": {
        "colab": {
          "base_uri": "https://localhost:8080/"
        },
        "id": "sw5K1piwZxpO",
        "outputId": "2f8c35f1-179a-4c24-933a-d969ba30daa6"
      },
      "source": [
        "med = median(X)\n",
        "avg = means(X)\n",
        "std = std_dev(X, avg)\n",
        "print(\"당신이 입력한 숫자{}의 \".format(X))\n",
        "print(\"중앙값은{}, 평균은{}, 표준편차는{}입니다.\".format(med, avg, std))"
      ],
      "execution_count": null,
      "outputs": [
        {
          "output_type": "stream",
          "text": [
            "당신이 입력한 숫자[10.0, 10.0]의 \n",
            "중앙값은10.0, 평균은10.0, 표준편차는0.0입니다.\n"
          ],
          "name": "stdout"
        }
      ]
    },
    {
      "cell_type": "code",
      "metadata": {
        "colab": {
          "base_uri": "https://localhost:8080/"
        },
        "id": "j7fE_duJaMVR",
        "outputId": "f45c00ec-0301-4620-aa52-a501fa3d58f6"
      },
      "source": [
        "import numpy as np\n",
        "\n",
        "# 아래 A와 B는 결과적으로 같은 ndarray 객체를 생성합니다. \n",
        "A = np.arange(5)\n",
        "B = np.array([0,1,2,3,4])  # 파이썬 리스트를 numpy ndarray로 변환\n",
        "\n",
        "# 하지만 C는 좀 다를 것입니다. \n",
        "C = np.array([0,1,2,3,'4'])\n",
        "\n",
        "# D도 A, B와 같은 결과를 내겠지만, B의 방법을 권합니다. \n",
        "D = np.ndarray((5,), np.int64, np.array([0,1,2,3,4]))\n",
        "\n",
        "print(A)\n",
        "print(type(A))\n",
        "print(B)\n",
        "print(type(B))\n",
        "print(C)\n",
        "print(type(C))\n",
        "print(D)\n",
        "print(type(D))"
      ],
      "execution_count": null,
      "outputs": [
        {
          "output_type": "stream",
          "text": [
            "[0 1 2 3 4]\n",
            "<class 'numpy.ndarray'>\n",
            "[0 1 2 3 4]\n",
            "<class 'numpy.ndarray'>\n",
            "['0' '1' '2' '3' '4']\n",
            "<class 'numpy.ndarray'>\n",
            "[0 1 2 3 4]\n",
            "<class 'numpy.ndarray'>\n"
          ],
          "name": "stdout"
        }
      ]
    },
    {
      "cell_type": "code",
      "metadata": {
        "colab": {
          "base_uri": "https://localhost:8080/"
        },
        "id": "8hmT8bxScTGa",
        "outputId": "ce647b9e-ab87-4d8f-9769-18800d5362e3"
      },
      "source": [
        "A= np.arange(6).reshape(2,3)\n",
        "print(A)\n",
        "print(A.dtype)\n",
        "print(type(A))\n"
      ],
      "execution_count": null,
      "outputs": [
        {
          "output_type": "stream",
          "text": [
            "[[0 1 2]\n",
            " [3 4 5]]\n",
            "int64\n",
            "<class 'numpy.ndarray'>\n"
          ],
          "name": "stdout"
        }
      ]
    },
    {
      "cell_type": "code",
      "metadata": {
        "colab": {
          "base_uri": "https://localhost:8080/"
        },
        "id": "70dPGSXRh7Xi",
        "outputId": "ce3381ed-5ba6-4e62-c0d5-d403a02cf7ba"
      },
      "source": [
        "C = np.array([0,1,2,3,'4',5])\n",
        "print(C)\n",
        "print(C.dtype)\n",
        "print(type(C))"
      ],
      "execution_count": null,
      "outputs": [
        {
          "output_type": "stream",
          "text": [
            "['0' '1' '2' '3' '4' '5']\n",
            "<U21\n",
            "<class 'numpy.ndarray'>\n"
          ],
          "name": "stdout"
        }
      ]
    },
    {
      "cell_type": "code",
      "metadata": {
        "colab": {
          "base_uri": "https://localhost:8080/"
        },
        "id": "8aT7WrIRh7tD",
        "outputId": "3e6297f2-8f27-4ac9-9c3f-22f70a343893"
      },
      "source": [
        "A = np.arange(24).reshape(2,3,4)\n",
        "print(A)"
      ],
      "execution_count": null,
      "outputs": [
        {
          "output_type": "stream",
          "text": [
            "[[[ 0  1  2  3]\n",
            "  [ 4  5  6  7]\n",
            "  [ 8  9 10 11]]\n",
            "\n",
            " [[12 13 14 15]\n",
            "  [16 17 18 19]\n",
            "  [20 21 22 23]]]\n"
          ],
          "name": "stdout"
        }
      ]
    },
    {
      "cell_type": "code",
      "metadata": {
        "colab": {
          "base_uri": "https://localhost:8080/"
        },
        "id": "SAL3xrMZjfgc",
        "outputId": "5c9794de-e041-4a75-e375-19c080020092"
      },
      "source": [
        "print(A.T)"
      ],
      "execution_count": null,
      "outputs": [
        {
          "output_type": "stream",
          "text": [
            "[[[ 0 12]\n",
            "  [ 4 16]\n",
            "  [ 8 20]]\n",
            "\n",
            " [[ 1 13]\n",
            "  [ 5 17]\n",
            "  [ 9 21]]\n",
            "\n",
            " [[ 2 14]\n",
            "  [ 6 18]\n",
            "  [10 22]]\n",
            "\n",
            " [[ 3 15]\n",
            "  [ 7 19]\n",
            "  [11 23]]]\n"
          ],
          "name": "stdout"
        }
      ]
    },
    {
      "cell_type": "code",
      "metadata": {
        "id": "Mh1ZnOE9kW7i"
      },
      "source": [
        "import numpy as np\n",
        "\n",
        "# 6-3 스텝에서 사용하였던 함수입니다. \n",
        "def numbers():\n",
        "    X = []\n",
        "    number = input(\"Enter a number (<Enter key> to quit)\") \n",
        "    # 하지만 2개 이상의 숫자를 받아야 한다는 제약조건을 제외하였습니다.\n",
        "    while number != \"\":\n",
        "        try:\n",
        "            x = float(number)\n",
        "            X.append(x)\n",
        "        except ValueError:\n",
        "            print('>>> NOT a number! Ignored..')\n",
        "        number = input(\"Enter a number (<Enter key> to quit)\")\n",
        "    return X\n",
        "\n",
        "def main():\n",
        "    nums = numbers()       # 이것은 파이썬 리스트입니다. \n",
        "    num = np.array(nums)   # 리스트를 Numpy ndarray로 변환합니다.\n",
        "    print(\"합\", num.sum())\n",
        "    print(\"평균값\",num.mean())\n",
        "    print(\"표준편차\",num.std())\n",
        "    print(\"중앙값\",np.median(num))   # num.median() 이 아님에 유의해 주세요.\n",
        "\n",
        "main()"
      ],
      "execution_count": null,
      "outputs": []
    },
    {
      "cell_type": "code",
      "metadata": {
        "colab": {
          "base_uri": "https://localhost:8080/"
        },
        "id": "zHXtO8BryRpp",
        "outputId": "e51a6f72-95c5-421a-9e84-9a21c1e1efed"
      },
      "source": [
        "treasure_box = {'rope': {'coin': 1, 'pcs': 2},\n",
        "                'apple': {'coin': 2, 'pcs': 10},\n",
        "                'torch': {'coin': 2, 'pcs': 6},\n",
        "                'gold coin': {'coin': 5, 'pcs': 50},\n",
        "                'knife': {'coin': 1, 'pcs': 30}}\n",
        "treasure_box['rope']"
      ],
      "execution_count": null,
      "outputs": [
        {
          "output_type": "execute_result",
          "data": {
            "text/plain": [
              "{'coin': 1, 'pcs': 2}"
            ]
          },
          "metadata": {
            "tags": []
          },
          "execution_count": 22
        }
      ]
    },
    {
      "cell_type": "code",
      "metadata": {
        "id": "M7xHgsU5ya2B"
      },
      "source": [
        "def display_stuff(treasure_box):\n",
        "    ## type your code\n",
        "    print(\"Congraturation!! you got a treasure box!!\")\n",
        "    for treasure in treasure_box:\n",
        "             print(\"You have {} {}pcs\".format(treasure, treasure_box[treasure]['pcs']))"
      ],
      "execution_count": null,
      "outputs": []
    },
    {
      "cell_type": "code",
      "metadata": {
        "id": "4Q52nwf-ydPM"
      },
      "source": [
        "def total_silver(treasure_box, coin_per_treasure):\n",
        "    ## type your code\n",
        "    total_coin = 0\n",
        "    for treasure in treasure_box:\n",
        "        coin = coin_per_treasure[treasure] * treasure_box[treasure]['pcs']\n",
        "        print(\"{} : {}coins/pcs * {}pcs = {} coins\".format(\n",
        "          treasure, coin_per_treasure[treasure], treasure_box[treasure]['pcs'], coin))\n",
        "        total_coin += coin\n",
        "    print('total_coin : ', total_coin)"
      ],
      "execution_count": null,
      "outputs": []
    },
    {
      "cell_type": "code",
      "metadata": {
        "id": "zqDkQFoKy0i4"
      },
      "source": [
        ""
      ],
      "execution_count": null,
      "outputs": []
    }
  ]
}