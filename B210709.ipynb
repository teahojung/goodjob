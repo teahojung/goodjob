{
  "nbformat": 4,
  "nbformat_minor": 0,
  "metadata": {
    "colab": {
      "name": "B210709.ipynb",
      "provenance": [],
      "collapsed_sections": [],
      "authorship_tag": "ABX9TyN54WFGM1Oab2c8/iy0lUNA",
      "include_colab_link": true
    },
    "kernelspec": {
      "name": "python3",
      "display_name": "Python 3"
    },
    "language_info": {
      "name": "python"
    }
  },
  "cells": [
    {
      "cell_type": "markdown",
      "metadata": {
        "id": "view-in-github",
        "colab_type": "text"
      },
      "source": [
        "<a href=\"https://colab.research.google.com/github/teahojung/goodjob/blob/main/B210709.ipynb\" target=\"_parent\"><img src=\"https://colab.research.google.com/assets/colab-badge.svg\" alt=\"Open In Colab\"/></a>"
      ]
    },
    {
      "cell_type": "code",
      "metadata": {
        "colab": {
          "base_uri": "https://localhost:8080/"
        },
        "id": "05pq9PQEuGYw",
        "outputId": "5519c41c-cc99-4d95-e558-fff0a8c77d4f"
      },
      "source": [
        "import numpy as np\n",
        "import pandas as pd\n",
        "import seaborn as sns\n",
        "import matplotlib.pyplot as plt\n",
        "%matplotlib inline\n",
        "%config InlineBackend.figure_format = 'retina'\n",
        "print('슝=3')"
      ],
      "execution_count": 1,
      "outputs": [
        {
          "output_type": "stream",
          "text": [
            "슝=3\n"
          ],
          "name": "stdout"
        }
      ]
    },
    {
      "cell_type": "code",
      "metadata": {
        "id": "kS6XG9vPvGeF"
      },
      "source": [
        "import os\n",
        "csv_pate = os.getenv(\"HOME\") +\"/aiffel/pokemon_eda/data/pokemon.csv\"\n",
        "original_data = pd.read_csv(csv_path)"
      ],
      "execution_count": null,
      "outputs": []
    },
    {
      "cell_type": "code",
      "metadata": {
        "id": "Fr11eTcSzC80"
      },
      "source": [
        "legendary = pokemon[pokemon[\"Legendary\"] == True].reset_index(drop=True)\n",
        "print(legendary.shape)\n",
        "legendary.head()"
      ],
      "execution_count": null,
      "outputs": []
    },
    {
      "cell_type": "code",
      "metadata": {
        "id": "EidOaDHOzhEG"
      },
      "source": [
        "ordinary = pokemon[pokemon[\"Legendary\"] == False].reset_index(drop=True)\n",
        "print(ordinary.shape)\n",
        "ordinary.head()"
      ],
      "execution_count": null,
      "outputs": []
    },
    {
      "cell_type": "code",
      "metadata": {
        "id": "U2gRPzvhzzhH"
      },
      "source": [
        "pokemon.isnull().sum() #결측치 찾는거\n",
        "len(set(pokemon[\"Name\"])) #인덱스로 사용할 유니크 찾"
      ],
      "execution_count": null,
      "outputs": []
    },
    {
      "cell_type": "code",
      "metadata": {
        "id": "CoQdM7PS1S8V"
      },
      "source": [
        "pokemon.loc[[6, 10]]\n",
        "\n",
        "len(list(set(pokemon[\"Type 1\"]))), len(list(set(pokemon[\"Type 2\"])))"
      ],
      "execution_count": null,
      "outputs": []
    },
    {
      "cell_type": "code",
      "metadata": {
        "id": "-lMKKUiG195c"
      },
      "source": [
        "types = list(set(pokemon[\"Type 1\"]))\n",
        "print(len(types))\n",
        "print(types)\n",
        "\n",
        "pokemon[\"Type 2\"].isna().sum()"
      ],
      "execution_count": null,
      "outputs": []
    },
    {
      "cell_type": "code",
      "metadata": {
        "id": "xac_hys423Jh"
      },
      "source": [
        "plt.figure(figsize)=(10, 7))\n",
        "\n",
        "plt.subplot(211)\n",
        "sns.countplot(data=ordinary, x=\"Type 1\", order=types).set_xlabel('')\n",
        "plt.title(\"[All Pokemons]\")\n",
        "\n",
        "plt.subplot(212)\n",
        "sns.countplot(data=legendary, x=\"Type 1\", order=type).set_xlabel('')\n",
        "plt.title(\"[legendary Pokemons]\")\n",
        "\n",
        "plt.show()"
      ],
      "execution_count": null,
      "outputs": []
    },
    {
      "cell_type": "code",
      "metadata": {
        "id": "F-t4jcXh8urp"
      },
      "source": [
        "pd.pivot_table(pokemon, index=\"Type 1\", values=\"Legendary\").sort_values(by=[\"Lengendary\"], ascending=False)"
      ],
      "execution_count": null,
      "outputs": []
    },
    {
      "cell_type": "code",
      "metadata": {
        "id": "NwhC_Q949J1B"
      },
      "source": [
        "plt.figure(figsize=(12, 10))\n",
        "\n",
        "plt.subplot(211)\n",
        "sns.countplot(data=ordinary, x=\"Type 2\", order=types).set_xlabel('')\n",
        "plt.title(\"[Legenary Pokemons]\")\n",
        "\n",
        "plt.show()"
      ],
      "execution_count": null,
      "outputs": []
    },
    {
      "cell_type": "code",
      "metadata": {
        "id": "TOuM_c8_-jPW"
      },
      "source": [
        "print(\"#0 pokemon: {}/n\".format(pokemon.loc[0, \"Name\"]))\n",
        "print(\"totla:\", int(pokemon.loc[0, \"Total\"]))\n",
        "print(\"stats:\", list(pokemon.loc[0, stats]))\n",
        "print(\"sum of all stats:\", sum(list(pokemon.loc[0, stats])))"
      ],
      "execution_count": null,
      "outputs": []
    },
    {
      "cell_type": "code",
      "metadata": {
        "id": "lpEJzeUW_uEE"
      },
      "source": [
        "sum(pokemon['Total'].values) == pokemo[stats].values.sum(axis=1)"
      ],
      "execution_count": null,
      "outputs": []
    },
    {
      "cell_type": "code",
      "metadata": {
        "id": "JRacrMJpA_1X"
      },
      "source": [
        "fig, ax = plt.subplots()\n",
        "fig.set_size_inches(12, 6)\n",
        "\n",
        "plt.show()\n",
        "sns.scatterplot(data=pokemon, x=\"Type 1\", y=\"Total\", hue=\"Legendary\")"
      ],
      "execution_count": null,
      "outputs": []
    },
    {
      "cell_type": "code",
      "metadata": {
        "id": "uKMh9faXBvpm"
      },
      "source": [
        "figure, ((ax1, ax2), (ax3, ax4), (ax5, ax6)) = plt.subplots(nrow=3, ncols=2)\n",
        "figure.set_size_inches(12, 18)\n"
      ],
      "execution_count": null,
      "outputs": []
    },
    {
      "cell_type": "code",
      "metadata": {
        "id": "_-nvOxMvCQjo"
      },
      "source": [
        "plt.figure(figsize=(12, 10))\n",
        "\n",
        "plt.subplot(211)\n",
        "sns.countplot(data=ordinary, x=\"Generation\".set_xlabel(''))\n",
        "plt.title(\"[All Pkemons]\")\n",
        "plt.subplot(212)\n",
        "sns.countplot(data=legendary, x=\"Generation\").set_xlabel('')\n",
        "plt.title(\"[Legendary Pkemons]\")\n",
        "plt.show()"
      ],
      "execution_count": null,
      "outputs": []
    },
    {
      "cell_type": "code",
      "metadata": {
        "colab": {
          "base_uri": "https://localhost:8080/",
          "height": 467
        },
        "id": "8128W8HLD36h",
        "outputId": "cce8efa4-50cb-4764-d36c-8c328910c0dc"
      },
      "source": [
        "fig, ax = plt.subplots()\n",
        "fig.set_size_inches(8, 4)\n",
        "\n",
        "sns.scatterplot(data=legendary, y=\"Type 1\", x=\"Total\")\n",
        "plt.show()"
      ],
      "execution_count": 2,
      "outputs": [
        {
          "output_type": "error",
          "ename": "NameError",
          "evalue": "ignored",
          "traceback": [
            "\u001b[0;31m---------------------------------------------------------------------------\u001b[0m",
            "\u001b[0;31mNameError\u001b[0m                                 Traceback (most recent call last)",
            "\u001b[0;32m<ipython-input-2-206f8c3c7eff>\u001b[0m in \u001b[0;36m<module>\u001b[0;34m()\u001b[0m\n\u001b[1;32m      2\u001b[0m \u001b[0mfig\u001b[0m\u001b[0;34m.\u001b[0m\u001b[0mset_size_inches\u001b[0m\u001b[0;34m(\u001b[0m\u001b[0;36m8\u001b[0m\u001b[0;34m,\u001b[0m \u001b[0;36m4\u001b[0m\u001b[0;34m)\u001b[0m\u001b[0;34m\u001b[0m\u001b[0;34m\u001b[0m\u001b[0m\n\u001b[1;32m      3\u001b[0m \u001b[0;34m\u001b[0m\u001b[0m\n\u001b[0;32m----> 4\u001b[0;31m \u001b[0msns\u001b[0m\u001b[0;34m.\u001b[0m\u001b[0mscatterplot\u001b[0m\u001b[0;34m(\u001b[0m\u001b[0mdata\u001b[0m\u001b[0;34m=\u001b[0m\u001b[0mlegendary\u001b[0m\u001b[0;34m,\u001b[0m \u001b[0my\u001b[0m\u001b[0;34m=\u001b[0m\u001b[0;34m\"Type 1\"\u001b[0m\u001b[0;34m,\u001b[0m \u001b[0mx\u001b[0m\u001b[0;34m=\u001b[0m\u001b[0;34m\"Total\"\u001b[0m\u001b[0;34m)\u001b[0m\u001b[0;34m\u001b[0m\u001b[0;34m\u001b[0m\u001b[0m\n\u001b[0m\u001b[1;32m      5\u001b[0m \u001b[0mplt\u001b[0m\u001b[0;34m.\u001b[0m\u001b[0mshow\u001b[0m\u001b[0;34m(\u001b[0m\u001b[0;34m)\u001b[0m\u001b[0;34m\u001b[0m\u001b[0;34m\u001b[0m\u001b[0m\n",
            "\u001b[0;31mNameError\u001b[0m: name 'legendary' is not defined"
          ]
        },
        {
          "output_type": "display_data",
          "data": {
            "image/png": "[encoded data removed]",
            "text/plain": [
              "<Figure size 576x288 with 1 Axes>"
            ]
          },
          "metadata": {
            "tags": [],
            "image/png": {
              "width": 491,
              "height": 252
            },
            "needs_background": "light"
          }
        }
      ]
    },
    {
      "cell_type": "code",
      "metadata": {
        "id": "dNYRb5nUEmJv"
      },
      "source": [
        "sorted(list(set(legendary[\"Total\"])))\n",
        "\n",
        "fig, ax = plt.subplots()\n",
        "fig.set_size_inches(8, 4)\n",
        "\n",
        "sns.countplot(data=legendary, x=\"Total\")"
      ],
      "execution_count": null,
      "outputs": []
    },
    {
      "cell_type": "code",
      "metadata": {
        "id": "0kehH8BtIV6f"
      },
      "source": [
        "n1, n2, n3, n4, n5 = legendary[3:6], legendary[14:25], legendary[25:29], legendary[46:50], legendary[52:57]\n",
        "names = pd.concat([n1, n2, n3, n4, n5]).reset_index(drop=True)\n",
        "names"
      ],
      "execution_count": null,
      "outputs": []
    },
    {
      "cell_type": "code",
      "metadata": {
        "id": "gA2iFfgcJJEz"
      },
      "source": [
        "formes = names[13:23]"
      ],
      "execution_count": null,
      "outputs": []
    },
    {
      "cell_type": "code",
      "metadata": {
        "id": "LLWuoyimJal_"
      },
      "source": [
        "legendary[\"name_count\"] = legendary[\"Name\"].apply(lambada i: len(i))\n",
        "legendary.head()"
      ],
      "execution_count": null,
      "outputs": []
    },
    {
      "cell_type": "code",
      "metadata": {
        "id": "xKJrGXUuKt7J"
      },
      "source": [
        "ordinary[\"name_count\"] = ordinary[\"Name\"].apply(lambda i: len(i))\n",
        "ordinary.head()"
      ],
      "execution_count": null,
      "outputs": []
    },
    {
      "cell_type": "code",
      "metadata": {
        "id": "yz04j61VK4Uf"
      },
      "source": [
        "plt.figure(figsize=(12, 10))\n",
        "\n",
        "plt.subplot(211)\n",
        "sns.countplot(data=legendary, x=\"name_count\").set_xlabel('')\n",
        "plt.title(\"legendary\")\n",
        "plt.subplot(212)\n",
        "sns.countplot(data=ordinary, x=\"name_count\").set_xlabel('')\n",
        "plt.title(\"ordinary\")\n",
        "plt.show()"
      ],
      "execution_count": null,
      "outputs": []
    },
    {
      "cell_type": "code",
      "metadata": {
        "colab": {
          "base_uri": "https://localhost:8080/",
          "height": 181
        },
        "id": "GiNdngphOB7c",
        "outputId": "5b261ad6-6237-4cc4-9f24-4d9e6fb54956"
      },
      "source": [
        "pokemon[\"name_count\"] = pokemon[\"Name\"].apply(lambda i: len(i))\n",
        "pokemon.head()"
      ],
      "execution_count": 3,
      "outputs": [
        {
          "output_type": "error",
          "ename": "NameError",
          "evalue": "ignored",
          "traceback": [
            "\u001b[0;31m---------------------------------------------------------------------------\u001b[0m",
            "\u001b[0;31mNameError\u001b[0m                                 Traceback (most recent call last)",
            "\u001b[0;32m<ipython-input-3-04f16090dd71>\u001b[0m in \u001b[0;36m<module>\u001b[0;34m()\u001b[0m\n\u001b[0;32m----> 1\u001b[0;31m \u001b[0mpokemon\u001b[0m\u001b[0;34m[\u001b[0m\u001b[0;34m\"name_count\"\u001b[0m\u001b[0;34m]\u001b[0m \u001b[0;34m=\u001b[0m \u001b[0mpokemon\u001b[0m\u001b[0;34m[\u001b[0m\u001b[0;34m\"Name\"\u001b[0m\u001b[0;34m]\u001b[0m\u001b[0;34m.\u001b[0m\u001b[0mapply\u001b[0m\u001b[0;34m(\u001b[0m\u001b[0;32mlambda\u001b[0m \u001b[0mi\u001b[0m\u001b[0;34m:\u001b[0m \u001b[0mlen\u001b[0m\u001b[0;34m(\u001b[0m\u001b[0mi\u001b[0m\u001b[0;34m)\u001b[0m\u001b[0;34m)\u001b[0m\u001b[0;34m\u001b[0m\u001b[0;34m\u001b[0m\u001b[0m\n\u001b[0m\u001b[1;32m      2\u001b[0m \u001b[0mpokemon\u001b[0m\u001b[0;34m.\u001b[0m\u001b[0mhead\u001b[0m\u001b[0;34m(\u001b[0m\u001b[0;34m)\u001b[0m\u001b[0;34m\u001b[0m\u001b[0;34m\u001b[0m\u001b[0m\n",
            "\u001b[0;31mNameError\u001b[0m: name 'pokemon' is not defined"
          ]
        }
      ]
    },
    {
      "cell_type": "code",
      "metadata": {
        "id": "w0wVqH7YOK1U"
      },
      "source": [
        "pokemon[\"long_name\"] = pokemon[\"name_count\"] >= 10\n",
        "pokemon.head()"
      ],
      "execution_count": null,
      "outputs": []
    },
    {
      "cell_type": "code",
      "metadata": {
        "id": "MEKLVM3OOVwb"
      },
      "source": [
        "pokemon[\"Name_nospace\"] = pokemon[\"Name\"].apply(lambda i: i.replace(\" \",\"\"))\n",
        "pokemon.tail()"
      ],
      "execution_count": null,
      "outputs": []
    },
    {
      "cell_type": "code",
      "metadata": {
        "id": "ETGWOlzTPf-E"
      },
      "source": [
        "pokemon[\"name_isalpha\"] = pokemon[\"Name_nospace\"].apply(lambda i: i.isalpha())\n",
        "pokemon.head()"
      ],
      "execution_count": null,
      "outputs": []
    },
    {
      "cell_type": "code",
      "metadata": {
        "id": "l6a9BrrEQWwT"
      },
      "source": [
        "temp = name_split[0]\n",
        "temp"
      ],
      "execution_count": null,
      "outputs": []
    },
    {
      "cell_type": "code",
      "metadata": {
        "id": "jVBqcW5NQgv4"
      },
      "source": [
        "tokens = re.findall('[A-Z][a-z]*', temp)\n",
        "tokens"
      ],
      "execution_count": null,
      "outputs": []
    },
    {
      "cell_type": "code",
      "metadata": {
        "id": "ARwPFfa6RHJB"
      },
      "source": [
        "tokens = []\n",
        "for part_name in name_split:\n",
        "    a = re.findall('[A-Z][a-z]*', part_name)\n",
        "    tokens.extend(a)\n",
        "tokens"
      ],
      "execution_count": null,
      "outputs": []
    },
    {
      "cell_type": "code",
      "metadata": {
        "id": "5iXu0FHQRr3_"
      },
      "source": [
        "def tokenize(name):\n",
        "    name_split = name.split(\"\")\n",
        "\n",
        "    tokens = []\n",
        "    for part_name in name_split:\n",
        "        a = re.findall('[A-Z][a-z]*', part_name)\n",
        "        tokens.extend(a)\n",
        "\n",
        "    return np.array(tokens)"
      ],
      "execution_count": null,
      "outputs": []
    },
    {
      "cell_type": "code",
      "metadata": {
        "id": "domIMM9RhZqP"
      },
      "source": [
        "name = \"CharizardMega Charizard X\"\n",
        "tokenize(name)"
      ],
      "execution_count": null,
      "outputs": []
    },
    {
      "cell_type": "code",
      "metadata": {
        "id": "OMSC6vVjik6r"
      },
      "source": [
        "all_tokens = list(legendary[\"Name\"].apply(tokenize).values)\n",
        "\n",
        "token_set = []\n",
        "for token in all_token:\n",
        "    token_set.extend(token)\n",
        "\n",
        "print(len(set(token_set)))\n",
        "print(token_set)"
      ],
      "execution_count": null,
      "outputs": []
    },
    {
      "cell_type": "code",
      "metadata": {
        "colab": {
          "base_uri": "https://localhost:8080/"
        },
        "id": "2MaiEOeejG7l",
        "outputId": "540c103b-19b0-4e97-dc49-a05ad32480ed"
      },
      "source": [
        "from collections import Counter\n",
        "a = [1, 1, 0, 0, 0, 1, 1, 2, 3]\n",
        "Counter(a)"
      ],
      "execution_count": 4,
      "outputs": [
        {
          "output_type": "execute_result",
          "data": {
            "text/plain": [
              "Counter({0: 3, 1: 4, 2: 1, 3: 1})"
            ]
          },
          "metadata": {
            "tags": []
          },
          "execution_count": 4
        }
      ]
    },
    {
      "cell_type": "code",
      "metadata": {
        "colab": {
          "base_uri": "https://localhost:8080/"
        },
        "id": "VjRUKCyrjS1d",
        "outputId": "1b71f4c6-0741-4b98-f5fa-6b4c75e02cd9"
      },
      "source": [
        "Counter(a).most_common()"
      ],
      "execution_count": 7,
      "outputs": [
        {
          "output_type": "execute_result",
          "data": {
            "text/plain": [
              "[(1, 4), (0, 3), (2, 1), (3, 1)]"
            ]
          },
          "metadata": {
            "tags": []
          },
          "execution_count": 7
        }
      ]
    },
    {
      "cell_type": "code",
      "metadata": {
        "colab": {
          "base_uri": "https://localhost:8080/",
          "height": 181
        },
        "id": "WtBpUBBujZs5",
        "outputId": "a047f563-4722-49b8-a96f-2d5282c2b130"
      },
      "source": [
        "most_common = Counter(token_set).most_common(10)\n",
        "most_common"
      ],
      "execution_count": 8,
      "outputs": [
        {
          "output_type": "error",
          "ename": "NameError",
          "evalue": "ignored",
          "traceback": [
            "\u001b[0;31m---------------------------------------------------------------------------\u001b[0m",
            "\u001b[0;31mNameError\u001b[0m                                 Traceback (most recent call last)",
            "\u001b[0;32m<ipython-input-8-7dc3ed2a286c>\u001b[0m in \u001b[0;36m<module>\u001b[0;34m()\u001b[0m\n\u001b[0;32m----> 1\u001b[0;31m \u001b[0mmost_common\u001b[0m \u001b[0;34m=\u001b[0m \u001b[0mCounter\u001b[0m\u001b[0;34m(\u001b[0m\u001b[0mtoken_set\u001b[0m\u001b[0;34m)\u001b[0m\u001b[0;34m.\u001b[0m\u001b[0mmost_common\u001b[0m\u001b[0;34m(\u001b[0m\u001b[0;36m10\u001b[0m\u001b[0;34m)\u001b[0m\u001b[0;34m\u001b[0m\u001b[0;34m\u001b[0m\u001b[0m\n\u001b[0m\u001b[1;32m      2\u001b[0m \u001b[0mmost_common\u001b[0m\u001b[0;34m\u001b[0m\u001b[0;34m\u001b[0m\u001b[0m\n",
            "\u001b[0;31mNameError\u001b[0m: name 'token_set' is not defined"
          ]
        }
      ]
    },
    {
      "cell_type": "code",
      "metadata": {
        "colab": {
          "base_uri": "https://localhost:8080/",
          "height": 215
        },
        "id": "QBv0aG-ajmxD",
        "outputId": "1066b7ca-ab41-4f80-81a6-8b33b4f1b554"
      },
      "source": [
        "for token, _ in most_common:\n",
        "    pokemon[token] = pokemon[\"Name\"].str.contains(token)\n",
        "\n",
        "pokemon.head(10)"
      ],
      "execution_count": 9,
      "outputs": [
        {
          "output_type": "error",
          "ename": "NameError",
          "evalue": "ignored",
          "traceback": [
            "\u001b[0;31m---------------------------------------------------------------------------\u001b[0m",
            "\u001b[0;31mNameError\u001b[0m                                 Traceback (most recent call last)",
            "\u001b[0;32m<ipython-input-9-69b4b3ac2958>\u001b[0m in \u001b[0;36m<module>\u001b[0;34m()\u001b[0m\n\u001b[0;32m----> 1\u001b[0;31m \u001b[0;32mfor\u001b[0m \u001b[0mtoken\u001b[0m\u001b[0;34m,\u001b[0m \u001b[0m_\u001b[0m \u001b[0;32min\u001b[0m \u001b[0mmost_common\u001b[0m\u001b[0;34m:\u001b[0m\u001b[0;34m\u001b[0m\u001b[0;34m\u001b[0m\u001b[0m\n\u001b[0m\u001b[1;32m      2\u001b[0m     \u001b[0mpokemon\u001b[0m\u001b[0;34m[\u001b[0m\u001b[0mtoken\u001b[0m\u001b[0;34m]\u001b[0m \u001b[0;34m=\u001b[0m \u001b[0mpokemon\u001b[0m\u001b[0;34m[\u001b[0m\u001b[0;34m\"Name\"\u001b[0m\u001b[0;34m]\u001b[0m\u001b[0;34m.\u001b[0m\u001b[0mstr\u001b[0m\u001b[0;34m.\u001b[0m\u001b[0mcontains\u001b[0m\u001b[0;34m(\u001b[0m\u001b[0mtoken\u001b[0m\u001b[0;34m)\u001b[0m\u001b[0;34m\u001b[0m\u001b[0;34m\u001b[0m\u001b[0m\n\u001b[1;32m      3\u001b[0m \u001b[0;34m\u001b[0m\u001b[0m\n\u001b[1;32m      4\u001b[0m \u001b[0mpokemon\u001b[0m\u001b[0;34m.\u001b[0m\u001b[0mhead\u001b[0m\u001b[0;34m(\u001b[0m\u001b[0;36m10\u001b[0m\u001b[0;34m)\u001b[0m\u001b[0;34m\u001b[0m\u001b[0;34m\u001b[0m\u001b[0m\n",
            "\u001b[0;31mNameError\u001b[0m: name 'most_common' is not defined"
          ]
        }
      ]
    },
    {
      "cell_type": "code",
      "metadata": {
        "id": "LpOS4IhNj-ER"
      },
      "source": [
        "for t in types:\n",
        "    pokemon[t] = (pokemon[\"Type 1\"] == t) | (pokemon[\"Type 2\"] == t)\n",
        "\n",
        "pokemon [[[\"Type 1\", \"Type 2\"] + types][0]].head"
      ],
      "execution_count": null,
      "outputs": []
    },
    {
      "cell_type": "code",
      "metadata": {
        "id": "z-ZeeQ_zlppZ"
      },
      "source": [
        "print(original_data.shape)\n",
        "original_data.head()"
      ],
      "execution_count": null,
      "outputs": []
    },
    {
      "cell_type": "code",
      "metadata": {
        "id": "juB43fDdl4h3"
      },
      "source": [
        "features = ['Totla']"
      ],
      "execution_count": null,
      "outputs": []
    },
    {
      "cell_type": "code",
      "metadata": {
        "id": "-3-9XkP7l-Fn"
      },
      "source": [
        "X = original_data[features]\n",
        "print(X.shape)\n",
        "X.head()"
      ],
      "execution_count": null,
      "outputs": []
    },
    {
      "cell_type": "code",
      "metadata": {
        "id": "NQfA1a0Voi8D"
      },
      "source": [
        "y = original_data[target]\n",
        "print(y.shape)\n",
        "y.head()"
      ],
      "execution_count": null,
      "outputs": []
    },
    {
      "cell_type": "code",
      "metadata": {
        "id": "FxXjxtW4opla"
      },
      "source": [
        "from sklear.model_selection import train_test_split\n",
        "\n",
        "X_train, X_test, ytrain, y_test = train_test_split(X, y, test_size=0.2, random_state=15)\n",
        "\n",
        "print(X_train.shape, y_train.shape)\n",
        "print(X_test.shape, y_test.shape)"
      ],
      "execution_count": null,
      "outputs": []
    },
    {
      "cell_type": "code",
      "metadata": {
        "colab": {
          "base_uri": "https://localhost:8080/"
        },
        "id": "dumRJbp9ptR6",
        "outputId": "c723c441-0810-4354-eef8-f8acca34639e"
      },
      "source": [
        "from sklearn.tree import DecisionTreeClassifier\n",
        "print('슝=3')"
      ],
      "execution_count": 10,
      "outputs": [
        {
          "output_type": "stream",
          "text": [
            "슝=3\n"
          ],
          "name": "stdout"
        }
      ]
    },
    {
      "cell_type": "code",
      "metadata": {
        "colab": {
          "base_uri": "https://localhost:8080/"
        },
        "id": "YvwEQG42p_9a",
        "outputId": "67ed83f8-64ce-482f-b18c-3dfa5e55e368"
      },
      "source": [
        "model = DecisionTreeClassifier(random_state=25)\n",
        "model"
      ],
      "execution_count": 11,
      "outputs": [
        {
          "output_type": "execute_result",
          "data": {
            "text/plain": [
              "DecisionTreeClassifier(ccp_alpha=0.0, class_weight=None, criterion='gini',\n",
              "                       max_depth=None, max_features=None, max_leaf_nodes=None,\n",
              "                       min_impurity_decrease=0.0, min_impurity_split=None,\n",
              "                       min_samples_leaf=1, min_samples_split=2,\n",
              "                       min_weight_fraction_leaf=0.0, presort='deprecated',\n",
              "                       random_state=25, splitter='best')"
            ]
          },
          "metadata": {
            "tags": []
          },
          "execution_count": 11
        }
      ]
    },
    {
      "cell_type": "code",
      "metadata": {
        "id": "Hn1KiOSbp_1H"
      },
      "source": [
        "model.fit(X_train, y_train)\n",
        "y_pred = model.predict(X_test)\n",
        "print('슝=3')"
      ],
      "execution_count": null,
      "outputs": []
    },
    {
      "cell_type": "code",
      "metadata": {
        "id": "SjdVeDFoqWi8"
      },
      "source": [
        "from sklearn.metrics import confusion_matrix\n",
        "confusion_matrix(y_test, y_pred)"
      ],
      "execution_count": null,
      "outputs": []
    },
    {
      "cell_type": "code",
      "metadata": {
        "id": "D_BAU_ItrGw9"
      },
      "source": [
        "from sklearn.metrics import. classification_report\n",
        "print(classification_report(y_test, y_pred))"
      ],
      "execution_count": null,
      "outputs": []
    }
  ]
}