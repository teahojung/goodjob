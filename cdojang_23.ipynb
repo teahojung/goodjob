{
  "nbformat": 4,
  "nbformat_minor": 0,
  "metadata": {
    "colab": {
      "name": "cdojang_23.ipynb",
      "provenance": [],
      "authorship_tag": "ABX9TyPQ/OwFlOw6e/2aLdSAoOE7",
      "include_colab_link": true
    },
    "kernelspec": {
      "name": "python3",
      "display_name": "Python 3"
    },
    "language_info": {
      "name": "python"
    }
  },
  "cells": [
    {
      "cell_type": "markdown",
      "metadata": {
        "id": "view-in-github",
        "colab_type": "text"
      },
      "source": [
        "<a href=\"https://colab.research.google.com/github/teahojung/goodjob/blob/main/cdojang_23.ipynb\" target=\"_parent\"><img src=\"https://colab.research.google.com/assets/colab-badge.svg\" alt=\"Open In Colab\"/></a>"
      ]
    },
    {
      "cell_type": "markdown",
      "metadata": {
        "id": "knGfE9gl1Aj9"
      },
      "source": [
        "[코딩도장] 23강 2차원 리스트"
      ]
    },
    {
      "cell_type": "markdown",
      "metadata": {
        "id": "mk2tnL3c1MxV"
      },
      "source": [
        "for 반복문을 한번만 사용하기"
      ]
    },
    {
      "cell_type": "code",
      "metadata": {
        "colab": {
          "base_uri": "https://localhost:8080/"
        },
        "id": "qUBrVEgXy0TN",
        "outputId": "1330829e-d8e2-4492-ae95-4952fd81f5cc"
      },
      "source": [
        "a = [[10, 20], [30, 40], [50, 60]]\n",
        "for x, y in a:\n",
        "  print(x,y)"
      ],
      "execution_count": null,
      "outputs": [
        {
          "output_type": "stream",
          "text": [
            "10 20\n",
            "30 40\n",
            "50 60\n"
          ],
          "name": "stdout"
        }
      ]
    },
    {
      "cell_type": "markdown",
      "metadata": {
        "id": "gRb1z_ZA1QVt"
      },
      "source": [
        "for 반복문을 두 번 사용하기"
      ]
    },
    {
      "cell_type": "code",
      "metadata": {
        "colab": {
          "base_uri": "https://localhost:8080/"
        },
        "id": "VNTOkkXkzNqc",
        "outputId": "5c6d909a-030f-4fb0-d22b-f2bf490340e4"
      },
      "source": [
        "a = [[10, 20], [30, 40], [50, 60]]\n",
        "\n",
        "for i in a:\n",
        "    for j in i:\n",
        "         print(j, end = '|')\n",
        "    print()"
      ],
      "execution_count": null,
      "outputs": [
        {
          "output_type": "stream",
          "text": [
            "10|20|\n",
            "30|40|\n",
            "50|60|\n"
          ],
          "name": "stdout"
        }
      ]
    },
    {
      "cell_type": "markdown",
      "metadata": {
        "id": "LsZO1FEh1Yu-"
      },
      "source": [
        "for와 range 사용하기"
      ]
    },
    {
      "cell_type": "code",
      "metadata": {
        "colab": {
          "base_uri": "https://localhost:8080/"
        },
        "id": "psP0zJuQzebX",
        "outputId": "7bb89ce1-096f-41d0-fb0e-de5f3e05e27d"
      },
      "source": [
        "a = [[10, 20], [30, 40], [50, 60]]\n",
        "\n",
        "for i in range(len(a)):\n",
        "    for j in range(len(a[i])):\n",
        "        print(a[i][j], end = ' ')\n",
        "    print()"
      ],
      "execution_count": null,
      "outputs": [
        {
          "output_type": "stream",
          "text": [
            "10 20 \n",
            "30 40 \n",
            "50 60 \n"
          ],
          "name": "stdout"
        }
      ]
    },
    {
      "cell_type": "markdown",
      "metadata": {
        "id": "BYP6znfa1ePS"
      },
      "source": [
        "while 반복문을 한 번 사용하기"
      ]
    },
    {
      "cell_type": "code",
      "metadata": {
        "colab": {
          "base_uri": "https://localhost:8080/"
        },
        "id": "y0q7XVWh1JoO",
        "outputId": "0983f2e2-48c6-4330-8981-82c038c2e5e7"
      },
      "source": [
        "a = [[10, 20], [30, 40], [50, 60]]\n",
        "\n",
        "i = 0\n",
        "while i < len(a):\n",
        "     x, y = a[i]\n",
        "     print(x, y)\n",
        "     i += 1"
      ],
      "execution_count": null,
      "outputs": [
        {
          "output_type": "stream",
          "text": [
            "10 20\n",
            "30 40\n",
            "50 60\n"
          ],
          "name": "stdout"
        }
      ]
    },
    {
      "cell_type": "markdown",
      "metadata": {
        "id": "wwpEFlp72juJ"
      },
      "source": [
        "while 반복문을 두 번 사용하기"
      ]
    },
    {
      "cell_type": "code",
      "metadata": {
        "colab": {
          "base_uri": "https://localhost:8080/"
        },
        "id": "d8YBEtaG1yom",
        "outputId": "98d84834-a33f-49c0-e00e-8dedb1ed1348"
      },
      "source": [
        "a = [[10, 20], [30, 40], [50, 60]]\n",
        "\n",
        "i = 0\n",
        "while i < len(a):\n",
        "    j = 0\n",
        "    while j < len(a[i]):\n",
        "        print(a[i][j], end = ' ')\n",
        "        j += 1\n",
        "    print()\n",
        "    i += 1"
      ],
      "execution_count": null,
      "outputs": [
        {
          "output_type": "stream",
          "text": [
            "10 20 \n",
            "30 40 \n",
            "50 60 \n"
          ],
          "name": "stdout"
        }
      ]
    },
    {
      "cell_type": "markdown",
      "metadata": {
        "id": "P6_Oynzx3Fwl"
      },
      "source": [
        "\n",
        "for 반복문으로 1차원 리스트 만들기"
      ]
    },
    {
      "cell_type": "code",
      "metadata": {
        "colab": {
          "base_uri": "https://localhost:8080/"
        },
        "id": "UBvh3zRb3LLz",
        "outputId": "c5cb5f20-000d-42d1-9cb4-94589570a814"
      },
      "source": [
        "a = []\n",
        "\n",
        "for i in range(10):\n",
        "    a.append(0)\n",
        "\n",
        "print(a)"
      ],
      "execution_count": null,
      "outputs": [
        {
          "output_type": "stream",
          "text": [
            "[0, 0, 0, 0, 0, 0, 0, 0, 0, 0]\n"
          ],
          "name": "stdout"
        }
      ]
    },
    {
      "cell_type": "markdown",
      "metadata": {
        "id": "CEauYC7H3ZpC"
      },
      "source": [
        "for 반복문으로 2차원 리스트 만들기"
      ]
    },
    {
      "cell_type": "code",
      "metadata": {
        "colab": {
          "base_uri": "https://localhost:8080/"
        },
        "id": "GRSaNC3D3ZKV",
        "outputId": "f434a50d-254f-4ad8-9868-6d2985fb30f0"
      },
      "source": [
        "a = []\n",
        "\n",
        "for i in range(3):\n",
        "    line = []\n",
        "    for j in range(2):\n",
        "        line.append(0)\n",
        "    a.append(line)\n",
        "\n",
        "print(a)"
      ],
      "execution_count": null,
      "outputs": [
        {
          "output_type": "stream",
          "text": [
            "[[0, 0], [0, 0], [0, 0]]\n"
          ],
          "name": "stdout"
        }
      ]
    },
    {
      "cell_type": "markdown",
      "metadata": {
        "id": "uKiNDHuE34C6"
      },
      "source": [
        "리스트 표현식으로 2차원 리스트 만들기"
      ]
    },
    {
      "cell_type": "code",
      "metadata": {
        "colab": {
          "base_uri": "https://localhost:8080/"
        },
        "id": "0SFupkXq3W6G",
        "outputId": "0d097dc6-ec3b-4691-8aaa-81dc29e4195f"
      },
      "source": [
        "a = [[0 for j in range(2)] for i in range(3)]\n",
        "a"
      ],
      "execution_count": null,
      "outputs": [
        {
          "output_type": "execute_result",
          "data": {
            "text/plain": [
              "[[0, 0], [0, 0], [0, 0]]"
            ]
          },
          "metadata": {
            "tags": []
          },
          "execution_count": 2
        }
      ]
    },
    {
      "cell_type": "code",
      "metadata": {
        "colab": {
          "base_uri": "https://localhost:8080/"
        },
        "id": "mt8EOqjJalWs",
        "outputId": "bceb6964-e703-4f3b-bbe0-bb1ab1b2d873"
      },
      "source": [
        "a = [[0] * 2 for i in range(3)]\n",
        "a"
      ],
      "execution_count": null,
      "outputs": [
        {
          "output_type": "execute_result",
          "data": {
            "text/plain": [
              "[[0, 0], [0, 0], [0, 0]]"
            ]
          },
          "metadata": {
            "tags": []
          },
          "execution_count": 4
        }
      ]
    },
    {
      "cell_type": "markdown",
      "metadata": {
        "id": "tEZs3tKcavyV"
      },
      "source": [
        "톱니형 리스트 만들기"
      ]
    },
    {
      "cell_type": "code",
      "metadata": {
        "colab": {
          "base_uri": "https://localhost:8080/"
        },
        "id": "XMzJDDJVayiH",
        "outputId": "2b0fda65-19ac-4879-ab3e-e58fdc9a6183"
      },
      "source": [
        "a = [3, 1, 3, 2, 5]\n",
        "b = []\n",
        "\n",
        "for i in a:\n",
        "    line = []\n",
        "    for j in range(i):\n",
        "        line.append(0)\n",
        "    b.append(line)\n",
        "\n",
        "print(b)"
      ],
      "execution_count": null,
      "outputs": [
        {
          "output_type": "stream",
          "text": [
            "[[0, 0, 0], [0], [0, 0, 0], [0, 0], [0, 0, 0, 0, 0]]\n"
          ],
          "name": "stdout"
        }
      ]
    },
    {
      "cell_type": "code",
      "metadata": {
        "colab": {
          "base_uri": "https://localhost:8080/"
        },
        "id": "FE9RoNLWlHJM",
        "outputId": "dee9f0a8-ea9d-4982-e495-0a92c7839661"
      },
      "source": [
        "a = [[0] * i for i in [3, 1, 3, 2, 5]]\n",
        "a"
      ],
      "execution_count": null,
      "outputs": [
        {
          "output_type": "execute_result",
          "data": {
            "text/plain": [
              "[[0, 0, 0], [0], [0, 0, 0], [0, 0], [0, 0, 0, 0, 0]]"
            ]
          },
          "metadata": {
            "tags": []
          },
          "execution_count": 20
        }
      ]
    },
    {
      "cell_type": "markdown",
      "metadata": {
        "id": "hB9zToNvmPpd"
      },
      "source": [
        "솔티드로 2차원 리스트 정렬하기"
      ]
    },
    {
      "cell_type": "code",
      "metadata": {
        "colab": {
          "base_uri": "https://localhost:8080/"
        },
        "id": "QHwMnMgXmOuU",
        "outputId": "a60501c1-2420-4c71-f985-0adfe85c2ba6"
      },
      "source": [
        "students = [\n",
        "            ['john', 'C', 7],\n",
        "            ['maria', 'A', 25],\n",
        "            ['andrew', 'B', 19]\n",
        "]\n",
        "print(sorted(students, key=lambda student: student[0]))"
      ],
      "execution_count": null,
      "outputs": [
        {
          "output_type": "stream",
          "text": [
            "[['andrew', 'B', 19], ['john', 'C', 7], ['maria', 'A', 25]]\n"
          ],
          "name": "stdout"
        }
      ]
    },
    {
      "cell_type": "code",
      "metadata": {
        "colab": {
          "base_uri": "https://localhost:8080/"
        },
        "id": "4L_toGEfnCUX",
        "outputId": "05dfd244-cab8-4575-cc6a-3c283ddefdd8"
      },
      "source": [
        "a = [[10, 20], [30, 40]]\n",
        "b = a\n",
        "b[0][0] = 500\n",
        "b"
      ],
      "execution_count": null,
      "outputs": [
        {
          "output_type": "execute_result",
          "data": {
            "text/plain": [
              "[[500, 20], [30, 40]]"
            ]
          },
          "metadata": {
            "tags": []
          },
          "execution_count": 28
        }
      ]
    },
    {
      "cell_type": "code",
      "metadata": {
        "colab": {
          "base_uri": "https://localhost:8080/"
        },
        "id": "2vUMGctDoPMw",
        "outputId": "4ad063b5-978a-4ac6-f37d-22dd35903d18"
      },
      "source": [
        "a = [[10,20], [30, 40]]\n",
        "b = a.copy()\n",
        "b[0][0] = 500\n",
        "b"
      ],
      "execution_count": null,
      "outputs": [
        {
          "output_type": "execute_result",
          "data": {
            "text/plain": [
              "[[500, 20], [30, 40]]"
            ]
          },
          "metadata": {
            "tags": []
          },
          "execution_count": 30
        }
      ]
    },
    {
      "cell_type": "code",
      "metadata": {
        "colab": {
          "base_uri": "https://localhost:8080/"
        },
        "id": "Gw9RGQWlofFt",
        "outputId": "4cd11a80-4b25-476d-fbc7-ccbb464e2351"
      },
      "source": [
        "a = [[10, 20], [30, 40]]\n",
        "import copy\n",
        "b = copy.deepcopy(a)\n",
        "b[0][0] = 500\n",
        "b"
      ],
      "execution_count": null,
      "outputs": [
        {
          "output_type": "execute_result",
          "data": {
            "text/plain": [
              "[[500, 20], [30, 40]]"
            ]
          },
          "metadata": {
            "tags": []
          },
          "execution_count": 33
        }
      ]
    },
    {
      "cell_type": "markdown",
      "metadata": {
        "id": "qmW1bzbVra-a"
      },
      "source": [
        "연습문제"
      ]
    },
    {
      "cell_type": "code",
      "metadata": {
        "colab": {
          "base_uri": "https://localhost:8080/"
        },
        "id": "dqGDmfHrrcvS",
        "outputId": "09c609c8-2751-4748-9597-aeae942ff329"
      },
      "source": [
        "[[[0 for col in range(3)] for row in range(4)] for depth in range(2)]"
      ],
      "execution_count": null,
      "outputs": [
        {
          "output_type": "execute_result",
          "data": {
            "text/plain": [
              "[[[0, 0, 0], [0, 0, 0], [0, 0, 0], [0, 0, 0]],\n",
              " [[0, 0, 0], [0, 0, 0], [0, 0, 0], [0, 0, 0]]]"
            ]
          },
          "metadata": {
            "tags": []
          },
          "execution_count": 38
        }
      ]
    },
    {
      "cell_type": "markdown",
      "metadata": {
        "id": "jjYr5WafrxfC"
      },
      "source": [
        "리스트[높이인덱스][세로인덱스][가로인덱스]\n",
        "\n",
        "리스트[높이인덱스][세로인덱스][가로인덱스] = 값"
      ]
    }
  ]
}