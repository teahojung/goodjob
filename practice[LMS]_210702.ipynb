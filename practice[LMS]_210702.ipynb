{
  "nbformat": 4,
  "nbformat_minor": 0,
  "metadata": {
    "colab": {
      "name": "practice[LMS]_210702.ipynb",
      "provenance": [],
      "collapsed_sections": [],
      "authorship_tag": "ABX9TyMhvbxtN3MSF0PEjDtFvyOr",
      "include_colab_link": true
    },
    "kernelspec": {
      "name": "python3",
      "display_name": "Python 3"
    },
    "language_info": {
      "name": "python"
    }
  },
  "cells": [
    {
      "cell_type": "markdown",
      "metadata": {
        "id": "view-in-github",
        "colab_type": "text"
      },
      "source": [
        "<a href=\"https://colab.research.google.com/github/teahojung/goodjob/blob/main/practice%5BLMS%5D_210702.ipynb\" target=\"_parent\"><img src=\"https://colab.research.google.com/assets/colab-badge.svg\" alt=\"Open In Colab\"/></a>"
      ]
    },
    {
      "cell_type": "markdown",
      "metadata": {
        "id": "feYUok2wqZaR"
      },
      "source": [
        "[LMS 5강 텍스트]\n",
        "\n"
      ]
    },
    {
      "cell_type": "code",
      "metadata": {
        "colab": {
          "base_uri": "https://localhost:8080/"
        },
        "id": "Bq3wogHZqc1d",
        "outputId": "ce2a2131-6d5f-4e4d-c1cf-ce1ba671a00d"
      },
      "source": [
        "my_str = 'Welcome!'\n",
        "ur_str = \"you're welcome.\"\n",
        "\n",
        "print(my_str)\n",
        "print(ur_str)"
      ],
      "execution_count": null,
      "outputs": [
        {
          "output_type": "stream",
          "text": [
            "Welcome!\n",
            "you're welcome.\n"
          ],
          "name": "stdout"
        }
      ]
    },
    {
      "cell_type": "markdown",
      "metadata": {
        "id": "ZjbVVFmxt7xm"
      },
      "source": [
        "startswith, endswith"
      ]
    },
    {
      "cell_type": "code",
      "metadata": {
        "id": "dGha7WF_t_g_"
      },
      "source": [
        "#startswith는 시작 문자에서 찾기\n",
        "EmployeeID = ['OB94382', 'OW34723', 'OB32308', 'OB83461', \n",
        "                                  'OB74830', 'OW37402', 'OW11235', 'OB82345'] \n",
        "Production_Employee = [P for P in EmployeeID if P.startswith('OB')]   # 'OB'로 시작하는 직원 ID를 다 찾아봅니다\n",
        "Production_Employee"
      ],
      "execution_count": null,
      "outputs": []
    },
    {
      "cell_type": "markdown",
      "metadata": {
        "id": "uu8mE60wuvdD"
      },
      "source": [
        "사진파일 찾기"
      ]
    },
    {
      "cell_type": "code",
      "metadata": {
        "id": "8HGsvwQXuw22"
      },
      "source": [
        "import os\n",
        "image_dir_path = os.getenv(\"HOME\") + \"/data/pictures\"   \n",
        "#- 각자의 사진이 보관된 디렉토리를 골라 주세요.\n",
        "photo = os.listdir(image_dir_path )\n",
        "png = [png for png in photo if png.endswith('.png')]\n",
        "print(png)"
      ],
      "execution_count": null,
      "outputs": []
    },
    {
      "cell_type": "markdown",
      "metadata": {
        "id": "9YcNlFeru3SK"
      },
      "source": [
        "공백문자처리 trimming\n",
        "\n",
        "스페이스\n",
        "탭 /trimming\n",
        "라인피드 : /n , 줄바꿈\n",
        "개행복귀 : /r 커서를 맨 앞으로 이동시키는 것."
      ]
    },
    {
      "cell_type": "code",
      "metadata": {
        "colab": {
          "base_uri": "https://localhost:8080/"
        },
        "id": "pwJ8DqF-vP4z",
        "outputId": "5b2ef13f-ba8f-4a1b-8eae-1418a9957446"
      },
      "source": [
        "print(\"사회적 거리두기\")\n",
        "print('--------------------------')\n",
        "print(\"사회적\\t거리두기\")\n",
        "print('--------------------------')\n",
        "print(\"사회적\\n거리두기\")\n",
        "print('--------------------------')\n",
        "print(\"사회적\\r거리두기\")"
      ],
      "execution_count": 2,
      "outputs": [
        {
          "output_type": "stream",
          "text": [
            "사회적 거리두기\n",
            "--------------------------\n",
            "사회적\t거리두기\n",
            "--------------------------\n",
            "사회적\n",
            "거리두기\n",
            "--------------------------\n",
            "사회적\r거리두기\n"
          ],
          "name": "stdout"
        }
      ]
    },
    {
      "cell_type": "markdown",
      "metadata": {
        "id": "yVNNkjjqvWNn"
      },
      "source": [
        "공백 : strip\n",
        "대소문자 : upper, lower, capitalize"
      ]
    },
    {
      "cell_type": "markdown",
      "metadata": {
        "id": "CDB3XOy_vy0C"
      },
      "source": [
        "isx : true, false\n",
        "isupper() : 대문자로만 되어 있으면 True, 아니면 False\n",
        "\n",
        "islower() : 소문자로만\n",
        "\n",
        "istitle() : 첫 글자만 대문자\n",
        "\n",
        "isalpha() : 모든 문자 알파벳\n",
        "\n",
        "isalnum() : 모든 문자 알파벳 + 숫자\n",
        "\n",
        "isdecimal() : 모든 문자 숫자\n"
      ]
    },
    {
      "cell_type": "markdown",
      "metadata": {
        "id": "rCLm4q6NxTQ0"
      },
      "source": [
        "join() , split(), replace()"
      ]
    },
    {
      "cell_type": "code",
      "metadata": {
        "colab": {
          "base_uri": "https://localhost:8080/",
          "height": 37
        },
        "id": "9XtGr1bixZHL",
        "outputId": "d6d8932a-3b59-455a-b45b-00a14f0ce938"
      },
      "source": [
        "#- join()\n",
        "stages = ['fundamentals', 'exploration', 'goingdeeper']\n",
        "\",\".join(stages)"
      ],
      "execution_count": 3,
      "outputs": [
        {
          "output_type": "execute_result",
          "data": {
            "application/vnd.google.colaboratory.intrinsic+json": {
              "type": "string"
            },
            "text/plain": [
              "'fundamentals,exploration,goingdeeper'"
            ]
          },
          "metadata": {
            "tags": []
          },
          "execution_count": 3
        }
      ]
    },
    {
      "cell_type": "code",
      "metadata": {
        "colab": {
          "base_uri": "https://localhost:8080/"
        },
        "id": "OMEN2b_2xdoL",
        "outputId": "faa27cf0-b780-4977-b3c6-7c7a4e84d7b4"
      },
      "source": [
        "#- split()\n",
        "'fundamentals,exploration,goingdeeper'.split(',')"
      ],
      "execution_count": 4,
      "outputs": [
        {
          "output_type": "execute_result",
          "data": {
            "text/plain": [
              "['fundamentals', 'exploration', 'goingdeeper']"
            ]
          },
          "metadata": {
            "tags": []
          },
          "execution_count": 4
        }
      ]
    },
    {
      "cell_type": "code",
      "metadata": {
        "colab": {
          "base_uri": "https://localhost:8080/",
          "height": 37
        },
        "id": "OnDa2XaaxmtG",
        "outputId": "59060c77-070f-4191-f8ba-036c072501a1"
      },
      "source": [
        "sent = 'I can do it!'\n",
        "sent.replace('I', 'You')"
      ],
      "execution_count": 5,
      "outputs": [
        {
          "output_type": "execute_result",
          "data": {
            "application/vnd.google.colaboratory.intrinsic+json": {
              "type": "string"
            },
            "text/plain": [
              "'You can do it!'"
            ]
          },
          "metadata": {
            "tags": []
          },
          "execution_count": 5
        }
      ]
    },
    {
      "cell_type": "markdown",
      "metadata": {
        "id": "2wpi_t3yxuka"
      },
      "source": [
        "불변(immutable) 문자열\n",
        "\n",
        "가변객체\n",
        "e.g. list, set, dict\n",
        "\n",
        "불변객체\n",
        "e.g. int,float,complex,bool,string,tuple,frozen set"
      ]
    },
    {
      "cell_type": "markdown",
      "metadata": {
        "id": "lZERjj1MyvDu"
      },
      "source": [
        "정규 표현식\n",
        "import re\n",
        "\n",
        "compile()\n",
        "\n",
        "정규표현식\n",
        "1) 찾고자 하는 문자열이 패턴을 정의하고\n",
        "2) 정의된 패턴과 매칭되는 경우를 찾아 다양한 처리\n",
        "\n",
        "컴파일은 1번"
      ]
    },
    {
      "cell_type": "code",
      "metadata": {
        "colab": {
          "base_uri": "https://localhost:8080/"
        },
        "id": "mJUQjZI1ykSp",
        "outputId": "0b5198c8-b48f-4e29-a3db-7f4aab6de9ed"
      },
      "source": [
        "import re\n",
        "\n",
        "#1단계 :  \"the\"라는 패턴을 컴파일한 후 패턴 객체를 리턴합니다. \n",
        "pattern = re.compile(\"the\")    \n",
        "\n",
        "# 2단계 : 컴파일된 패턴 객체를 활용하여 다른 텍스트에서 검색을 수행합니다.\n",
        "pattern.findall('of the people, for the people, by the people')"
      ],
      "execution_count": 7,
      "outputs": [
        {
          "output_type": "execute_result",
          "data": {
            "text/plain": [
              "['the', 'the', 'the']"
            ]
          },
          "metadata": {
            "tags": []
          },
          "execution_count": 7
        }
      ]
    },
    {
      "cell_type": "code",
      "metadata": {
        "colab": {
          "base_uri": "https://localhost:8080/"
        },
        "id": "yLW2JtfqyaEa",
        "outputId": "98463d04-95b6-4e9d-86f6-d6213109d70f"
      },
      "source": [
        "re.findall('the', 'of the people, for the people, by the people')"
      ],
      "execution_count": 8,
      "outputs": [
        {
          "output_type": "execute_result",
          "data": {
            "text/plain": [
              "['the', 'the', 'the']"
            ]
          },
          "metadata": {
            "tags": []
          },
          "execution_count": 8
        }
      ]
    },
    {
      "cell_type": "markdown",
      "metadata": {
        "id": "4ywbk9E3z53b"
      },
      "source": [
        "메소드\n",
        "\n",
        "search() : 일치하는 패턴 찾기\n",
        "\n",
        "match() : search()와 비슷하지만, 패턴이 검색대상에 처음부터 일치\n",
        "\n",
        "findall() : 일치하는 모든 패턴 찾기(모든 일치 패턴을 리스트에 담아 반환)\n",
        "\n",
        "split() : 패턴으로 나누기\n",
        "\n",
        "sub() : 일치하는 패턴으로 대체하기\n",
        "\n",
        "group() : 실제 결과에 해당하는 문자열 반"
      ]
    },
    {
      "cell_type": "code",
      "metadata": {
        "colab": {
          "base_uri": "https://localhost:8080/"
        },
        "id": "Iq2DYX5Z1Wh1",
        "outputId": "9ad491e9-b078-4879-f4d2-e249752fb764"
      },
      "source": [
        "src = \"My name is...\"\n",
        "regex = re.match(\"My\", src)\n",
        "print(regex)\n",
        "if regex:\n",
        "    print(regex.group())\n",
        "else:\n",
        "    print(\"No!\")"
      ],
      "execution_count": 9,
      "outputs": [
        {
          "output_type": "stream",
          "text": [
            "<re.Match object; span=(0, 2), match='My'>\n",
            "My\n"
          ],
          "name": "stdout"
        }
      ]
    },
    {
      "cell_type": "markdown",
      "metadata": {
        "id": "LzCWQXPK1hjV"
      },
      "source": [
        "메타문자\n",
        "\n",
        "[] : 문자\n",
        "- : 범위\n",
        ". : 하나의 문자\n",
        "? : 0회 또는 1회 반복\n",
        "* : 0회 이상 반복\n",
        "+ : 1회 이상 반복\n",
        "{m, n} : m ~ n\n",
        "/d : 숫자\n",
        "/D : 비숫자\n",
        "/w : 알파벳 문자\n",
        "/W : 비알파벳 문자\n",
        "/s : 공백 문자\n",
        "/S : 비공백 문자\n",
        "/b : 단어 경계\n",
        "/B : 비 단어 경"
      ]
    },
    {
      "cell_type": "code",
      "metadata": {
        "id": "DC0Mxgt83QE0"
      },
      "source": [
        "#- 연도(숫자)\n",
        "text = \"\"\"\n",
        "The first season of America Premiere League  was played in 1993. \n",
        "The second season was played in 1995 in South Africa. \n",
        "Last season was played in 2019 and won by Chennai Super Kings (CSK).\n",
        "CSK won the title in 2000 and 2002 as well.\n",
        "Mumbai Indians (MI) has also won the title 3 times in 2013, 2015 and 2017.\n",
        "\"\"\"\n",
        "pattern = re.compile(\"[1-2]\\d\\d\\d\")\n",
        "pattern.findall(text)"
      ],
      "execution_count": null,
      "outputs": []
    },
    {
      "cell_type": "code",
      "metadata": {
        "id": "jXV9zRLd3T10"
      },
      "source": [
        "#- 전화번호(숫자, 기호)\n",
        "phonenumber = re.compile(r'\\d\\d\\d-\\d\\d\\d-\\d\\d\\d\\d')\n",
        "phone = phonenumber.search('This is my phone number 010-111-1111')\n",
        "if phone:\n",
        "  print(phone.group())\n",
        "print('------')\n",
        "phone = phonenumber.match ('This is my phone number 010-111-1111')\n",
        "if phone:\n",
        "  print(phone.group())"
      ],
      "execution_count": null,
      "outputs": []
    },
    {
      "cell_type": "code",
      "metadata": {
        "id": "voCQYfrW3VDJ"
      },
      "source": [
        "#- 이메일(알파벳, 숫자, 기호)\n",
        "text = \"My e-mail adress is doingharu@aiffel.com, and tomorrow@aiffel.com\"\n",
        "pattern = re.compile(\"[0-9a-zA-Z]+@[0-9a-z]+\\.[0-9a-z]+\")\n",
        "pattern.findall(text)"
      ],
      "execution_count": null,
      "outputs": []
    },
    {
      "cell_type": "markdown",
      "metadata": {
        "id": "nXow2u453Xyj"
      },
      "source": [
        "구현 순서\n",
        "\n",
        "1. import re  :  정규식 모듈을 가져옴\n",
        "2. re.compile()  :  함수로 regex객체 만듬\n",
        "3. 검색할 문자열을 Regex 객체의 search(), findall() 메소드로 전달합니다."
      ]
    },
    {
      "cell_type": "markdown",
      "metadata": {
        "id": "S9sLiaVa39_w"
      },
      "source": [
        "write\n",
        "\n",
        "파일 관련 메소드\n",
        "\n",
        "f.read() : 파일을 읽는다.\n",
        "\n",
        "f.readline() : 파일을 한 줄씩 읽는다.\n",
        "\n",
        "f.readlines() : 파일안의 모든줄을 읽어 그 값을 리스트로 반환한다.\n",
        "\n",
        "f.write(str) : 파일에 쓴다. 문자열 타입을 인자로 받는다.\n",
        "\n",
        "f.writelines(str) : 파일에 인자를 한 줄씩 쓴다.\n",
        "\n",
        "f.close() : 파일을 닫는다.\n",
        "\n",
        "f.seek(offse) : 새 파일의 위치를 찾는다."
      ]
    },
    {
      "cell_type": "markdown",
      "metadata": {
        "id": "iXYtiVfP4uSa"
      },
      "source": [
        "디렉토리 관련 표준 라이브러리\n",
        "sys , os , glob"
      ]
    },
    {
      "cell_type": "code",
      "metadata": {
        "colab": {
          "base_uri": "https://localhost:8080/",
          "height": 37
        },
        "id": "cZlJ26oY6xss",
        "outputId": "c4606d83-764d-4660-e7a5-1e14af71e55c"
      },
      "source": [
        "#- 현재 실행되고 있는 파이썬 실행 파일의 디렉토리를 반환합니다.\n",
        "import sys\n",
        "sys.executable"
      ],
      "execution_count": 10,
      "outputs": [
        {
          "output_type": "execute_result",
          "data": {
            "application/vnd.google.colaboratory.intrinsic+json": {
              "type": "string"
            },
            "text/plain": [
              "'/usr/bin/python3'"
            ]
          },
          "metadata": {
            "tags": []
          },
          "execution_count": 10
        }
      ]
    },
    {
      "cell_type": "code",
      "metadata": {
        "colab": {
          "base_uri": "https://localhost:8080/"
        },
        "id": "MTkKRlmK66I2",
        "outputId": "2eb44d02-e900-4a31-c85f-a12137636a35"
      },
      "source": [
        "#- 임포트할 때 불러 오는 모듈들이 위치한 경로입니다.\n",
        "sys.path"
      ],
      "execution_count": 11,
      "outputs": [
        {
          "output_type": "execute_result",
          "data": {
            "text/plain": [
              "['',\n",
              " '/content',\n",
              " '/env/python',\n",
              " '/usr/lib/python37.zip',\n",
              " '/usr/lib/python3.7',\n",
              " '/usr/lib/python3.7/lib-dynload',\n",
              " '/usr/local/lib/python3.7/dist-packages',\n",
              " '/usr/lib/python3/dist-packages',\n",
              " '/usr/local/lib/python3.7/dist-packages/IPython/extensions',\n",
              " '/root/.ipython']"
            ]
          },
          "metadata": {
            "tags": []
          },
          "execution_count": 11
        }
      ]
    },
    {
      "cell_type": "markdown",
      "metadata": {
        "id": "2HiftsIU6-hZ"
      },
      "source": [
        "기본개념\n",
        "\n",
        "모듈(module) : 파이썬으로 만든 코드가 들어간 파일 .py\n",
        "\n",
        "패키지(package) : __init__.py 가 포함된 폴더로 흔히 라이브러리라고 칭함\n",
        "\n",
        "PIP : 패키지 관리자로 파이썬을 설치하면 기본으로 설치됨\n",
        "\n",
        "PyPA : 파이썬 패키지를 관리하고 유지하는 그룹\n",
        "\n",
        "PyPI : 파이썬 패키지들의 저장소\n"
      ]
    },
    {
      "cell_type": "markdown",
      "metadata": {
        "id": "AApz3hmp8W3C"
      },
      "source": [
        "함수\n",
        "\n",
        "sys.path : 현재 폴더와 파이썬 모듈들이 저장되어 있는 위치를 리스트 형태로 반환\n",
        "\n",
        "sys.path.append() : 자신이 만든 모듈의 경로를 append 함수를 이용해서 추가함으로써 추가한 디렉토리에 있는 파이썬 모듈을 불러와 사용할 수 있다.\n",
        "\n",
        "os.chdir() : 디렉토리 위치 변경\n",
        "\n",
        "os.getcwd() : 현재 자신의 디렉토리 위치를 반환\n",
        "\n",
        "os.mkdir() : 디렉토리 생성\n",
        "\n",
        "os.rmdir() : 디렉토리 삭제 (단, 디렉토리가 비어 있을 경우)\n",
        "\n",
        "glob.glob() : 해당 경로 안의 디렉토리나 파일들을 리스트 형태로 반환\n",
        "\n",
        "os.path.join() : 경로를 병합하여 새 경로 생성\n",
        "\n",
        "os.listdir() : 디렉토리 안의 파일 및 서브디렉토리 리스트\n",
        "\n",
        "os.path.exists() : 파일 혹은 디렉토리의 경로 존재 여부 확인\n",
        "\n",
        "os.path.isfile() : 파일 경로의 존재 여부 확인\n",
        "\n",
        "os.path.isdir() : 디렉토리 경로의 존재 여부 확인\n",
        "\n",
        "os. path.getsize() : 파일의 크기 확인\n",
        "  "
      ]
    },
    {
      "cell_type": "markdown",
      "metadata": {
        "id": "_3Mfri3_9YTL"
      },
      "source": [
        "CSV 파일"
      ]
    },
    {
      "cell_type": "code",
      "metadata": {
        "id": "WDZdclv1_UTk"
      },
      "source": [
        "billboardchart = {\n",
        "  \t\t\t\t 1 : [\"Tho Box\",\"Roddy Ricch\",\"2019-12-19\"],\n",
        "                 2 : [\"Don't Start Now\", \"Dua Lipa\", \"2019-11-01\"],\n",
        "                 3 : [\"Life Is Good\", \"Future Featuring Drake\", \"2020-02-10\"],\n",
        "                 4 : [\"Blinding\", \"The Weeknd\", \"2019-11-29\"],\n",
        "                 5 : [\"Circles\", \"Post Malone\",\"2019-08-30\"]}\n",
        "\n",
        "with open(\"billboardchart.csv\",\"w\") as f:\n",
        "    for i in billboardchart.values():\n",
        "        data = \",\".join(i)\n",
        "        f.write(data+\"\\n\")"
      ],
      "execution_count": 12,
      "outputs": []
    },
    {
      "cell_type": "code",
      "metadata": {
        "id": "_4G2r4P0_cQZ"
      },
      "source": [
        "import csv\n",
        "\n",
        "header = [\"title\", \"singer\", \"released date\"]\n",
        "\n",
        "with open(\"billboardchart.csv\",\"r\") as inputfile:\n",
        "    with open(\"billboardchart_out.csv\",\"w\", newline='\\n') as outputfile:\n",
        "        fi = csv.reader(inputfile, delimiter=',')\n",
        "        fo = csv.writer(outputfile, delimiter=',')\n",
        "        fo.writerow(header)\n",
        "        for row in fi:\n",
        "            fo.writerow(row)"
      ],
      "execution_count": 13,
      "outputs": []
    },
    {
      "cell_type": "markdown",
      "metadata": {
        "id": "fy2fC5Kg_lki"
      },
      "source": [
        "판다스 to_csv"
      ]
    },
    {
      "cell_type": "code",
      "metadata": {
        "id": "XtsH9-6X_pFK"
      },
      "source": [
        "#- 1. 데이터를 준비합니다.\n",
        "fields = [\"title\", \"singer\", \"released date\"]\n",
        "rows = [ [\"Tho Box\",\"Roddy Ricch\",\"2019-12-19\"],\n",
        "               [\"Don't Start Now\", \"Dua Lipa\", \"2019-11-01\"],\n",
        "               [\"Life Is Good\", \"Future Featuring Drake\", \"2020-02-10\"],\n",
        "               [\"Blinding\", \"The Weeknd\", \"2019-11-29\"],\n",
        "               [\"Circles\", \"Post Malone\",\"2019-08-30\"]]"
      ],
      "execution_count": null,
      "outputs": []
    },
    {
      "cell_type": "code",
      "metadata": {
        "colab": {
          "base_uri": "https://localhost:8080/",
          "height": 249
        },
        "id": "g8Ewt_O3_r24",
        "outputId": "176b157e-55c0-4b30-d550-557ae0f05162"
      },
      "source": [
        "#- 2. 판다스를 이용해 데이터를 csv 파일로 저장합니다.\n",
        "import pandas as pd\n",
        "\n",
        "df=pd.DataFrame(rows, columns=fields)\n",
        "df.to_csv('pandas.csv',index=False)"
      ],
      "execution_count": 15,
      "outputs": [
        {
          "output_type": "error",
          "ename": "NameError",
          "evalue": "ignored",
          "traceback": [
            "\u001b[0;31m---------------------------------------------------------------------------\u001b[0m",
            "\u001b[0;31mNameError\u001b[0m                                 Traceback (most recent call last)",
            "\u001b[0;32m<ipython-input-15-bf3acb833e33>\u001b[0m in \u001b[0;36m<module>\u001b[0;34m()\u001b[0m\n\u001b[1;32m      2\u001b[0m \u001b[0;32mimport\u001b[0m \u001b[0mpandas\u001b[0m \u001b[0;32mas\u001b[0m \u001b[0mpd\u001b[0m\u001b[0;34m\u001b[0m\u001b[0;34m\u001b[0m\u001b[0m\n\u001b[1;32m      3\u001b[0m \u001b[0;34m\u001b[0m\u001b[0m\n\u001b[0;32m----> 4\u001b[0;31m \u001b[0mdf\u001b[0m\u001b[0;34m=\u001b[0m\u001b[0mpd\u001b[0m\u001b[0;34m.\u001b[0m\u001b[0mDataFrame\u001b[0m\u001b[0;34m(\u001b[0m\u001b[0mrows\u001b[0m\u001b[0;34m,\u001b[0m \u001b[0mcolumns\u001b[0m\u001b[0;34m=\u001b[0m\u001b[0mfields\u001b[0m\u001b[0;34m)\u001b[0m\u001b[0;34m\u001b[0m\u001b[0;34m\u001b[0m\u001b[0m\n\u001b[0m\u001b[1;32m      5\u001b[0m \u001b[0mdf\u001b[0m\u001b[0;34m.\u001b[0m\u001b[0mto_csv\u001b[0m\u001b[0;34m(\u001b[0m\u001b[0;34m'pandas.csv'\u001b[0m\u001b[0;34m,\u001b[0m\u001b[0mindex\u001b[0m\u001b[0;34m=\u001b[0m\u001b[0;32mFalse\u001b[0m\u001b[0;34m)\u001b[0m\u001b[0;34m\u001b[0m\u001b[0;34m\u001b[0m\u001b[0m\n",
            "\u001b[0;31mNameError\u001b[0m: name 'rows' is not defined"
          ]
        }
      ]
    },
    {
      "cell_type": "code",
      "metadata": {
        "id": "9jw5Age5_tc2"
      },
      "source": [
        "#- 3. 동일한 내용을 csv.writer를 이용해 수행해 봅니다.\n",
        "import csv \n",
        "\n",
        "filename = \"test.csv\"\n",
        "with open(filename, 'w+', newline='\\n') as csv_file: \n",
        "    csv_writer = csv.writer(csv_file) \n",
        "    csv_writer.writerow(fields) \n",
        "    csv_writer.writerows(rows)\n",
        "\n",
        "#- test.csv 파일을 직접 열어서 눈으로 살펴 보세요. -#"
      ],
      "execution_count": null,
      "outputs": []
    },
    {
      "cell_type": "code",
      "metadata": {
        "colab": {
          "base_uri": "https://localhost:8080/",
          "height": 215
        },
        "id": "TD2ctrCT_y1Y",
        "outputId": "b2bb8401-0c02-44b4-bb98-260f406ca165"
      },
      "source": [
        "df = pd.read_csv('pandas.csv')\n",
        "df.head()"
      ],
      "execution_count": 14,
      "outputs": [
        {
          "output_type": "error",
          "ename": "NameError",
          "evalue": "ignored",
          "traceback": [
            "\u001b[0;31m---------------------------------------------------------------------------\u001b[0m",
            "\u001b[0;31mNameError\u001b[0m                                 Traceback (most recent call last)",
            "\u001b[0;32m<ipython-input-14-ac0d86e3c426>\u001b[0m in \u001b[0;36m<module>\u001b[0;34m()\u001b[0m\n\u001b[0;32m----> 1\u001b[0;31m \u001b[0mdf\u001b[0m \u001b[0;34m=\u001b[0m \u001b[0mpd\u001b[0m\u001b[0;34m.\u001b[0m\u001b[0mread_csv\u001b[0m\u001b[0;34m(\u001b[0m\u001b[0;34m'pandas.csv'\u001b[0m\u001b[0;34m)\u001b[0m\u001b[0;34m\u001b[0m\u001b[0;34m\u001b[0m\u001b[0m\n\u001b[0m\u001b[1;32m      2\u001b[0m \u001b[0mdf\u001b[0m\u001b[0;34m.\u001b[0m\u001b[0mhead\u001b[0m\u001b[0;34m(\u001b[0m\u001b[0;34m)\u001b[0m\u001b[0;34m\u001b[0m\u001b[0;34m\u001b[0m\u001b[0m\n",
            "\u001b[0;31mNameError\u001b[0m: name 'pd' is not defined"
          ]
        }
      ]
    },
    {
      "cell_type": "markdown",
      "metadata": {
        "id": "tcQfXxbY__uI"
      },
      "source": [
        "XML\n",
        "\n",
        "다목적 마크업 언어\n",
        "\n",
        "인터넷 웹상에서 문서를 교환할 때 이러한 마크업 언어를 이용 마크업 언어를 아주 간단하게 말한다면, 태그라고 불리는 꺽쇠 모양의 괄호(<>)로 구분된 언어라고 할수 있음. API에서 데이터를 요청하고 저장할때 XML이나 JSON 형식을 이용해 데이터를 교환.\n",
        "\n",
        "태그는 <태그> 내용 </태그> 형태로 구성\n",
        "\n",
        "1. XML은 다목적 마크업 언어이다.\n",
        "2. 마크업 언어는 태그로 이루어진 언어를 말하며, 상위태그 - 하위태그의 계층적 구조를 가지고 있다.\n",
        "3. XML은 요소들로 이루어져 있다.\n",
        "4. 요소는 <열린태그> 내용 </닫힌태그>가 기본적인 구조이며, 속성값을 가질 수도 있다."
      ]
    },
    {
      "cell_type": "code",
      "metadata": {
        "id": "nd5AWuMaCOZK"
      },
      "source": [
        "XML 파일 만들기\n",
        "\n",
        "ElementTree\n",
        "\n",
        "Element() : 태그 생성\n",
        "SubElement() : 자식 태그 생성\n",
        "tag : 태그 이름\n",
        "text : 텍스트 내용 생성\n",
        "attrib : 속성 생성\n",
        "\n",
        "dump()\n",
        "생성된 XML 요소 구조를 시스템(sys.stdout)에 사용합니다.\n",
        "\n",
        "write() : XML 파일로 저장\n",
        "리스트(list)와 유사한 메소드를 제"
      ],
      "execution_count": null,
      "outputs": []
    },
    {
      "cell_type": "code",
      "metadata": {
        "id": "Xo2gmSI0DPOO"
      },
      "source": [
        "import xml.etree.ElementTree as ET\n",
        "\n",
        "person = ET.Element(\"Person\")\n",
        "name = ET.Element(\"name\")\n",
        "name.text = \"이펠\"\n",
        "person.append(name)\n",
        "\n",
        "age = ET.Element(\"age\")\n",
        "age.text = \"28\"\n",
        "person.append(age)\n",
        "\n",
        "ET.SubElement(person, 'place').text = '강남'\n",
        "\n",
        "ET.dump(person)"
      ],
      "execution_count": null,
      "outputs": []
    },
    {
      "cell_type": "code",
      "metadata": {
        "id": "dI5Q-8TzDUij"
      },
      "source": [
        "person.attrib[\"id\"] = \"0x0001\"\n",
        "name.tag = \"firstname\"\n",
        "ET.dump(person)"
      ],
      "execution_count": null,
      "outputs": []
    },
    {
      "cell_type": "code",
      "metadata": {
        "id": "rsspItHXDWPX"
      },
      "source": [
        "lastname = ET.Element('lastname', date='2020-03-20')\n",
        "lastname.text = '아'\n",
        "person.insert(1,lastname)\n",
        "ET.dump(person)"
      ],
      "execution_count": null,
      "outputs": []
    },
    {
      "cell_type": "code",
      "metadata": {
        "id": "mWE51EYNDXs0"
      },
      "source": [
        "person.remove(age)"
      ],
      "execution_count": null,
      "outputs": []
    },
    {
      "cell_type": "code",
      "metadata": {
        "id": "0woBUEOfDZYl"
      },
      "source": [
        "ET.ElementTree(person).write('person.xml')"
      ],
      "execution_count": null,
      "outputs": []
    },
    {
      "cell_type": "markdown",
      "metadata": {
        "id": "TexL3PxiDqju"
      },
      "source": [
        "BeautifulSoup\n",
        "\n",
        "lxml"
      ]
    },
    {
      "cell_type": "markdown",
      "metadata": {
        "id": "gVRqv-8iEFrU"
      },
      "source": [
        "JSON\n",
        "\n",
        "JSON은 JavaScript Object Notation의 약자로, 웹 언어인 JavaScript의 데이터 객체 표현 방식입니다. 웹 브라우저와 다른 애플리케이션 사이에서 HTTP 요청으로 데이터를 보낼 때 널리 사용하는 표준 파일 포맷"
      ]
    },
    {
      "cell_type": "code",
      "metadata": {
        "id": "Fl2OSKTGEzu7"
      },
      "source": [
        "import json\n",
        "\n",
        "person = {\n",
        "      \"first name\" : \"Yuna\",\n",
        "      \"last name\" : \"Jung\",\n",
        "      \"age\" : 33,\n",
        "      \"nationality\" : \"South Korea\",\n",
        "      \"education\" : [{\"degree\":\"B.S degree\", \"university\":\"Daehan university\", \"major\": \"mechanical engineering\", \"graduated year\":2010}]\n",
        "       } \n",
        "\n",
        "with open(\"person.json\", \"w\") as f:\n",
        "    json.dump(person , f)"
      ],
      "execution_count": null,
      "outputs": []
    },
    {
      "cell_type": "code",
      "metadata": {
        "id": "mCCJU5V1E0_X"
      },
      "source": [
        "#JSON 파일 읽기\n",
        "\n",
        "import json\n",
        "\n",
        "with open(\"person.json\", \"r\", encoding=\"utf-8\") as f:\n",
        "    contents = json.load(f)\n",
        "    print(contents[\"first name\"])\n",
        "    print(contents[\"education\"])"
      ],
      "execution_count": null,
      "outputs": []
    }
  ]
}