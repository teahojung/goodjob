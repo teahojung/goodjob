{
  "nbformat": 4,
  "nbformat_minor": 0,
  "metadata": {
    "colab": {
      "name": "practice_210701.ipynb",
      "provenance": [],
      "authorship_tag": "ABX9TyN5FRIy6/uIsnyo0NmW6ey6",
      "include_colab_link": true
    },
    "kernelspec": {
      "name": "python3",
      "display_name": "Python 3"
    },
    "language_info": {
      "name": "python"
    }
  },
  "cells": [
    {
      "cell_type": "markdown",
      "metadata": {
        "id": "view-in-github",
        "colab_type": "text"
      },
      "source": [
        "<a href=\"https://colab.research.google.com/github/teahojung/goodjob/blob/main/practice_210701.ipynb\" target=\"_parent\"><img src=\"https://colab.research.google.com/assets/colab-badge.svg\" alt=\"Open In Colab\"/></a>"
      ]
    },
    {
      "cell_type": "markdown",
      "metadata": {
        "id": "knGfE9gl1Aj9"
      },
      "source": [
        "코딩도장 23강 2차원 리스트"
      ]
    },
    {
      "cell_type": "markdown",
      "metadata": {
        "id": "mk2tnL3c1MxV"
      },
      "source": [
        "for 반복문을 한번만 사용하기"
      ]
    },
    {
      "cell_type": "code",
      "metadata": {
        "colab": {
          "base_uri": "https://localhost:8080/"
        },
        "id": "qUBrVEgXy0TN",
        "outputId": "1330829e-d8e2-4492-ae95-4952fd81f5cc"
      },
      "source": [
        "a = [[10, 20], [30, 40], [50, 60]]\n",
        "for x, y in a:\n",
        "  print(x,y)"
      ],
      "execution_count": 2,
      "outputs": [
        {
          "output_type": "stream",
          "text": [
            "10 20\n",
            "30 40\n",
            "50 60\n"
          ],
          "name": "stdout"
        }
      ]
    },
    {
      "cell_type": "markdown",
      "metadata": {
        "id": "gRb1z_ZA1QVt"
      },
      "source": [
        "for 반복문을 두 번 사용하기"
      ]
    },
    {
      "cell_type": "code",
      "metadata": {
        "colab": {
          "base_uri": "https://localhost:8080/"
        },
        "id": "VNTOkkXkzNqc",
        "outputId": "5c6d909a-030f-4fb0-d22b-f2bf490340e4"
      },
      "source": [
        "a = [[10, 20], [30, 40], [50, 60]]\n",
        "\n",
        "for i in a:\n",
        "    for j in i:\n",
        "         print(j, end = '|')\n",
        "    print()"
      ],
      "execution_count": 4,
      "outputs": [
        {
          "output_type": "stream",
          "text": [
            "10|20|\n",
            "30|40|\n",
            "50|60|\n"
          ],
          "name": "stdout"
        }
      ]
    },
    {
      "cell_type": "markdown",
      "metadata": {
        "id": "LsZO1FEh1Yu-"
      },
      "source": [
        "for와 range 사용하기"
      ]
    },
    {
      "cell_type": "code",
      "metadata": {
        "colab": {
          "base_uri": "https://localhost:8080/"
        },
        "id": "psP0zJuQzebX",
        "outputId": "7bb89ce1-096f-41d0-fb0e-de5f3e05e27d"
      },
      "source": [
        "a = [[10, 20], [30, 40], [50, 60]]\n",
        "\n",
        "for i in range(len(a)):\n",
        "    for j in range(len(a[i])):\n",
        "        print(a[i][j], end = ' ')\n",
        "    print()"
      ],
      "execution_count": 7,
      "outputs": [
        {
          "output_type": "stream",
          "text": [
            "10 20 \n",
            "30 40 \n",
            "50 60 \n"
          ],
          "name": "stdout"
        }
      ]
    },
    {
      "cell_type": "markdown",
      "metadata": {
        "id": "BYP6znfa1ePS"
      },
      "source": [
        "while 반복문을 한 번 사용하기"
      ]
    },
    {
      "cell_type": "code",
      "metadata": {
        "colab": {
          "base_uri": "https://localhost:8080/"
        },
        "id": "y0q7XVWh1JoO",
        "outputId": "0983f2e2-48c6-4330-8981-82c038c2e5e7"
      },
      "source": [
        "a = [[10, 20], [30, 40], [50, 60]]\n",
        "\n",
        "i = 0\n",
        "while i < len(a):\n",
        "     x, y = a[i]\n",
        "     print(x, y)\n",
        "     i += 1"
      ],
      "execution_count": 11,
      "outputs": [
        {
          "output_type": "stream",
          "text": [
            "10 20\n",
            "30 40\n",
            "50 60\n"
          ],
          "name": "stdout"
        }
      ]
    },
    {
      "cell_type": "markdown",
      "metadata": {
        "id": "wwpEFlp72juJ"
      },
      "source": [
        "while 반복문을 두 번 사용하기"
      ]
    },
    {
      "cell_type": "code",
      "metadata": {
        "colab": {
          "base_uri": "https://localhost:8080/"
        },
        "id": "d8YBEtaG1yom",
        "outputId": "98d84834-a33f-49c0-e00e-8dedb1ed1348"
      },
      "source": [
        "a = [[10, 20], [30, 40], [50, 60]]\n",
        "\n",
        "i = 0\n",
        "while i < len(a):\n",
        "    j = 0\n",
        "    while j < len(a[i]):\n",
        "        print(a[i][j], end = ' ')\n",
        "        j += 1\n",
        "    print()\n",
        "    i += 1"
      ],
      "execution_count": 14,
      "outputs": [
        {
          "output_type": "stream",
          "text": [
            "10 20 \n",
            "30 40 \n",
            "50 60 \n"
          ],
          "name": "stdout"
        }
      ]
    },
    {
      "cell_type": "markdown",
      "metadata": {
        "id": "P6_Oynzx3Fwl"
      },
      "source": [
        "\n",
        "for 반복문으로 1차원 리스트 만들기"
      ]
    },
    {
      "cell_type": "code",
      "metadata": {
        "colab": {
          "base_uri": "https://localhost:8080/"
        },
        "id": "UBvh3zRb3LLz",
        "outputId": "c5cb5f20-000d-42d1-9cb4-94589570a814"
      },
      "source": [
        "a = []\n",
        "\n",
        "for i in range(10):\n",
        "    a.append(0)\n",
        "\n",
        "print(a)"
      ],
      "execution_count": 15,
      "outputs": [
        {
          "output_type": "stream",
          "text": [
            "[0, 0, 0, 0, 0, 0, 0, 0, 0, 0]\n"
          ],
          "name": "stdout"
        }
      ]
    },
    {
      "cell_type": "markdown",
      "metadata": {
        "id": "CEauYC7H3ZpC"
      },
      "source": [
        "for 반복문으로 2차원 리스트 만들기"
      ]
    },
    {
      "cell_type": "code",
      "metadata": {
        "colab": {
          "base_uri": "https://localhost:8080/"
        },
        "id": "GRSaNC3D3ZKV",
        "outputId": "f434a50d-254f-4ad8-9868-6d2985fb30f0"
      },
      "source": [
        "a = []\n",
        "\n",
        "for i in range(3):\n",
        "    line = []\n",
        "    for j in range(2):\n",
        "        line.append(0)\n",
        "    a.append(line)\n",
        "\n",
        "print(a)"
      ],
      "execution_count": 17,
      "outputs": [
        {
          "output_type": "stream",
          "text": [
            "[[0, 0], [0, 0], [0, 0]]\n"
          ],
          "name": "stdout"
        }
      ]
    },
    {
      "cell_type": "markdown",
      "metadata": {
        "id": "uKiNDHuE34C6"
      },
      "source": [
        ""
      ]
    },
    {
      "cell_type": "code",
      "metadata": {
        "id": "0SFupkXq3W6G"
      },
      "source": [
        ""
      ],
      "execution_count": null,
      "outputs": []
    }
  ]
}