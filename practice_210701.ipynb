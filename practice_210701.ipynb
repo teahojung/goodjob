{
  "nbformat": 4,
  "nbformat_minor": 0,
  "metadata": {
    "colab": {
      "name": "practice_210701.ipynb",
      "provenance": [],
      "collapsed_sections": [],
      "authorship_tag": "ABX9TyN7/frH907rBHv5auj/pafF",
      "include_colab_link": true
    },
    "kernelspec": {
      "name": "python3",
      "display_name": "Python 3"
    },
    "language_info": {
      "name": "python"
    }
  },
  "cells": [
    {
      "cell_type": "markdown",
      "metadata": {
        "id": "view-in-github",
        "colab_type": "text"
      },
      "source": [
        "<a href=\"https://colab.research.google.com/github/teahojung/goodjob/blob/main/practice_210701.ipynb\" target=\"_parent\"><img src=\"https://colab.research.google.com/assets/colab-badge.svg\" alt=\"Open In Colab\"/></a>"
      ]
    },
    {
      "cell_type": "markdown",
      "metadata": {
        "id": "t1PrN8iJ6Oa3"
      },
      "source": [
        "코딩도장 23강, 24강, lms 재귀문제"
      ]
    },
    {
      "cell_type": "markdown",
      "metadata": {
        "id": "knGfE9gl1Aj9"
      },
      "source": [
        "코딩도장 23강 2차원 리스트"
      ]
    },
    {
      "cell_type": "markdown",
      "metadata": {
        "id": "mk2tnL3c1MxV"
      },
      "source": [
        "for 반복문을 한번만 사용하기"
      ]
    },
    {
      "cell_type": "code",
      "metadata": {
        "colab": {
          "base_uri": "https://localhost:8080/"
        },
        "id": "qUBrVEgXy0TN",
        "outputId": "1330829e-d8e2-4492-ae95-4952fd81f5cc"
      },
      "source": [
        "a = [[10, 20], [30, 40], [50, 60]]\n",
        "for x, y in a:\n",
        "  print(x,y)"
      ],
      "execution_count": 2,
      "outputs": [
        {
          "output_type": "stream",
          "text": [
            "10 20\n",
            "30 40\n",
            "50 60\n"
          ],
          "name": "stdout"
        }
      ]
    },
    {
      "cell_type": "markdown",
      "metadata": {
        "id": "gRb1z_ZA1QVt"
      },
      "source": [
        "for 반복문을 두 번 사용하기"
      ]
    },
    {
      "cell_type": "code",
      "metadata": {
        "colab": {
          "base_uri": "https://localhost:8080/"
        },
        "id": "VNTOkkXkzNqc",
        "outputId": "5c6d909a-030f-4fb0-d22b-f2bf490340e4"
      },
      "source": [
        "a = [[10, 20], [30, 40], [50, 60]]\n",
        "\n",
        "for i in a:\n",
        "    for j in i:\n",
        "         print(j, end = '|')\n",
        "    print()"
      ],
      "execution_count": 4,
      "outputs": [
        {
          "output_type": "stream",
          "text": [
            "10|20|\n",
            "30|40|\n",
            "50|60|\n"
          ],
          "name": "stdout"
        }
      ]
    },
    {
      "cell_type": "markdown",
      "metadata": {
        "id": "LsZO1FEh1Yu-"
      },
      "source": [
        "for와 range 사용하기"
      ]
    },
    {
      "cell_type": "code",
      "metadata": {
        "colab": {
          "base_uri": "https://localhost:8080/"
        },
        "id": "psP0zJuQzebX",
        "outputId": "7bb89ce1-096f-41d0-fb0e-de5f3e05e27d"
      },
      "source": [
        "a = [[10, 20], [30, 40], [50, 60]]\n",
        "\n",
        "for i in range(len(a)):\n",
        "    for j in range(len(a[i])):\n",
        "        print(a[i][j], end = ' ')\n",
        "    print()"
      ],
      "execution_count": 7,
      "outputs": [
        {
          "output_type": "stream",
          "text": [
            "10 20 \n",
            "30 40 \n",
            "50 60 \n"
          ],
          "name": "stdout"
        }
      ]
    },
    {
      "cell_type": "markdown",
      "metadata": {
        "id": "BYP6znfa1ePS"
      },
      "source": [
        "while 반복문을 한 번 사용하기"
      ]
    },
    {
      "cell_type": "code",
      "metadata": {
        "colab": {
          "base_uri": "https://localhost:8080/"
        },
        "id": "y0q7XVWh1JoO",
        "outputId": "0983f2e2-48c6-4330-8981-82c038c2e5e7"
      },
      "source": [
        "a = [[10, 20], [30, 40], [50, 60]]\n",
        "\n",
        "i = 0\n",
        "while i < len(a):\n",
        "     x, y = a[i]\n",
        "     print(x, y)\n",
        "     i += 1"
      ],
      "execution_count": 11,
      "outputs": [
        {
          "output_type": "stream",
          "text": [
            "10 20\n",
            "30 40\n",
            "50 60\n"
          ],
          "name": "stdout"
        }
      ]
    },
    {
      "cell_type": "markdown",
      "metadata": {
        "id": "wwpEFlp72juJ"
      },
      "source": [
        "while 반복문을 두 번 사용하기"
      ]
    },
    {
      "cell_type": "code",
      "metadata": {
        "colab": {
          "base_uri": "https://localhost:8080/"
        },
        "id": "d8YBEtaG1yom",
        "outputId": "98d84834-a33f-49c0-e00e-8dedb1ed1348"
      },
      "source": [
        "a = [[10, 20], [30, 40], [50, 60]]\n",
        "\n",
        "i = 0\n",
        "while i < len(a):\n",
        "    j = 0\n",
        "    while j < len(a[i]):\n",
        "        print(a[i][j], end = ' ')\n",
        "        j += 1\n",
        "    print()\n",
        "    i += 1"
      ],
      "execution_count": 14,
      "outputs": [
        {
          "output_type": "stream",
          "text": [
            "10 20 \n",
            "30 40 \n",
            "50 60 \n"
          ],
          "name": "stdout"
        }
      ]
    },
    {
      "cell_type": "markdown",
      "metadata": {
        "id": "P6_Oynzx3Fwl"
      },
      "source": [
        "\n",
        "for 반복문으로 1차원 리스트 만들기"
      ]
    },
    {
      "cell_type": "code",
      "metadata": {
        "colab": {
          "base_uri": "https://localhost:8080/"
        },
        "id": "UBvh3zRb3LLz",
        "outputId": "c5cb5f20-000d-42d1-9cb4-94589570a814"
      },
      "source": [
        "a = []\n",
        "\n",
        "for i in range(10):\n",
        "    a.append(0)\n",
        "\n",
        "print(a)"
      ],
      "execution_count": 15,
      "outputs": [
        {
          "output_type": "stream",
          "text": [
            "[0, 0, 0, 0, 0, 0, 0, 0, 0, 0]\n"
          ],
          "name": "stdout"
        }
      ]
    },
    {
      "cell_type": "markdown",
      "metadata": {
        "id": "CEauYC7H3ZpC"
      },
      "source": [
        "for 반복문으로 2차원 리스트 만들기"
      ]
    },
    {
      "cell_type": "code",
      "metadata": {
        "colab": {
          "base_uri": "https://localhost:8080/"
        },
        "id": "GRSaNC3D3ZKV",
        "outputId": "f434a50d-254f-4ad8-9868-6d2985fb30f0"
      },
      "source": [
        "a = []\n",
        "\n",
        "for i in range(3):\n",
        "    line = []\n",
        "    for j in range(2):\n",
        "        line.append(0)\n",
        "    a.append(line)\n",
        "\n",
        "print(a)"
      ],
      "execution_count": 17,
      "outputs": [
        {
          "output_type": "stream",
          "text": [
            "[[0, 0], [0, 0], [0, 0]]\n"
          ],
          "name": "stdout"
        }
      ]
    },
    {
      "cell_type": "markdown",
      "metadata": {
        "id": "uKiNDHuE34C6"
      },
      "source": [
        "리스트 표현식으로 2차원 리스트 만들기"
      ]
    },
    {
      "cell_type": "code",
      "metadata": {
        "colab": {
          "base_uri": "https://localhost:8080/"
        },
        "id": "0SFupkXq3W6G",
        "outputId": "0d097dc6-ec3b-4691-8aaa-81dc29e4195f"
      },
      "source": [
        "a = [[0 for j in range(2)] for i in range(3)]\n",
        "a"
      ],
      "execution_count": 2,
      "outputs": [
        {
          "output_type": "execute_result",
          "data": {
            "text/plain": [
              "[[0, 0], [0, 0], [0, 0]]"
            ]
          },
          "metadata": {
            "tags": []
          },
          "execution_count": 2
        }
      ]
    },
    {
      "cell_type": "code",
      "metadata": {
        "colab": {
          "base_uri": "https://localhost:8080/"
        },
        "id": "mt8EOqjJalWs",
        "outputId": "bceb6964-e703-4f3b-bbe0-bb1ab1b2d873"
      },
      "source": [
        "a = [[0] * 2 for i in range(3)]\n",
        "a"
      ],
      "execution_count": 4,
      "outputs": [
        {
          "output_type": "execute_result",
          "data": {
            "text/plain": [
              "[[0, 0], [0, 0], [0, 0]]"
            ]
          },
          "metadata": {
            "tags": []
          },
          "execution_count": 4
        }
      ]
    },
    {
      "cell_type": "markdown",
      "metadata": {
        "id": "tEZs3tKcavyV"
      },
      "source": [
        "톱니형 리스트 만들기"
      ]
    },
    {
      "cell_type": "code",
      "metadata": {
        "colab": {
          "base_uri": "https://localhost:8080/"
        },
        "id": "XMzJDDJVayiH",
        "outputId": "2b0fda65-19ac-4879-ab3e-e58fdc9a6183"
      },
      "source": [
        "a = [3, 1, 3, 2, 5]\n",
        "b = []\n",
        "\n",
        "for i in a:\n",
        "    line = []\n",
        "    for j in range(i):\n",
        "        line.append(0)\n",
        "    b.append(line)\n",
        "\n",
        "print(b)"
      ],
      "execution_count": 5,
      "outputs": [
        {
          "output_type": "stream",
          "text": [
            "[[0, 0, 0], [0], [0, 0, 0], [0, 0], [0, 0, 0, 0, 0]]\n"
          ],
          "name": "stdout"
        }
      ]
    },
    {
      "cell_type": "code",
      "metadata": {
        "colab": {
          "base_uri": "https://localhost:8080/"
        },
        "id": "FE9RoNLWlHJM",
        "outputId": "dee9f0a8-ea9d-4982-e495-0a92c7839661"
      },
      "source": [
        "a = [[0] * i for i in [3, 1, 3, 2, 5]]\n",
        "a"
      ],
      "execution_count": 20,
      "outputs": [
        {
          "output_type": "execute_result",
          "data": {
            "text/plain": [
              "[[0, 0, 0], [0], [0, 0, 0], [0, 0], [0, 0, 0, 0, 0]]"
            ]
          },
          "metadata": {
            "tags": []
          },
          "execution_count": 20
        }
      ]
    },
    {
      "cell_type": "markdown",
      "metadata": {
        "id": "hB9zToNvmPpd"
      },
      "source": [
        "솔티드로 2차원 리스트 정렬하기"
      ]
    },
    {
      "cell_type": "code",
      "metadata": {
        "colab": {
          "base_uri": "https://localhost:8080/"
        },
        "id": "QHwMnMgXmOuU",
        "outputId": "a60501c1-2420-4c71-f985-0adfe85c2ba6"
      },
      "source": [
        "students = [\n",
        "            ['john', 'C', 7],\n",
        "            ['maria', 'A', 25],\n",
        "            ['andrew', 'B', 19]\n",
        "]\n",
        "print(sorted(students, key=lambda student: student[0]))"
      ],
      "execution_count": 37,
      "outputs": [
        {
          "output_type": "stream",
          "text": [
            "[['andrew', 'B', 19], ['john', 'C', 7], ['maria', 'A', 25]]\n"
          ],
          "name": "stdout"
        }
      ]
    },
    {
      "cell_type": "code",
      "metadata": {
        "colab": {
          "base_uri": "https://localhost:8080/"
        },
        "id": "4L_toGEfnCUX",
        "outputId": "05dfd244-cab8-4575-cc6a-3c283ddefdd8"
      },
      "source": [
        "a = [[10, 20], [30, 40]]\n",
        "b = a\n",
        "b[0][0] = 500\n",
        "b"
      ],
      "execution_count": 28,
      "outputs": [
        {
          "output_type": "execute_result",
          "data": {
            "text/plain": [
              "[[500, 20], [30, 40]]"
            ]
          },
          "metadata": {
            "tags": []
          },
          "execution_count": 28
        }
      ]
    },
    {
      "cell_type": "code",
      "metadata": {
        "colab": {
          "base_uri": "https://localhost:8080/"
        },
        "id": "2vUMGctDoPMw",
        "outputId": "4ad063b5-978a-4ac6-f37d-22dd35903d18"
      },
      "source": [
        "a = [[10,20], [30, 40]]\n",
        "b = a.copy()\n",
        "b[0][0] = 500\n",
        "b"
      ],
      "execution_count": 30,
      "outputs": [
        {
          "output_type": "execute_result",
          "data": {
            "text/plain": [
              "[[500, 20], [30, 40]]"
            ]
          },
          "metadata": {
            "tags": []
          },
          "execution_count": 30
        }
      ]
    },
    {
      "cell_type": "code",
      "metadata": {
        "colab": {
          "base_uri": "https://localhost:8080/"
        },
        "id": "Gw9RGQWlofFt",
        "outputId": "4cd11a80-4b25-476d-fbc7-ccbb464e2351"
      },
      "source": [
        "a = [[10, 20], [30, 40]]\n",
        "import copy\n",
        "b = copy.deepcopy(a)\n",
        "b[0][0] = 500\n",
        "b"
      ],
      "execution_count": 33,
      "outputs": [
        {
          "output_type": "execute_result",
          "data": {
            "text/plain": [
              "[[500, 20], [30, 40]]"
            ]
          },
          "metadata": {
            "tags": []
          },
          "execution_count": 33
        }
      ]
    },
    {
      "cell_type": "markdown",
      "metadata": {
        "id": "qmW1bzbVra-a"
      },
      "source": [
        "연습문제"
      ]
    },
    {
      "cell_type": "code",
      "metadata": {
        "colab": {
          "base_uri": "https://localhost:8080/"
        },
        "id": "dqGDmfHrrcvS",
        "outputId": "09c609c8-2751-4748-9597-aeae942ff329"
      },
      "source": [
        "[[[0 for col in range(3)] for row in range(4)] for depth in range(2)]"
      ],
      "execution_count": 38,
      "outputs": [
        {
          "output_type": "execute_result",
          "data": {
            "text/plain": [
              "[[[0, 0, 0], [0, 0, 0], [0, 0, 0], [0, 0, 0]],\n",
              " [[0, 0, 0], [0, 0, 0], [0, 0, 0], [0, 0, 0]]]"
            ]
          },
          "metadata": {
            "tags": []
          },
          "execution_count": 38
        }
      ]
    },
    {
      "cell_type": "markdown",
      "metadata": {
        "id": "jjYr5WafrxfC"
      },
      "source": [
        "리스트[높이인덱스][세로인덱스][가로인덱스]\n",
        "\n",
        "리스트[높이인덱스][세로인덱스][가로인덱스] = 값"
      ]
    },
    {
      "cell_type": "markdown",
      "metadata": {
        "id": "eHU1f_fT4gCI"
      },
      "source": [
        "22장 심사문제"
      ]
    },
    {
      "cell_type": "code",
      "metadata": {
        "colab": {
          "base_uri": "https://localhost:8080/"
        },
        "id": "a4BVSwcapz65",
        "outputId": "2a5dc9c5-36b7-4ca1-95b8-260493919347"
      },
      "source": [
        "a,b=map(int,input().split())\n",
        "x=[2**i for i in range(a,b+1)]\n",
        "x.pop(1)\n",
        "x.pop(-2)\n",
        "print(x)"
      ],
      "execution_count": 50,
      "outputs": [
        {
          "output_type": "stream",
          "text": [
            "10 20\n",
            "[1024, 4096, 8192, 16384, 32768, 65536, 131072, 262144, 1048576]\n"
          ],
          "name": "stdout"
        }
      ]
    },
    {
      "cell_type": "code",
      "metadata": {
        "colab": {
          "base_uri": "https://localhost:8080/",
          "height": 300
        },
        "id": "xxTgLXLI5kQo",
        "outputId": "9d556419-dbfa-4220-9c90-d80985704f3b"
      },
      "source": [
        "col, row = map(int, input().split())\n",
        "matrix = []\n",
        "for i in range(row):\n",
        "    matrix.append(list(input()))\n",
        "    for j in range(col):\n",
        "      if matrix[i][j] == '*':\n",
        "        continue\n",
        "      else:\n",
        "        matrix[i][j] = 0\n",
        "        for y in range(i - 1, i + 2):   \n",
        "          for x in range(j - 1 ,j + 2): \n",
        "            if y < 0 or x < 0 or y >= row or x >= col: \n",
        "              continue\n",
        "            elif matrix[y][x] == '*':\n",
        "              matrix[i][j] += 1\n",
        "\n",
        "for i in range(row):\n",
        "  for j in range(col):\n",
        "    print(matrix[i][j], end='')\n",
        "  print()"
      ],
      "execution_count": 51,
      "outputs": [
        {
          "output_type": "stream",
          "text": [
            "5 5\n",
            "..*.. ...*. .*... .***. *.*..\n"
          ],
          "name": "stdout"
        },
        {
          "output_type": "error",
          "ename": "IndexError",
          "evalue": "ignored",
          "traceback": [
            "\u001b[0;31m---------------------------------------------------------------------------\u001b[0m",
            "\u001b[0;31mIndexError\u001b[0m                                Traceback (most recent call last)",
            "\u001b[0;32m<ipython-input-51-71800091d4c3>\u001b[0m in \u001b[0;36m<module>\u001b[0;34m()\u001b[0m\n\u001b[1;32m     12\u001b[0m             \u001b[0;32mif\u001b[0m \u001b[0my\u001b[0m \u001b[0;34m<\u001b[0m \u001b[0;36m0\u001b[0m \u001b[0;32mor\u001b[0m \u001b[0mx\u001b[0m \u001b[0;34m<\u001b[0m \u001b[0;36m0\u001b[0m \u001b[0;32mor\u001b[0m \u001b[0my\u001b[0m \u001b[0;34m>=\u001b[0m \u001b[0mrow\u001b[0m \u001b[0;32mor\u001b[0m \u001b[0mx\u001b[0m \u001b[0;34m>=\u001b[0m \u001b[0mcol\u001b[0m\u001b[0;34m:\u001b[0m\u001b[0;34m\u001b[0m\u001b[0;34m\u001b[0m\u001b[0m\n\u001b[1;32m     13\u001b[0m               \u001b[0;32mcontinue\u001b[0m\u001b[0;34m\u001b[0m\u001b[0;34m\u001b[0m\u001b[0m\n\u001b[0;32m---> 14\u001b[0;31m             \u001b[0;32melif\u001b[0m \u001b[0mmatrix\u001b[0m\u001b[0;34m[\u001b[0m\u001b[0my\u001b[0m\u001b[0;34m]\u001b[0m\u001b[0;34m[\u001b[0m\u001b[0mx\u001b[0m\u001b[0;34m]\u001b[0m \u001b[0;34m==\u001b[0m \u001b[0;34m'*'\u001b[0m\u001b[0;34m:\u001b[0m\u001b[0;34m\u001b[0m\u001b[0;34m\u001b[0m\u001b[0m\n\u001b[0m\u001b[1;32m     15\u001b[0m               \u001b[0mmatrix\u001b[0m\u001b[0;34m[\u001b[0m\u001b[0mi\u001b[0m\u001b[0;34m]\u001b[0m\u001b[0;34m[\u001b[0m\u001b[0mj\u001b[0m\u001b[0;34m]\u001b[0m \u001b[0;34m+=\u001b[0m \u001b[0;36m1\u001b[0m\u001b[0;34m\u001b[0m\u001b[0;34m\u001b[0m\u001b[0m\n\u001b[1;32m     16\u001b[0m \u001b[0;34m\u001b[0m\u001b[0m\n",
            "\u001b[0;31mIndexError\u001b[0m: list index out of range"
          ]
        }
      ]
    },
    {
      "cell_type": "markdown",
      "metadata": {
        "id": "c5pSFTVr56mK"
      },
      "source": [
        "24장 문자열 응용하기"
      ]
    },
    {
      "cell_type": "markdown",
      "metadata": {
        "id": "exAzPvrX6YHh"
      },
      "source": [
        "문자열 바꾸기"
      ]
    },
    {
      "cell_type": "code",
      "metadata": {
        "colab": {
          "base_uri": "https://localhost:8080/",
          "height": 37
        },
        "id": "FwBK8Y586CZj",
        "outputId": "d65cda31-667f-4d06-b113-cd8ab58bb094"
      },
      "source": [
        "'hello, world!'.replace('world', 'python')"
      ],
      "execution_count": 52,
      "outputs": [
        {
          "output_type": "execute_result",
          "data": {
            "application/vnd.google.colaboratory.intrinsic+json": {
              "type": "string"
            },
            "text/plain": [
              "'hello, python!'"
            ]
          },
          "metadata": {
            "tags": []
          },
          "execution_count": 52
        }
      ]
    },
    {
      "cell_type": "code",
      "metadata": {
        "colab": {
          "base_uri": "https://localhost:8080/",
          "height": 37
        },
        "id": "XSGqePYT6jNi",
        "outputId": "a2409a5e-f8f6-4f71-da67-dd1b268f627f"
      },
      "source": [
        "s = 'hello, world!'\n",
        "s = s.replace('world!','Python')\n",
        "s"
      ],
      "execution_count": 55,
      "outputs": [
        {
          "output_type": "execute_result",
          "data": {
            "application/vnd.google.colaboratory.intrinsic+json": {
              "type": "string"
            },
            "text/plain": [
              "'hello, Python'"
            ]
          },
          "metadata": {
            "tags": []
          },
          "execution_count": 55
        }
      ]
    },
    {
      "cell_type": "markdown",
      "metadata": {
        "id": "DrsHU3no6wZL"
      },
      "source": [
        "문자 바꾸기"
      ]
    },
    {
      "cell_type": "code",
      "metadata": {
        "colab": {
          "base_uri": "https://localhost:8080/",
          "height": 37
        },
        "id": "kSiMWuXs6vtt",
        "outputId": "f7970412-0f6d-4428-ad33-1105a821048e"
      },
      "source": [
        "table = str.maketrans('aeiou', '12345')\n",
        "'apple'.translate(table)"
      ],
      "execution_count": 56,
      "outputs": [
        {
          "output_type": "execute_result",
          "data": {
            "application/vnd.google.colaboratory.intrinsic+json": {
              "type": "string"
            },
            "text/plain": [
              "'1ppl2'"
            ]
          },
          "metadata": {
            "tags": []
          },
          "execution_count": 56
        }
      ]
    },
    {
      "cell_type": "markdown",
      "metadata": {
        "id": "tottMbNr76X_"
      },
      "source": [
        "문자열 분리하기"
      ]
    },
    {
      "cell_type": "code",
      "metadata": {
        "colab": {
          "base_uri": "https://localhost:8080/"
        },
        "id": "MNTQxNwt79Fb",
        "outputId": "a2246bad-f228-41e9-e5e7-f899ef8abc6c"
      },
      "source": [
        "'apple pear grape pineapple orange'.split()"
      ],
      "execution_count": 57,
      "outputs": [
        {
          "output_type": "execute_result",
          "data": {
            "text/plain": [
              "['apple', 'pear', 'grape', 'pineapple', 'orange']"
            ]
          },
          "metadata": {
            "tags": []
          },
          "execution_count": 57
        }
      ]
    },
    {
      "cell_type": "markdown",
      "metadata": {
        "id": "rWrEinxr8VAu"
      },
      "source": [
        "split('기준문자열')과 같이 기준 문자열을 지정하면 기준문자열로 문자열을 분리합니다."
      ]
    },
    {
      "cell_type": "code",
      "metadata": {
        "colab": {
          "base_uri": "https://localhost:8080/"
        },
        "id": "Yl0vgKzy8g3-",
        "outputId": "02d0d167-326c-4b95-c428-ec3a30e811e3"
      },
      "source": [
        "'apple, pear, grape, pineapple, orange'.split(', ')"
      ],
      "execution_count": 62,
      "outputs": [
        {
          "output_type": "execute_result",
          "data": {
            "text/plain": [
              "['apple', 'pear', 'grape', 'pineapple', 'orange']"
            ]
          },
          "metadata": {
            "tags": []
          },
          "execution_count": 62
        }
      ]
    },
    {
      "cell_type": "markdown",
      "metadata": {
        "id": "9VdcuQUh8uC3"
      },
      "source": [
        "24.1.4 구분자 문자열과 문자열 리스트 연결하기"
      ]
    },
    {
      "cell_type": "code",
      "metadata": {
        "colab": {
          "base_uri": "https://localhost:8080/",
          "height": 37
        },
        "id": "WX26QWsb835w",
        "outputId": "38517d95-8415-49f6-f1ab-63b2e85bb8ec"
      },
      "source": [
        "' '.join(['apple', 'pear', 'grape', 'pineapple', 'orange'])"
      ],
      "execution_count": 63,
      "outputs": [
        {
          "output_type": "execute_result",
          "data": {
            "application/vnd.google.colaboratory.intrinsic+json": {
              "type": "string"
            },
            "text/plain": [
              "'apple pear grape pineapple orange'"
            ]
          },
          "metadata": {
            "tags": []
          },
          "execution_count": 63
        }
      ]
    },
    {
      "cell_type": "code",
      "metadata": {
        "colab": {
          "base_uri": "https://localhost:8080/",
          "height": 37
        },
        "id": "556kTP0D9hBk",
        "outputId": "379c3a52-4f29-4137-ab8d-824432d733e3"
      },
      "source": [
        "'-'.join(['apple', 'pear', 'grape', 'pineapple', 'orange'])"
      ],
      "execution_count": 64,
      "outputs": [
        {
          "output_type": "execute_result",
          "data": {
            "application/vnd.google.colaboratory.intrinsic+json": {
              "type": "string"
            },
            "text/plain": [
              "'apple-pear-grape-pineapple-orange'"
            ]
          },
          "metadata": {
            "tags": []
          },
          "execution_count": 64
        }
      ]
    },
    {
      "cell_type": "markdown",
      "metadata": {
        "id": "0V3kRSB29rzb"
      },
      "source": [
        "24.1.6 대소문자 바꾸기"
      ]
    },
    {
      "cell_type": "code",
      "metadata": {
        "colab": {
          "base_uri": "https://localhost:8080/",
          "height": 37
        },
        "id": "cT4GRz8S9wBB",
        "outputId": "87eb47e1-7b26-4ebb-e696-4d5a1ab58ec5"
      },
      "source": [
        "'python'.upper()"
      ],
      "execution_count": 66,
      "outputs": [
        {
          "output_type": "execute_result",
          "data": {
            "application/vnd.google.colaboratory.intrinsic+json": {
              "type": "string"
            },
            "text/plain": [
              "'PYTHON'"
            ]
          },
          "metadata": {
            "tags": []
          },
          "execution_count": 66
        }
      ]
    },
    {
      "cell_type": "code",
      "metadata": {
        "colab": {
          "base_uri": "https://localhost:8080/",
          "height": 37
        },
        "id": "-ABPeMtk942r",
        "outputId": "a736039b-65f4-495d-8e48-2d6e0c2644ff"
      },
      "source": [
        "'PYTHON'.lower()"
      ],
      "execution_count": 67,
      "outputs": [
        {
          "output_type": "execute_result",
          "data": {
            "application/vnd.google.colaboratory.intrinsic+json": {
              "type": "string"
            },
            "text/plain": [
              "'python'"
            ]
          },
          "metadata": {
            "tags": []
          },
          "execution_count": 67
        }
      ]
    },
    {
      "cell_type": "markdown",
      "metadata": {
        "id": "hiSXixOy-CQ_"
      },
      "source": [
        "24.1.7 공백삭제하기"
      ]
    },
    {
      "cell_type": "code",
      "metadata": {
        "colab": {
          "base_uri": "https://localhost:8080/",
          "height": 37
        },
        "id": "L55N1VQc-I1A",
        "outputId": "77492bce-d05c-4e7f-d0fb-53ba0093623a"
      },
      "source": [
        "'   Python   '.lstrip()"
      ],
      "execution_count": 68,
      "outputs": [
        {
          "output_type": "execute_result",
          "data": {
            "application/vnd.google.colaboratory.intrinsic+json": {
              "type": "string"
            },
            "text/plain": [
              "'Python   '"
            ]
          },
          "metadata": {
            "tags": []
          },
          "execution_count": 68
        }
      ]
    },
    {
      "cell_type": "code",
      "metadata": {
        "colab": {
          "base_uri": "https://localhost:8080/",
          "height": 37
        },
        "id": "Gh-uTFW4-KLJ",
        "outputId": "d10f4123-2410-4a95-e552-36ce71d457db"
      },
      "source": [
        "'   Python   '.rstrip()"
      ],
      "execution_count": 69,
      "outputs": [
        {
          "output_type": "execute_result",
          "data": {
            "application/vnd.google.colaboratory.intrinsic+json": {
              "type": "string"
            },
            "text/plain": [
              "'   Python'"
            ]
          },
          "metadata": {
            "tags": []
          },
          "execution_count": 69
        }
      ]
    },
    {
      "cell_type": "code",
      "metadata": {
        "colab": {
          "base_uri": "https://localhost:8080/",
          "height": 37
        },
        "id": "HmlBpNAg-MAM",
        "outputId": "783bbc54-40c7-45d7-95f9-3b3556c02382"
      },
      "source": [
        "'   Python   '.strip()"
      ],
      "execution_count": 70,
      "outputs": [
        {
          "output_type": "execute_result",
          "data": {
            "application/vnd.google.colaboratory.intrinsic+json": {
              "type": "string"
            },
            "text/plain": [
              "'Python'"
            ]
          },
          "metadata": {
            "tags": []
          },
          "execution_count": 70
        }
      ]
    },
    {
      "cell_type": "code",
      "metadata": {
        "colab": {
          "base_uri": "https://localhost:8080/"
        },
        "id": "68oZ_xaBBh0x",
        "outputId": "32c646cb-f860-461a-d221-7c82420eda8c"
      },
      "source": [
        "i=int(input())\n",
        "while i>=1350:\n",
        "    i-=1350\n",
        "    print(i)"
      ],
      "execution_count": 76,
      "outputs": [
        {
          "output_type": "stream",
          "text": [
            "10000\n",
            "550\n"
          ],
          "name": "stdout"
        }
      ]
    },
    {
      "cell_type": "code",
      "metadata": {
        "id": "z7Ev6CZ7GNO4"
      },
      "source": [
        "if i > stop:\n",
        "    break\n",
        "if i % 10 == 3:\n",
        "    i += 1\n",
        "    continue"
      ],
      "execution_count": null,
      "outputs": []
    },
    {
      "cell_type": "markdown",
      "metadata": {
        "id": "sbW9An5FcEL1"
      },
      "source": [
        "[LMS 공부] - 재귀"
      ]
    },
    {
      "cell_type": "code",
      "metadata": {
        "colab": {
          "base_uri": "https://localhost:8080/"
        },
        "id": "09K-SqA2eZHO",
        "outputId": "3a1e9289-0555-4fb5-d67a-c76a785b8b7b"
      },
      "source": [
        "def fibonacci(n):\n",
        "    if n <= 2:\n",
        "        number = 1\n",
        "    else:\n",
        "        number = fibonacci(n - 1) + fibonacci(n - 2)\n",
        "    return number\n",
        "\n",
        "print(fibonacci(20))"
      ],
      "execution_count": 17,
      "outputs": [
        {
          "output_type": "stream",
          "text": [
            "6765\n"
          ],
          "name": "stdout"
        }
      ]
    },
    {
      "cell_type": "code",
      "metadata": {
        "colab": {
          "base_uri": "https://localhost:8080/"
        },
        "id": "EQTMRORrbZFW",
        "outputId": "a4c9d962-3404-4ec8-8b7c-2747f1b6b802"
      },
      "source": [
        "memory = {1: 1, 2: 1}\n",
        "\n",
        "def fibonacci(n):\n",
        "    if n in memory:\n",
        "        number = memory[n]\n",
        "    else:\n",
        "        number = fibonacci(n-1) + fibonacci(n-2)\n",
        "        memory[n] = number\n",
        "    return number\n",
        "\n",
        "print(fibonacci(20))    "
      ],
      "execution_count": 18,
      "outputs": [
        {
          "output_type": "stream",
          "text": [
            "6765\n"
          ],
          "name": "stdout"
        }
      ]
    }
  ]
}