{
  "nbformat": 4,
  "nbformat_minor": 0,
  "metadata": {
    "colab": {
      "name": "lms6_210705.ipynb",
      "provenance": [],
      "collapsed_sections": [],
      "authorship_tag": "ABX9TyO1kaO3ckDb8aRYaPjURnsf",
      "include_colab_link": true
    },
    "kernelspec": {
      "name": "python3",
      "display_name": "Python 3"
    },
    "language_info": {
      "name": "python"
    }
  },
  "cells": [
    {
      "cell_type": "markdown",
      "metadata": {
        "id": "view-in-github",
        "colab_type": "text"
      },
      "source": [
        "<a href=\"https://colab.research.google.com/github/teahojung/goodjob/blob/main/lms6_210705.ipynb\" target=\"_parent\"><img src=\"https://colab.research.google.com/assets/colab-badge.svg\" alt=\"Open In Colab\"/></a>"
      ]
    },
    {
      "cell_type": "markdown",
      "metadata": {
        "id": "Z0ZEXMTSDT30"
      },
      "source": [
        "실행시간 측정"
      ]
    },
    {
      "cell_type": "code",
      "metadata": {
        "colab": {
          "base_uri": "https://localhost:8080/"
        },
        "id": "b5yNE_NkCuzC",
        "outputId": "b7917c1f-1c96-4277-cfcd-fa253e48e45b"
      },
      "source": [
        "import time\n",
        "start = time.time()\n",
        "\n",
        "a = 1\n",
        "for i in range(100):\n",
        "    a += 1\n",
        "\n",
        "print(\"time : \", time.time() - start)"
      ],
      "execution_count": 2,
      "outputs": [
        {
          "output_type": "stream",
          "text": [
            "time :  0.00013136863708496094\n"
          ],
          "name": "stdout"
        }
      ]
    },
    {
      "cell_type": "markdown",
      "metadata": {
        "id": "Kn-n73W7Dycb"
      },
      "source": [
        "enumerate()와 이중 for문"
      ]
    },
    {
      "cell_type": "code",
      "metadata": {
        "colab": {
          "base_uri": "https://localhost:8080/"
        },
        "id": "4HOwGiv_D4Y0",
        "outputId": "9c8477e1-7fa9-42f5-87ac-7333e09900b7"
      },
      "source": [
        "my_list = ['a', 'b', 'c', 'd']\n",
        "\n",
        "for i in my_list:\n",
        "    print(\"값 : \", i)"
      ],
      "execution_count": 3,
      "outputs": [
        {
          "output_type": "stream",
          "text": [
            "값 :  a\n",
            "값 :  b\n",
            "값 :  c\n",
            "값 :  d\n"
          ],
          "name": "stdout"
        }
      ]
    },
    {
      "cell_type": "code",
      "metadata": {
        "colab": {
          "base_uri": "https://localhost:8080/"
        },
        "id": "qm3jzJX3EOH7",
        "outputId": "db711c6c-f841-46ee-dda1-cf994e424036"
      },
      "source": [
        "my_list = ['a', 'b', 'c', 'd']\n",
        "\n",
        "for i, value in enumerate(my_list):\n",
        "    print(\"순번 : \", i, \" , 값 : \", value)"
      ],
      "execution_count": 5,
      "outputs": [
        {
          "output_type": "stream",
          "text": [
            "순번 :  0  , 값 :  a\n",
            "순번 :  1  , 값 :  b\n",
            "순번 :  2  , 값 :  c\n",
            "순번 :  3  , 값 :  d\n"
          ],
          "name": "stdout"
        }
      ]
    },
    {
      "cell_type": "code",
      "metadata": {
        "colab": {
          "base_uri": "https://localhost:8080/"
        },
        "id": "ND7Lkxg6Ev5G",
        "outputId": "c7c23abe-0481-426e-e417-7f578c695174"
      },
      "source": [
        "my_list = ['a', 'b', 'c', 'd']\n",
        "result_list = []\n",
        "\n",
        "for i in range(2):\n",
        "   for j in my_list:\n",
        "        result_list.append((i,j))\n",
        "\n",
        "print(result_list)"
      ],
      "execution_count": 6,
      "outputs": [
        {
          "output_type": "stream",
          "text": [
            "[(0, 'a'), (0, 'b'), (0, 'c'), (0, 'd'), (1, 'a'), (1, 'b'), (1, 'c'), (1, 'd')]\n"
          ],
          "name": "stdout"
        }
      ]
    },
    {
      "cell_type": "markdown",
      "metadata": {
        "id": "aKZrFSk-FNzW"
      },
      "source": [
        "리스트 컴프리헨션"
      ]
    },
    {
      "cell_type": "code",
      "metadata": {
        "colab": {
          "base_uri": "https://localhost:8080/"
        },
        "id": "JJn3gCMdFQh2",
        "outputId": "c2f247b1-f2c6-4985-f1c9-2f73800321ef"
      },
      "source": [
        "my_list = ['a', 'b', 'c', 'd']\n",
        "\n",
        "result_list = [(i, j) for i in range(2) for j in my_list]\n",
        "\n",
        "print(result_list)"
      ],
      "execution_count": 7,
      "outputs": [
        {
          "output_type": "stream",
          "text": [
            "[(0, 'a'), (0, 'b'), (0, 'c'), (0, 'd'), (1, 'a'), (1, 'b'), (1, 'c'), (1, 'd')]\n"
          ],
          "name": "stdout"
        }
      ]
    },
    {
      "cell_type": "markdown",
      "metadata": {
        "id": "ke3kuwPFFkYl"
      },
      "source": [
        "제너레이터"
      ]
    },
    {
      "cell_type": "code",
      "metadata": {
        "colab": {
          "base_uri": "https://localhost:8080/"
        },
        "id": "vOeNxA7bFmAp",
        "outputId": "3883568e-4ed5-46f5-f1f9-bfdd83ad27af"
      },
      "source": [
        "my_list = ['a', 'b', 'c', 'd']\n",
        "\n",
        "def get_dataset_list(my_list):\n",
        "    result_list = []\n",
        "    for i in range(2):\n",
        "        for j in my_list:\n",
        "            result_list.append((i, j))\n",
        "    print('>> {} data loaded..'.format(len(result_list)))\n",
        "    return result_list\n",
        "\n",
        "for X, y in get_dataset_list(my_list):\n",
        "    print(X, y)"
      ],
      "execution_count": 10,
      "outputs": [
        {
          "output_type": "stream",
          "text": [
            ">> 8 data loaded..\n",
            "0 a\n",
            "0 b\n",
            "0 c\n",
            "0 d\n",
            "1 a\n",
            "1 b\n",
            "1 c\n",
            "1 d\n"
          ],
          "name": "stdout"
        }
      ]
    },
    {
      "cell_type": "code",
      "metadata": {
        "colab": {
          "base_uri": "https://localhost:8080/"
        },
        "id": "HwILGn47KGih",
        "outputId": "a9257b38-2849-407b-e976-8d46fe53f12d"
      },
      "source": [
        "my_list = ['a', 'b', 'c', 'd']\n",
        "\n",
        "def get_dataset_generator(my_list):\n",
        "    result_list = []\n",
        "    for i in range(2):\n",
        "        for j in my_list:\n",
        "            yield (i, j)\n",
        "            print('>> 1 data loaded..')\n",
        "\n",
        "dataset_generator = get_dataset_generator(my_list)\n",
        "for X, y in dataset_generator:\n",
        "    print(X, y)"
      ],
      "execution_count": 11,
      "outputs": [
        {
          "output_type": "stream",
          "text": [
            "0 a\n",
            ">> 1 data loaded..\n",
            "0 b\n",
            ">> 1 data loaded..\n",
            "0 c\n",
            ">> 1 data loaded..\n",
            "0 d\n",
            ">> 1 data loaded..\n",
            "1 a\n",
            ">> 1 data loaded..\n",
            "1 b\n",
            ">> 1 data loaded..\n",
            "1 c\n",
            ">> 1 data loaded..\n",
            "1 d\n",
            ">> 1 data loaded..\n"
          ],
          "name": "stdout"
        }
      ]
    },
    {
      "cell_type": "markdown",
      "metadata": {
        "id": "kFN730QZLzsy"
      },
      "source": [
        "Try - Except\n"
      ]
    },
    {
      "cell_type": "code",
      "metadata": {
        "colab": {
          "base_uri": "https://localhost:8080/"
        },
        "id": "4-DVcRi3MQYr",
        "outputId": "3bb4d8cd-a548-4d23-8d4f-b350be631504"
      },
      "source": [
        "a = 10\n",
        "b = 0\n",
        "try:\n",
        "    print(a/b)\n",
        "\n",
        "except:\n",
        "    print('에러가 발생했습니다.')"
      ],
      "execution_count": 12,
      "outputs": [
        {
          "output_type": "stream",
          "text": [
            "에러가 발생했습니다.\n"
          ],
          "name": "stdout"
        }
      ]
    },
    {
      "cell_type": "code",
      "metadata": {
        "colab": {
          "base_uri": "https://localhost:8080/"
        },
        "id": "wkd_pz20MfDt",
        "outputId": "976b922f-6ad3-4686-fc29-deceb66c46f0"
      },
      "source": [
        "a = 10\n",
        "b = 1\n",
        "try:\n",
        "    print(a/b)\n",
        "\n",
        "except:\n",
        "    print('에러가 발생했습니다.')"
      ],
      "execution_count": 13,
      "outputs": [
        {
          "output_type": "stream",
          "text": [
            "10.0\n"
          ],
          "name": "stdout"
        }
      ]
    },
    {
      "cell_type": "code",
      "metadata": {
        "colab": {
          "base_uri": "https://localhost:8080/"
        },
        "id": "cbIBI5rpMy6P",
        "outputId": "466aa483-a480-4ee9-95c3-3ca3eb1cde3e"
      },
      "source": [
        "a = 10\n",
        "b = 0\n",
        "try:\n",
        "    print(a/b)\n",
        "\n",
        "except:\n",
        "    print('에러가 발생했습니다.')\n",
        "    b = b + 1\n",
        "    print('값 수정 : ', a/b)"
      ],
      "execution_count": 15,
      "outputs": [
        {
          "output_type": "stream",
          "text": [
            "에러가 발생했습니다.\n",
            "값 수정 :  10.0\n"
          ],
          "name": "stdout"
        }
      ]
    },
    {
      "cell_type": "markdown",
      "metadata": {
        "id": "dUANpNfQM9F1"
      },
      "source": [
        "멀티프로세싱"
      ]
    },
    {
      "cell_type": "code",
      "metadata": {
        "colab": {
          "base_uri": "https://localhost:8080/"
        },
        "id": "Y-7FCMZXNRu4",
        "outputId": "5cb5bf7b-82dd-420d-d7a9-7108ca18f2cd"
      },
      "source": [
        "import time\n",
        "\n",
        "num_list = ['p1', 'p2', 'p3', 'p4']\n",
        "start = time.time()\n",
        "\n",
        "def count(name):\n",
        "    for i in range(0, 10000000):\n",
        "        z = 1 + 2\n",
        "\n",
        "    print(\"finish : \",name)\n",
        "\n",
        "for num in num_list:\n",
        "    count(num)\n",
        "\n",
        "print(\"time :\", time.time() - start)"
      ],
      "execution_count": 27,
      "outputs": [
        {
          "output_type": "stream",
          "text": [
            "finish :  p1\n",
            "finish :  p2\n",
            "finish :  p3\n",
            "finish :  p4\n",
            "time : 1.4584555625915527\n"
          ],
          "name": "stdout"
        }
      ]
    },
    {
      "cell_type": "code",
      "metadata": {
        "id": "w0nVaBDpR5Q8"
      },
      "source": [
        "import multiprocessing\n",
        "import time\n",
        "\n",
        "num_list = ['p1', 'p2', 'p3', 'p4']\n",
        "start = time.time()\n",
        "\n",
        "def count(name):\n",
        "    for i in range(0, 100000000):\n",
        "        b = 1 + 2\n",
        "    print(\"finish : \", name)\n",
        "\n",
        "\n",
        "if __name__ == '__main__':\n",
        "    pool = multiprocessing.Pool(processes = 16)\n",
        "    pool.map(count, num_list)\n",
        "    pool.close()\n",
        "    pool.join()\n",
        "\n",
        "print(\"time :\", time.time() - start)"
      ],
      "execution_count": null,
      "outputs": []
    },
    {
      "cell_type": "code",
      "metadata": {
        "id": "ndaMwElvR55g"
      },
      "source": [
        "import multiprocessing\n",
        "\n",
        "def count(name):\n",
        "    for i in range(0, 100000000):\n",
        "        a = 1 + 2\n",
        "    print(\"finish : \", name)"
      ],
      "execution_count": null,
      "outputs": []
    },
    {
      "cell_type": "code",
      "metadata": {
        "id": "-JMx81CfSh3x"
      },
      "source": [
        "#if __name__ == '__main__': 코드 시작점을 여기로 하라는 명령\n",
        "\n",
        "num_list = ['p1', 'p2', 'p3', 'p4']\n",
        "\n",
        "if __name__ == '__main__':\n",
        "    pool = multiprocessing.Pool(processes = 4)\n",
        "    pool.close()\n",
        "    pool.join()"
      ],
      "execution_count": null,
      "outputs": []
    },
    {
      "cell_type": "markdown",
      "metadata": {
        "id": "TEzbbJC4S8B1"
      },
      "source": [
        "pool = multiprocessing.Pool(processes = 4)\n",
        "\n",
        ": 병렬 처리시 4개의 프로세스 사용\n",
        "\n",
        "pool.map(count, num_list)\n",
        "\n",
        ": 병렬화 함수로써 count 함수에 num_list의 원소들을 하나씩 넣어 놓음.\n",
        "즉, count('p1), count('p2'), count('p3'), count('p4')가 만들어짐\n",
        "\n",
        "pool.close()\n",
        "\n",
        ":일반적으로 병렬화 부분이 끝나면 나옴 더이상 pool을 통해서 새로운 작업을 추가하지 않을 때 사용\n",
        "\n",
        "pool.join()\n",
        "\n",
        ": 프로세스가 종료될 때까지 대기하도록 지시하는 구문"
      ]
    },
    {
      "cell_type": "markdown",
      "metadata": {
        "id": "0onEwetVUMJ8"
      },
      "source": [
        ""
      ]
    },
    {
      "cell_type": "code",
      "metadata": {
        "colab": {
          "base_uri": "https://localhost:8080/"
        },
        "id": "3VLX8AriU3p5",
        "outputId": "486a1fba-af06-4e8e-f622-71bafba0e03c"
      },
      "source": [
        "list_data = [10, 20, 30, 40]\n",
        "list_data2 = [20, 30, 40, 50]\n",
        "\n",
        "length = len(list_data)\n",
        "max_result = list_data[0]\n",
        "for i in range(length):\n",
        "    if max_result < list_data[i]:\n",
        "        max_result = list_data[i]\n",
        "\n",
        "print(\"최댓값은 \", max_result)\n",
        "\n",
        "length = len(list_data2)\n",
        "max_result = list_data2[0]\n",
        "for i in range(length):\n",
        "    if max_result < list_data2[i]:\n",
        "        max_result = list_data2[i]\n",
        "\n",
        "print(\"최댓값은 \", max_result)"
      ],
      "execution_count": 28,
      "outputs": [
        {
          "output_type": "stream",
          "text": [
            "최댓값은  40\n",
            "최대값은  50\n"
          ],
          "name": "stdout"
        }
      ]
    },
    {
      "cell_type": "code",
      "metadata": {
        "colab": {
          "base_uri": "https://localhost:8080/"
        },
        "id": "VO86dPiYV-Nw",
        "outputId": "19864388-66a3-457b-f4d9-159cfb1f518a"
      },
      "source": [
        "list_data = [10, 20, 30, 40]\n",
        "list_data2 = [20, 30, 40, 50]\n",
        "\n",
        "def max_function(x):\n",
        "    length = len(x)\n",
        "    max_result = x[0]\n",
        "    for i in range(length):\n",
        "        if max_result < x[i]:\n",
        "            max_result = x[i]\n",
        "    return max_result\n",
        "\n",
        "print(\"최댓값은 \", max_function(list_data))\n",
        "print(\"최댓값은 \", max_function(list_data2))"
      ],
      "execution_count": 29,
      "outputs": [
        {
          "output_type": "stream",
          "text": [
            "최댓값은  40\n",
            "최댓값은  50\n"
          ],
          "name": "stdout"
        }
      ]
    },
    {
      "cell_type": "markdown",
      "metadata": {
        "id": "QW46RAgKWnTG"
      },
      "source": [
        "pass"
      ]
    },
    {
      "cell_type": "code",
      "metadata": {
        "id": "N_BjAAfuWqDr"
      },
      "source": [
        "def empty_function():\n",
        "    pass"
      ],
      "execution_count": 30,
      "outputs": []
    },
    {
      "cell_type": "markdown",
      "metadata": {
        "id": "rpv3hLVnW09q"
      },
      "source": [
        "함수에 함수 사용"
      ]
    },
    {
      "cell_type": "code",
      "metadata": {
        "colab": {
          "base_uri": "https://localhost:8080/"
        },
        "id": "_-VHf7DxW2YM",
        "outputId": "0d6f206d-95f0-480b-bcb7-3d1b36318f10"
      },
      "source": [
        "def say_something(txt):\n",
        "    return txt\n",
        "\n",
        "def send(function, count):\n",
        "    for i in range(count):\n",
        "        print(function)\n",
        "\n",
        "send(say_something(\"안녕!\"), 3)\n",
        "#function은 세이섬띵, 카운트는 숫자 숫자 for구문만큼 펑션 프린트"
      ],
      "execution_count": 32,
      "outputs": [
        {
          "output_type": "stream",
          "text": [
            "안녕!\n",
            "안녕!\n",
            "안녕!\n"
          ],
          "name": "stdout"
        }
      ]
    },
    {
      "cell_type": "markdown",
      "metadata": {
        "id": "D5gwXHdcYf8g"
      },
      "source": [
        "함수 안의 함수 & 2개 이상의 return"
      ]
    },
    {
      "cell_type": "code",
      "metadata": {
        "colab": {
          "base_uri": "https://localhost:8080/"
        },
        "id": "FWvRXwp8Yksx",
        "outputId": "f0541234-0255-4e6d-ac28-028a35bd7841"
      },
      "source": [
        "list_data = [30, 20, 30, 40]\n",
        "\n",
        "def minmax_function(x_list):\n",
        "\n",
        "    def inner_min_function(x):\n",
        "        length = len(x)\n",
        "        min_result = x[0]\n",
        "        for i in range(length):\n",
        "            if min_result > x[i]:\n",
        "                min_result = x[i]\n",
        "        return min_result\n",
        "\n",
        "    def inner_max_function(x):\n",
        "        length = len(x)\n",
        "        max_result = x[0]\n",
        "        for i in range(length):\n",
        "            if max_result < x[i]:\n",
        "                max_result = x[i]\n",
        "        return max_result\n",
        "    \n",
        "    x_min = inner_min_function(x_list)\n",
        "    x_max = inner_max_function(x_list)\n",
        "\n",
        "    minmax_list = [x_min, x_max]\n",
        "\n",
        "    return minmax_list\n",
        "# minmax_function은 list_data를 넣어서 minmax_list 반환하는 펑션\n",
        "\n",
        "print(\"최솟값, 최댓값은 : \", minmax_function(list_data))\n",
        "print(\"최솟값은 : \", minmax_function(list_data)[0])\n",
        "print(\"최댓값은 : \", minmax_function(list_data)[1])"
      ],
      "execution_count": 33,
      "outputs": [
        {
          "output_type": "stream",
          "text": [
            "최솟값, 최댓값은 :  [20, 40]\n",
            "최솟값은 :  20\n",
            "최댓값은 :  40\n"
          ],
          "name": "stdout"
        }
      ]
    },
    {
      "cell_type": "code",
      "metadata": {
        "colab": {
          "base_uri": "https://localhost:8080/"
        },
        "id": "j9WQ_kHncv3W",
        "outputId": "ba34c592-5777-4525-e327-16316179d2fd"
      },
      "source": [
        "list_data = [30, 20, 30, 40]\n",
        "\n",
        "def minmax_function(x_list):\n",
        "\n",
        "    def inner_min_function(x):\n",
        "        length = len(x)\n",
        "        min_result = x[0]\n",
        "        for i in range(length):\n",
        "            if min_result > x[i]:\n",
        "                min_result = x[i]\n",
        "        return min_result\n",
        "\n",
        "    def inner_max_function(x):\n",
        "        length = len(x)\n",
        "        max_result = x[0]\n",
        "        for i in range(length):\n",
        "            if max_result <.  x[i]:\n",
        "                max_result = x[i]\n",
        "        return max_result\n",
        "\n",
        "    x_min = inner_min_function(x_list)\n",
        "    x_max = inner_max_function(x_list)\n",
        "\n",
        "    return x_min, x_max\n",
        "\n",
        "min_valuse, max_valuse = minmax_function(list_data)\n",
        "\n",
        "print(\"최솟값은 : \", min_valuse)\n",
        "print(\"최댓값은 : \", max_valuse)"
      ],
      "execution_count": 38,
      "outputs": [
        {
          "output_type": "stream",
          "text": [
            "최솟값은 :  20\n",
            "최댓값은 :  40\n"
          ],
          "name": "stdout"
        }
      ]
    },
    {
      "cell_type": "markdown",
      "metadata": {
        "id": "9UOmmhnxhEhU"
      },
      "source": [
        "람다"
      ]
    },
    {
      "cell_type": "code",
      "metadata": {
        "id": "LXWX8D3zhFf6"
      },
      "source": [
        "def add(x, y):\n",
        "    return x + y"
      ],
      "execution_count": 40,
      "outputs": []
    },
    {
      "cell_type": "code",
      "metadata": {
        "id": "AqsEHTBAhNuu"
      },
      "source": [
        "def add(x,y): return x + y"
      ],
      "execution_count": null,
      "outputs": []
    },
    {
      "cell_type": "code",
      "metadata": {
        "colab": {
          "base_uri": "https://localhost:8080/"
        },
        "id": "YaPMTwwghV3Q",
        "outputId": "6982fde6-a87c-48df-f919-48a7fc5d3ace"
      },
      "source": [
        "print( (lambda x,y: x + y)(10, 20) )"
      ],
      "execution_count": 41,
      "outputs": [
        {
          "output_type": "stream",
          "text": [
            "30\n"
          ],
          "name": "stdout"
        }
      ]
    },
    {
      "cell_type": "markdown",
      "metadata": {
        "id": "clf4uaBchgRe"
      },
      "source": [
        "x,y 입력값을 의미 \n",
        "\n",
        "두번째 x + y는 return과 같음"
      ]
    },
    {
      "cell_type": "code",
      "metadata": {
        "colab": {
          "base_uri": "https://localhost:8080/"
        },
        "id": "zyLMKyXdlHfN",
        "outputId": "481009b7-3afe-4bea-8613-322adeb8af58"
      },
      "source": [
        "def list_mul(x):\n",
        "    return x * 2\n",
        "\n",
        "result = list(map(list_mul, [1, 2, 3]))\n",
        "print (result)"
      ],
      "execution_count": 42,
      "outputs": [
        {
          "output_type": "stream",
          "text": [
            "[2, 4, 6]\n"
          ],
          "name": "stdout"
        }
      ]
    },
    {
      "cell_type": "markdown",
      "metadata": {
        "id": "xi9wNeKQlvmJ"
      },
      "source": [
        "map(f, iterable)는 입력으로함수(f)와 반복 가능한(iterable) 객체를 받음. "
      ]
    },
    {
      "cell_type": "code",
      "metadata": {
        "colab": {
          "base_uri": "https://localhost:8080/"
        },
        "id": "5CKb6u6klvRk",
        "outputId": "2ce0042f-d876-4f0b-ef92-b4dbd9e8903d"
      },
      "source": [
        "result = list(map(lambda i: i * 2 , [1, 2, 3]))\n",
        "print(result)"
      ],
      "execution_count": 44,
      "outputs": [
        {
          "output_type": "stream",
          "text": [
            "[2, 4, 6]\n"
          ],
          "name": "stdout"
        }
      ]
    },
    {
      "cell_type": "markdown",
      "metadata": {
        "id": "gam-Vo7FmSni"
      },
      "source": [
        "클래스(class), 모듈(module)"
      ]
    },
    {
      "cell_type": "code",
      "metadata": {
        "id": "AhryNQjnmnVC"
      },
      "source": [
        "test = \"you can use this module\"\n",
        "\n",
        "def add(a, d):\n",
        "    return a + b\n",
        "\n",
        "def mul(a, b):\n",
        "    return a * b\n",
        "\n",
        "def sub(a, b):\n",
        "    return a - b\n",
        "\n",
        "def div(a, b):\n",
        "    return a / b\n",
        "\n",
        "\n",
        "class all_calc():\n",
        "\n",
        "    def __init__(self, a, b):\n",
        "        self.a = a\n",
        "        self.b = b\n",
        "\n",
        "    def add(self):\n",
        "        return self.a + self.b\n",
        "\n",
        "    def mul(self):\n",
        "        return self.a * self.b\n",
        "\n",
        "    def sub(self):\n",
        "        return self.a - self.b\n",
        "\n",
        "    def div(self):\n",
        "        return self.a / self.b"
      ],
      "execution_count": 47,
      "outputs": []
    },
    {
      "cell_type": "code",
      "metadata": {
        "id": "tSKzBrX3oenJ"
      },
      "source": [
        "code = '# mycalculator.py\\ntest = \"you can use this module.\"\\n\\ndef add(a, b):\\n    return a + b\\n \\ndef mul(a, b):\\n    return a * b\\n\\ndef sub(a, b):\\n    return a - b\\n\\ndef div(a, b):\\n    return a / b\\n\\n\\nclass all_calc():\\n\\n    def __init__(self, a, b):\\n        self.a = a\\n        self.b = b\\n\\n    def add(self):\\n        return self.a + self.b\\n \\n    def mul(self):\\n        return self.a * self.b\\n\\n    def sub(self):\\n        return self.a - self.b\\n\\n    def div(self):\\n        return self.a / self.b'\n",
        "\n",
        "f = open(\"mycalculator.py\", \"w\")\n",
        "f.write(code)\n",
        "f.close()"
      ],
      "execution_count": null,
      "outputs": []
    },
    {
      "cell_type": "markdown",
      "metadata": {
        "id": "52euNWhQo7WJ"
      },
      "source": [
        "패러다임\n",
        "\n",
        "(절차 지향 프로그래밍)\n",
        "\n",
        "장점 : 코드가 순차적으로 작성되어 이어 순서대로 읽기만 하면 이해 가능\n",
        "\n",
        "단점 : 순차적으로 작성되어있기 때문에 연쇄적인 문제가 생길수 있다. 일반적으로 코드 길이가 길어서 코드 분석이 어려움\n"
      ]
    },
    {
      "cell_type": "markdown",
      "metadata": {
        "id": "lamPwkhIpS3B"
      },
      "source": [
        "객체 지향 프로그래밍\n",
        "\n",
        "객체지향 프로그래밍은 개발자가 프로그램을 상호작용하는 객체들의 집합으로 볼 수 있게 합니다. 객체를 먼저 작성하고 함수를 작성합니다. \n",
        "\n",
        "장점 : 크드를 재사용하기 쉽습니다. 코드 분석이 쉬우며 아키텍처를 바꾸기 쉽습니다.\n",
        "\n",
        "단점 : 객체 간의 상호작용이 있기 때문에 설계에서 많은 시간이 소요되며 설계를 잘못하면 전체적으로 바꿔야 할수 있음.\n",
        "\n",
        "파이썬은 객체지향 프로그래밍"
      ]
    },
    {
      "cell_type": "markdown",
      "metadata": {
        "id": "jNTzjgwappRl"
      },
      "source": [
        "함수형 프로그래밍\n",
        "\n",
        "데이터 사이언티스트에게 적합한 프로그래밍 패러다임\n",
        "\n",
        "1. 순수성\n",
        "함수형 방식은 내부 상태를 수정하거나 함수의 반환값에서 보이지 않는 다른 변경사항들을 만드는 부작용이 있는 함수를 사용하지 않는다. 부작용이 전혀없는 함수를 순수 함수라고 한다. \n"
      ]
    },
    {
      "cell_type": "code",
      "metadata": {
        "colab": {
          "base_uri": "https://localhost:8080/"
        },
        "id": "e8wzjp18qgO2",
        "outputId": "beefae08-2090-4411-f4a7-fd4a73a72d25"
      },
      "source": [
        "#비순수 함수\n",
        "\n",
        "A = 5\n",
        "\n",
        "def impure_mul(b):\n",
        "    return b * A\n",
        "\n",
        "print(impure_mul(6))"
      ],
      "execution_count": 50,
      "outputs": [
        {
          "output_type": "stream",
          "text": [
            "30\n"
          ],
          "name": "stdout"
        }
      ]
    },
    {
      "cell_type": "code",
      "metadata": {
        "colab": {
          "base_uri": "https://localhost:8080/"
        },
        "id": "oU2wS5AMqw0m",
        "outputId": "923bc4ed-5b76-45e9-88ed-9cc2e8214dc4"
      },
      "source": [
        "#순수 함수\n",
        "\n",
        "def pure_mul(a,b):\n",
        "    return a * b\n",
        "\n",
        "print(pure_mul(4, 6))\n",
        "\n",
        "# 함수 안에 함수 밖에서 바로 가져오는 함수나 아니면 밖에 있는 변수를 변경시키는 코드가 없다.\n"
      ],
      "execution_count": 51,
      "outputs": [
        {
          "output_type": "stream",
          "text": [
            "24\n"
          ],
          "name": "stdout"
        }
      ]
    },
    {
      "cell_type": "markdown",
      "metadata": {
        "id": "AdFgVT_trD_C"
      },
      "source": [
        "2. 모듈성\n",
        "\n",
        "함수형 프로그래밍은 문제를 작은 조각으로 분해하도록 강제.\n",
        "\n",
        "복잡한 변환을 한 함수 안에서 하는 것보다 한 가지 작업을 수행하는 작은 함수들로 쪼개어 만드는 것이 코딩하기 더 쉬움. 작은 함수는 가독성도 좋고 오류를 확인하기도 쉬움. 결과적으로 프로그램은 더욱 모듈화가 됨"
      ]
    },
    {
      "cell_type": "markdown",
      "metadata": {
        "id": "OMseb2AcrY3P"
      },
      "source": [
        "3. 디버깅과 테스트 용이성\n",
        "\n",
        "함수형 프로그래밍으로 개발된 프로그램은 각각의 함수가 작고 명확하게 명시되기 때문에 디버깅이 쉽니다. "
      ]
    },
    {
      "cell_type": "markdown",
      "metadata": {
        "id": "aoO3DSpwrqN_"
      },
      "source": [
        "pep8\n",
        "\n",
        "Whitespace\n",
        "\n",
        "1. 한 줄의 코드 길이가 79자 이하여야 한다.\n",
        "2. 함수와 클래스는 다른 코드와 빈 줄 두개로 구분(엔터투번)\n",
        "3. 클래스에서 함수는 빈 줄 하나로 구분합니다.\n",
        "4. 변수 할당 앞뒤에 스페이스 하나만 사용합니다.\n",
        "\n",
        "5. 변수명 앞에 _(밑줄)이 붙으면 함수 등의 내부에서만 사용되는 변수를 일컫습니다.\n",
        "\n",
        "6. 변수명 뒤에 _(밑줄)이 붙으면 라이브러리 혹은 파이썬 비본 키워드와의 충돌을 피하고 싶을때 사용합니다. \n",
        "\n",
        "7. 모듈명은 짧은 소문자로 구성되며, 필요하다면 밑줄로 나눕니다.\n",
        "\n",
        "클래스 명은 파스칼케이스 컨벤션으로 작성\n",
        "\n",
        "함수명은 소문자로 구성하되 필요하면 밑줄로 나눕니다.\n",
        "\n",
        "상수는 모듈단위에서만 정의하며 두 대문자에 필요하다면 밑줄로 나눕니다."
      ]
    },
    {
      "cell_type": "code",
      "metadata": {
        "id": "ojZAfZGU9MVZ"
      },
      "source": [
        ""
      ],
      "execution_count": null,
      "outputs": []
    },
    {
      "cell_type": "markdown",
      "metadata": {
        "id": "ZGzCtDOj8w8u"
      },
      "source": [
        "네이밍 컨벤션\n",
        "\n",
        "1. snake_case\n",
        "*   모든 공백을 \"_\"바꾸고 모든 단어는 소문자\n",
        "*   파이썬에서는 함수,변수 등을 명명할때 사용\n",
        "\n",
        "2. PascalCase\n",
        "\n",
        "\n",
        "*   모든 단어가 대문자로 시작합니다.\n",
        "*   UpperCamelCase, CapWords라고 불리기도 합니다.\n",
        "\n",
        "\n",
        "*   파이썬에서는 클래스를 명명할때 사용\n",
        "\n",
        "3. camelcase\n",
        "\n",
        "\n",
        "*   처음은 소문자로 시작하고 이후의 모든 단어의 첫 글자는 대문자로 합니다.\n",
        "\n",
        "*   lowerCamelCase라고 불리기도 합니다.\n",
        "*   파이썬에서는 거의 사용하지 않습니다.(java등)\n",
        "\n",
        "\n",
        "\n",
        "\n",
        "\n"
      ]
    }
  ]
}