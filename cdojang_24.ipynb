{
  "nbformat": 4,
  "nbformat_minor": 0,
  "metadata": {
    "colab": {
      "name": "cdojang_24.ipynb",
      "provenance": [],
      "collapsed_sections": [],
      "authorship_tag": "ABX9TyNrd3yy2asjYQdLTExBrAlW",
      "include_colab_link": true
    },
    "kernelspec": {
      "name": "python3",
      "display_name": "Python 3"
    },
    "language_info": {
      "name": "python"
    }
  },
  "cells": [
    {
      "cell_type": "markdown",
      "metadata": {
        "id": "view-in-github",
        "colab_type": "text"
      },
      "source": [
        "<a href=\"https://colab.research.google.com/github/teahojung/goodjob/blob/main/cdojang_24.ipynb\" target=\"_parent\"><img src=\"https://colab.research.google.com/assets/colab-badge.svg\" alt=\"Open In Colab\"/></a>"
      ]
    },
    {
      "cell_type": "markdown",
      "metadata": {
        "id": "c5pSFTVr56mK"
      },
      "source": [
        "[코딩도장] 24장 문자열 응용하기"
      ]
    },
    {
      "cell_type": "markdown",
      "metadata": {
        "id": "exAzPvrX6YHh"
      },
      "source": [
        "문자열 바꾸기 ***replace***\n",
        "\n"
      ]
    },
    {
      "cell_type": "code",
      "metadata": {
        "colab": {
          "base_uri": "https://localhost:8080/",
          "height": 37
        },
        "id": "FwBK8Y586CZj",
        "outputId": "d65cda31-667f-4d06-b113-cd8ab58bb094"
      },
      "source": [
        "'hello, world!'.replace('world', 'python')"
      ],
      "execution_count": null,
      "outputs": [
        {
          "output_type": "execute_result",
          "data": {
            "application/vnd.google.colaboratory.intrinsic+json": {
              "type": "string"
            },
            "text/plain": [
              "'hello, python!'"
            ]
          },
          "metadata": {
            "tags": []
          },
          "execution_count": 52
        }
      ]
    },
    {
      "cell_type": "code",
      "metadata": {
        "colab": {
          "base_uri": "https://localhost:8080/",
          "height": 37
        },
        "id": "XSGqePYT6jNi",
        "outputId": "a2409a5e-f8f6-4f71-da67-dd1b268f627f"
      },
      "source": [
        "s = 'hello, world!'\n",
        "s = s.replace('world!','Python')\n",
        "s"
      ],
      "execution_count": null,
      "outputs": [
        {
          "output_type": "execute_result",
          "data": {
            "application/vnd.google.colaboratory.intrinsic+json": {
              "type": "string"
            },
            "text/plain": [
              "'hello, Python'"
            ]
          },
          "metadata": {
            "tags": []
          },
          "execution_count": 55
        }
      ]
    },
    {
      "cell_type": "markdown",
      "metadata": {
        "id": "DrsHU3no6wZL"
      },
      "source": [
        "문자 바꾸기 ***maketrans*** , ***translate***"
      ]
    },
    {
      "cell_type": "code",
      "metadata": {
        "colab": {
          "base_uri": "https://localhost:8080/",
          "height": 37
        },
        "id": "kSiMWuXs6vtt",
        "outputId": "f7970412-0f6d-4428-ad33-1105a821048e"
      },
      "source": [
        "table = str.maketrans('aeiou', '12345')\n",
        "'apple'.translate(table)"
      ],
      "execution_count": null,
      "outputs": [
        {
          "output_type": "execute_result",
          "data": {
            "application/vnd.google.colaboratory.intrinsic+json": {
              "type": "string"
            },
            "text/plain": [
              "'1ppl2'"
            ]
          },
          "metadata": {
            "tags": []
          },
          "execution_count": 56
        }
      ]
    },
    {
      "cell_type": "markdown",
      "metadata": {
        "id": "tottMbNr76X_"
      },
      "source": [
        "문자열 분리하기  ***split***"
      ]
    },
    {
      "cell_type": "code",
      "metadata": {
        "colab": {
          "base_uri": "https://localhost:8080/"
        },
        "id": "MNTQxNwt79Fb",
        "outputId": "a2246bad-f228-41e9-e5e7-f899ef8abc6c"
      },
      "source": [
        "'apple pear grape pineapple orange'.split()"
      ],
      "execution_count": null,
      "outputs": [
        {
          "output_type": "execute_result",
          "data": {
            "text/plain": [
              "['apple', 'pear', 'grape', 'pineapple', 'orange']"
            ]
          },
          "metadata": {
            "tags": []
          },
          "execution_count": 57
        }
      ]
    },
    {
      "cell_type": "markdown",
      "metadata": {
        "id": "rWrEinxr8VAu"
      },
      "source": [
        "split('기준문자열')과 같이 기준 문자열을 지정하면 기준문자열로 문자열을 분리합니다."
      ]
    },
    {
      "cell_type": "code",
      "metadata": {
        "colab": {
          "base_uri": "https://localhost:8080/"
        },
        "id": "Yl0vgKzy8g3-",
        "outputId": "02d0d167-326c-4b95-c428-ec3a30e811e3"
      },
      "source": [
        "'apple, pear, grape, pineapple, orange'.split(', ')"
      ],
      "execution_count": null,
      "outputs": [
        {
          "output_type": "execute_result",
          "data": {
            "text/plain": [
              "['apple', 'pear', 'grape', 'pineapple', 'orange']"
            ]
          },
          "metadata": {
            "tags": []
          },
          "execution_count": 62
        }
      ]
    },
    {
      "cell_type": "markdown",
      "metadata": {
        "id": "9VdcuQUh8uC3"
      },
      "source": [
        "24.1.4 구분자 문자열과 문자열 리스트 연결하기  ***join***\n"
      ]
    },
    {
      "cell_type": "code",
      "metadata": {
        "colab": {
          "base_uri": "https://localhost:8080/",
          "height": 37
        },
        "id": "WX26QWsb835w",
        "outputId": "38517d95-8415-49f6-f1ab-63b2e85bb8ec"
      },
      "source": [
        "' '.join(['apple', 'pear', 'grape', 'pineapple', 'orange'])"
      ],
      "execution_count": null,
      "outputs": [
        {
          "output_type": "execute_result",
          "data": {
            "application/vnd.google.colaboratory.intrinsic+json": {
              "type": "string"
            },
            "text/plain": [
              "'apple pear grape pineapple orange'"
            ]
          },
          "metadata": {
            "tags": []
          },
          "execution_count": 63
        }
      ]
    },
    {
      "cell_type": "code",
      "metadata": {
        "colab": {
          "base_uri": "https://localhost:8080/",
          "height": 37
        },
        "id": "556kTP0D9hBk",
        "outputId": "379c3a52-4f29-4137-ab8d-824432d733e3"
      },
      "source": [
        "'-'.join(['apple', 'pear', 'grape', 'pineapple', 'orange'])"
      ],
      "execution_count": null,
      "outputs": [
        {
          "output_type": "execute_result",
          "data": {
            "application/vnd.google.colaboratory.intrinsic+json": {
              "type": "string"
            },
            "text/plain": [
              "'apple-pear-grape-pineapple-orange'"
            ]
          },
          "metadata": {
            "tags": []
          },
          "execution_count": 64
        }
      ]
    },
    {
      "cell_type": "markdown",
      "metadata": {
        "id": "0V3kRSB29rzb"
      },
      "source": [
        "24.1.6 대소문자 바꾸기\n",
        "***upper*** , ***lower***"
      ]
    },
    {
      "cell_type": "code",
      "metadata": {
        "colab": {
          "base_uri": "https://localhost:8080/",
          "height": 37
        },
        "id": "cT4GRz8S9wBB",
        "outputId": "87eb47e1-7b26-4ebb-e696-4d5a1ab58ec5"
      },
      "source": [
        "'python'.upper()"
      ],
      "execution_count": null,
      "outputs": [
        {
          "output_type": "execute_result",
          "data": {
            "application/vnd.google.colaboratory.intrinsic+json": {
              "type": "string"
            },
            "text/plain": [
              "'PYTHON'"
            ]
          },
          "metadata": {
            "tags": []
          },
          "execution_count": 66
        }
      ]
    },
    {
      "cell_type": "code",
      "metadata": {
        "colab": {
          "base_uri": "https://localhost:8080/",
          "height": 37
        },
        "id": "-ABPeMtk942r",
        "outputId": "a736039b-65f4-495d-8e48-2d6e0c2644ff"
      },
      "source": [
        "'PYTHON'.lower()"
      ],
      "execution_count": null,
      "outputs": [
        {
          "output_type": "execute_result",
          "data": {
            "application/vnd.google.colaboratory.intrinsic+json": {
              "type": "string"
            },
            "text/plain": [
              "'python'"
            ]
          },
          "metadata": {
            "tags": []
          },
          "execution_count": 67
        }
      ]
    },
    {
      "cell_type": "markdown",
      "metadata": {
        "id": "hiSXixOy-CQ_"
      },
      "source": [
        "24.1.7 공백삭제하기 ***lstrip*** , ***rstrip*** , ***strip***"
      ]
    },
    {
      "cell_type": "code",
      "metadata": {
        "colab": {
          "base_uri": "https://localhost:8080/",
          "height": 37
        },
        "id": "L55N1VQc-I1A",
        "outputId": "77492bce-d05c-4e7f-d0fb-53ba0093623a"
      },
      "source": [
        "'   Python   '.lstrip()"
      ],
      "execution_count": null,
      "outputs": [
        {
          "output_type": "execute_result",
          "data": {
            "application/vnd.google.colaboratory.intrinsic+json": {
              "type": "string"
            },
            "text/plain": [
              "'Python   '"
            ]
          },
          "metadata": {
            "tags": []
          },
          "execution_count": 68
        }
      ]
    },
    {
      "cell_type": "code",
      "metadata": {
        "colab": {
          "base_uri": "https://localhost:8080/",
          "height": 37
        },
        "id": "Gh-uTFW4-KLJ",
        "outputId": "d10f4123-2410-4a95-e552-36ce71d457db"
      },
      "source": [
        "'   Python   '.rstrip()"
      ],
      "execution_count": null,
      "outputs": [
        {
          "output_type": "execute_result",
          "data": {
            "application/vnd.google.colaboratory.intrinsic+json": {
              "type": "string"
            },
            "text/plain": [
              "'   Python'"
            ]
          },
          "metadata": {
            "tags": []
          },
          "execution_count": 69
        }
      ]
    },
    {
      "cell_type": "code",
      "metadata": {
        "colab": {
          "base_uri": "https://localhost:8080/",
          "height": 37
        },
        "id": "HmlBpNAg-MAM",
        "outputId": "783bbc54-40c7-45d7-95f9-3b3556c02382"
      },
      "source": [
        "'   Python   '.strip()"
      ],
      "execution_count": null,
      "outputs": [
        {
          "output_type": "execute_result",
          "data": {
            "application/vnd.google.colaboratory.intrinsic+json": {
              "type": "string"
            },
            "text/plain": [
              "'Python'"
            ]
          },
          "metadata": {
            "tags": []
          },
          "execution_count": 70
        }
      ]
    },
    {
      "cell_type": "markdown",
      "metadata": {
        "id": "82DF-XhUVDdq"
      },
      "source": [
        "24.1.10 특정문자 삭제하기 ***strip***\n"
      ]
    },
    {
      "cell_type": "code",
      "metadata": {
        "colab": {
          "base_uri": "https://localhost:8080/",
          "height": 35
        },
        "id": "hKj8qBd1VIJD",
        "outputId": "f60d0d33-7735-4b6d-dbfc-baa5afd6359a"
      },
      "source": [
        "', python.'.lstrip(',.')"
      ],
      "execution_count": null,
      "outputs": [
        {
          "output_type": "execute_result",
          "data": {
            "application/vnd.google.colaboratory.intrinsic+json": {
              "type": "string"
            },
            "text/plain": [
              "' python.'"
            ]
          },
          "metadata": {
            "tags": []
          },
          "execution_count": 77
        }
      ]
    },
    {
      "cell_type": "code",
      "metadata": {
        "colab": {
          "base_uri": "https://localhost:8080/",
          "height": 35
        },
        "id": "MRC5YRP8VU7x",
        "outputId": "d0b3fc39-72be-41bb-97b6-f29dd6fe8f71"
      },
      "source": [
        "', python.'.rstrip(',.')"
      ],
      "execution_count": null,
      "outputs": [
        {
          "output_type": "execute_result",
          "data": {
            "application/vnd.google.colaboratory.intrinsic+json": {
              "type": "string"
            },
            "text/plain": [
              "', python'"
            ]
          },
          "metadata": {
            "tags": []
          },
          "execution_count": 78
        }
      ]
    },
    {
      "cell_type": "code",
      "metadata": {
        "colab": {
          "base_uri": "https://localhost:8080/",
          "height": 35
        },
        "id": "GusCUkxKVeE3",
        "outputId": "e3a12ada-88c3-472c-c814-8ea2a8b6da5a"
      },
      "source": [
        "', python.'.strip(',.')"
      ],
      "execution_count": null,
      "outputs": [
        {
          "output_type": "execute_result",
          "data": {
            "application/vnd.google.colaboratory.intrinsic+json": {
              "type": "string"
            },
            "text/plain": [
              "' python'"
            ]
          },
          "metadata": {
            "tags": []
          },
          "execution_count": 79
        }
      ]
    },
    {
      "cell_type": "markdown",
      "metadata": {
        "id": "ax5zlG7DVgZ1"
      },
      "source": [
        "24.1.13 문자열 정렬하기 ***just***\n",
        "\n"
      ]
    },
    {
      "cell_type": "code",
      "metadata": {
        "colab": {
          "base_uri": "https://localhost:8080/",
          "height": 35
        },
        "id": "iK60JbD7VfDT",
        "outputId": "60c98a64-4bb6-4863-8be5-e58847cf28c0"
      },
      "source": [
        "'python'.ljust(10)"
      ],
      "execution_count": null,
      "outputs": [
        {
          "output_type": "execute_result",
          "data": {
            "application/vnd.google.colaboratory.intrinsic+json": {
              "type": "string"
            },
            "text/plain": [
              "'python    '"
            ]
          },
          "metadata": {
            "tags": []
          },
          "execution_count": 80
        }
      ]
    },
    {
      "cell_type": "code",
      "metadata": {
        "colab": {
          "base_uri": "https://localhost:8080/",
          "height": 35
        },
        "id": "TvhFvpOgVnKz",
        "outputId": "b76d9143-9540-4dfb-b6ef-ab1543584cba"
      },
      "source": [
        "'python'.rjust(10)"
      ],
      "execution_count": null,
      "outputs": [
        {
          "output_type": "execute_result",
          "data": {
            "application/vnd.google.colaboratory.intrinsic+json": {
              "type": "string"
            },
            "text/plain": [
              "'    python'"
            ]
          },
          "metadata": {
            "tags": []
          },
          "execution_count": 81
        }
      ]
    },
    {
      "cell_type": "code",
      "metadata": {
        "colab": {
          "base_uri": "https://localhost:8080/",
          "height": 35
        },
        "id": "XiluU8SeV1CK",
        "outputId": "2d14fe56-9eea-43dc-b528-b6574ef4f91f"
      },
      "source": [
        "'python'.center(10)"
      ],
      "execution_count": null,
      "outputs": [
        {
          "output_type": "execute_result",
          "data": {
            "application/vnd.google.colaboratory.intrinsic+json": {
              "type": "string"
            },
            "text/plain": [
              "'  python  '"
            ]
          },
          "metadata": {
            "tags": []
          },
          "execution_count": 82
        }
      ]
    },
    {
      "cell_type": "markdown",
      "metadata": {
        "id": "AMIe31TqV8Zx"
      },
      "source": [
        "24.1.16 메서드 체이닝 : 메서드의 연결\n"
      ]
    },
    {
      "cell_type": "code",
      "metadata": {
        "colab": {
          "base_uri": "https://localhost:8080/",
          "height": 35
        },
        "id": "I4F54-FxV4Qp",
        "outputId": "b4474235-f7b1-4288-d916-647f8e355219"
      },
      "source": [
        "'python'.rjust(10).upper()"
      ],
      "execution_count": null,
      "outputs": [
        {
          "output_type": "execute_result",
          "data": {
            "application/vnd.google.colaboratory.intrinsic+json": {
              "type": "string"
            },
            "text/plain": [
              "'    PYTHON'"
            ]
          },
          "metadata": {
            "tags": []
          },
          "execution_count": 83
        }
      ]
    },
    {
      "cell_type": "markdown",
      "metadata": {
        "id": "rLdMQtYBWiOq"
      },
      "source": [
        "24.1.17 문자열 왼쪽에 0 채우기"
      ]
    },
    {
      "cell_type": "code",
      "metadata": {
        "colab": {
          "base_uri": "https://localhost:8080/",
          "height": 35
        },
        "id": "JDmwXky7WmIy",
        "outputId": "d60c761f-fa9c-47e4-a8da-8444b4f34b21"
      },
      "source": [
        "'35'.zfill(4)"
      ],
      "execution_count": null,
      "outputs": [
        {
          "output_type": "execute_result",
          "data": {
            "application/vnd.google.colaboratory.intrinsic+json": {
              "type": "string"
            },
            "text/plain": [
              "'0035'"
            ]
          },
          "metadata": {
            "tags": []
          },
          "execution_count": 84
        }
      ]
    },
    {
      "cell_type": "code",
      "metadata": {
        "colab": {
          "base_uri": "https://localhost:8080/",
          "height": 35
        },
        "id": "FWGtaMNNWuls",
        "outputId": "4864b7f6-f4f5-4dd9-fc18-44d2eb2bf192"
      },
      "source": [
        "'3.5'.zfill(6)"
      ],
      "execution_count": null,
      "outputs": [
        {
          "output_type": "execute_result",
          "data": {
            "application/vnd.google.colaboratory.intrinsic+json": {
              "type": "string"
            },
            "text/plain": [
              "'0003.5'"
            ]
          },
          "metadata": {
            "tags": []
          },
          "execution_count": 85
        }
      ]
    },
    {
      "cell_type": "code",
      "metadata": {
        "colab": {
          "base_uri": "https://localhost:8080/",
          "height": 35
        },
        "id": "pdB4cXUqW0Ka",
        "outputId": "01fc4ab1-c616-4574-cdf2-b8c4c2d06288"
      },
      "source": [
        "'hello'.zfill(10)"
      ],
      "execution_count": null,
      "outputs": [
        {
          "output_type": "execute_result",
          "data": {
            "application/vnd.google.colaboratory.intrinsic+json": {
              "type": "string"
            },
            "text/plain": [
              "'00000hello'"
            ]
          },
          "metadata": {
            "tags": []
          },
          "execution_count": 86
        }
      ]
    },
    {
      "cell_type": "markdown",
      "metadata": {
        "id": "HXB58V8yW4H5"
      },
      "source": [
        "24.1.18 문자열 위치 찾기  ***find***\n",
        "\n",
        "특정 문자열을 왼쪽에서 찾아서 인덱스를 반환하고, 문자열이 없으면 -1을 반환"
      ]
    },
    {
      "cell_type": "code",
      "metadata": {
        "id": "e66qvF0pW28i",
        "colab": {
          "base_uri": "https://localhost:8080/"
        },
        "outputId": "b3617f43-0bf5-4c7e-9a6c-70ef972b0c6a"
      },
      "source": [
        "'apple pineapple'.find('pl')"
      ],
      "execution_count": null,
      "outputs": [
        {
          "output_type": "execute_result",
          "data": {
            "text/plain": [
              "2"
            ]
          },
          "metadata": {
            "tags": []
          },
          "execution_count": 13
        }
      ]
    },
    {
      "cell_type": "code",
      "metadata": {
        "colab": {
          "base_uri": "https://localhost:8080/"
        },
        "id": "dD5f2T9w9rxy",
        "outputId": "ab9be265-c240-4c31-cbec-78219a76f30b"
      },
      "source": [
        "'apple pineapple'.find('xy')"
      ],
      "execution_count": null,
      "outputs": [
        {
          "output_type": "execute_result",
          "data": {
            "text/plain": [
              "-1"
            ]
          },
          "metadata": {
            "tags": []
          },
          "execution_count": 14
        }
      ]
    },
    {
      "cell_type": "code",
      "metadata": {
        "colab": {
          "base_uri": "https://localhost:8080/"
        },
        "id": "Tj8tDqyz9wf_",
        "outputId": "c35d4d75-42fe-42a0-a81c-672b1df5436f"
      },
      "source": [
        "'apple pineapple'.rfind('pl')"
      ],
      "execution_count": null,
      "outputs": [
        {
          "output_type": "execute_result",
          "data": {
            "text/plain": [
              "12"
            ]
          },
          "metadata": {
            "tags": []
          },
          "execution_count": 16
        }
      ]
    },
    {
      "cell_type": "code",
      "metadata": {
        "colab": {
          "base_uri": "https://localhost:8080/"
        },
        "id": "6dy1-5-0-GCd",
        "outputId": "eedef6ab-eebd-41a8-8111-e8ac9185fe86"
      },
      "source": [
        "'apple pineapple'.rfind('xy')"
      ],
      "execution_count": null,
      "outputs": [
        {
          "output_type": "execute_result",
          "data": {
            "text/plain": [
              "-1"
            ]
          },
          "metadata": {
            "tags": []
          },
          "execution_count": 17
        }
      ]
    },
    {
      "cell_type": "markdown",
      "metadata": {
        "id": "ECyfnVaN-P-S"
      },
      "source": [
        "24.1.20 문자열 위치 찾기 ***index***\n",
        "문자열이 없을 경우 에러 발생"
      ]
    },
    {
      "cell_type": "code",
      "metadata": {
        "colab": {
          "base_uri": "https://localhost:8080/"
        },
        "id": "qGl4rv7A-Tfs",
        "outputId": "89790765-aacd-4e83-cdb6-216afeb07728"
      },
      "source": [
        "'apple pineapple'.index('pl')"
      ],
      "execution_count": null,
      "outputs": [
        {
          "output_type": "execute_result",
          "data": {
            "text/plain": [
              "2"
            ]
          },
          "metadata": {
            "tags": []
          },
          "execution_count": 18
        }
      ]
    },
    {
      "cell_type": "code",
      "metadata": {
        "colab": {
          "base_uri": "https://localhost:8080/",
          "height": 198
        },
        "id": "QQH-rysi-nI9",
        "outputId": "0cf65347-8019-44c3-c1d1-8027d54b4f37"
      },
      "source": [
        "'apple pineapple'.index('xy')"
      ],
      "execution_count": null,
      "outputs": [
        {
          "output_type": "error",
          "ename": "ValueError",
          "evalue": "ignored",
          "traceback": [
            "\u001b[0;31m---------------------------------------------------------------------------\u001b[0m",
            "\u001b[0;31mValueError\u001b[0m                                Traceback (most recent call last)",
            "\u001b[0;32m<ipython-input-19-a9dec7558a80>\u001b[0m in \u001b[0;36m<module>\u001b[0;34m()\u001b[0m\n\u001b[0;32m----> 1\u001b[0;31m \u001b[0;34m'apple pineapple'\u001b[0m\u001b[0;34m.\u001b[0m\u001b[0mindex\u001b[0m\u001b[0;34m(\u001b[0m\u001b[0;34m'xy'\u001b[0m\u001b[0;34m)\u001b[0m\u001b[0;34m\u001b[0m\u001b[0;34m\u001b[0m\u001b[0m\n\u001b[0m",
            "\u001b[0;31mValueError\u001b[0m: substring not found"
          ]
        }
      ]
    },
    {
      "cell_type": "code",
      "metadata": {
        "colab": {
          "base_uri": "https://localhost:8080/"
        },
        "id": "t__Jny8X-pSE",
        "outputId": "b6aba9f5-6619-4503-f798-8a6230895f79"
      },
      "source": [
        "'apple pineapple'.rindex('pl')"
      ],
      "execution_count": null,
      "outputs": [
        {
          "output_type": "execute_result",
          "data": {
            "text/plain": [
              "12"
            ]
          },
          "metadata": {
            "tags": []
          },
          "execution_count": 20
        }
      ]
    },
    {
      "cell_type": "markdown",
      "metadata": {
        "id": "PJ4Ngm2v-yRy"
      },
      "source": [
        "문자열 개수 세기 ***count****\n",
        "현재 문자열에서 특정 문자열 갯수"
      ]
    },
    {
      "cell_type": "code",
      "metadata": {
        "colab": {
          "base_uri": "https://localhost:8080/"
        },
        "id": "oepAlkhK-s6N",
        "outputId": "950818a8-7ed3-41c0-a2bb-e77b2fc8a13a"
      },
      "source": [
        "'apple pineapple'.count('pl')"
      ],
      "execution_count": null,
      "outputs": [
        {
          "output_type": "execute_result",
          "data": {
            "text/plain": [
              "2"
            ]
          },
          "metadata": {
            "tags": []
          },
          "execution_count": 21
        }
      ]
    },
    {
      "cell_type": "markdown",
      "metadata": {
        "id": "kTtI3JA8_EbL"
      },
      "source": [
        "24.2.1 서식 지정자로 문자열 넣기 ***%s'%' 문자열***\n",
        "\n",
        "%s를 넣고 그 뒤에 %를 붙인 뒤 'james'를 지정해주면 %s부분이 'james'로 바뀜"
      ]
    },
    {
      "cell_type": "code",
      "metadata": {
        "colab": {
          "base_uri": "https://localhost:8080/",
          "height": 37
        },
        "id": "--LQM4EA-x0z",
        "outputId": "2f23150a-478d-4c30-e84f-391b362bfa42"
      },
      "source": [
        "'I am %s.' % 'James'"
      ],
      "execution_count": null,
      "outputs": [
        {
          "output_type": "execute_result",
          "data": {
            "application/vnd.google.colaboratory.intrinsic+json": {
              "type": "string"
            },
            "text/plain": [
              "'I am James.'"
            ]
          },
          "metadata": {
            "tags": []
          },
          "execution_count": 22
        }
      ]
    },
    {
      "cell_type": "code",
      "metadata": {
        "colab": {
          "base_uri": "https://localhost:8080/",
          "height": 37
        },
        "id": "7WSNGfAT_gZD",
        "outputId": "eefae5bd-050c-4a3c-ef3b-d361ad8d6cd1"
      },
      "source": [
        "name = 'maria'\n",
        "'I am %s' % name"
      ],
      "execution_count": null,
      "outputs": [
        {
          "output_type": "execute_result",
          "data": {
            "application/vnd.google.colaboratory.intrinsic+json": {
              "type": "string"
            },
            "text/plain": [
              "'I am maria'"
            ]
          },
          "metadata": {
            "tags": []
          },
          "execution_count": 23
        }
      ]
    },
    {
      "cell_type": "markdown",
      "metadata": {
        "id": "5QROjCDRA8yX"
      },
      "source": [
        "24.2.2 서식 지정자로 숫자 넣기 ***'%d' % 숫자***\n"
      ]
    },
    {
      "cell_type": "code",
      "metadata": {
        "colab": {
          "base_uri": "https://localhost:8080/",
          "height": 37
        },
        "id": "0hK1g1VeBM7K",
        "outputId": "f1b18870-29b1-49f2-af34-008339ec1fdd"
      },
      "source": [
        "'I am %d years old' % 20"
      ],
      "execution_count": null,
      "outputs": [
        {
          "output_type": "execute_result",
          "data": {
            "application/vnd.google.colaboratory.intrinsic+json": {
              "type": "string"
            },
            "text/plain": [
              "'I am 20 years old'"
            ]
          },
          "metadata": {
            "tags": []
          },
          "execution_count": 24
        }
      ]
    },
    {
      "cell_type": "markdown",
      "metadata": {
        "id": "AFtjjK5ECCGu"
      },
      "source": [
        "24.2.3 서식 지정자로 소수점 표현하기 ***'%f' % 숫자***\n",
        "\n",
        "***%, 자릿수f' % 숫자***"
      ]
    },
    {
      "cell_type": "code",
      "metadata": {
        "colab": {
          "base_uri": "https://localhost:8080/",
          "height": 37
        },
        "id": "mhWewutwCMWr",
        "outputId": "db5783c7-6109-48d8-ce7e-8554401eb46c"
      },
      "source": [
        "'%f' % 2.3"
      ],
      "execution_count": null,
      "outputs": [
        {
          "output_type": "execute_result",
          "data": {
            "application/vnd.google.colaboratory.intrinsic+json": {
              "type": "string"
            },
            "text/plain": [
              "'2.300000'"
            ]
          },
          "metadata": {
            "tags": []
          },
          "execution_count": 25
        }
      ]
    },
    {
      "cell_type": "code",
      "metadata": {
        "colab": {
          "base_uri": "https://localhost:8080/",
          "height": 37
        },
        "id": "-XeTXtaHC2Se",
        "outputId": "90fc6202-860e-4b83-e95a-80d9e0281bf8"
      },
      "source": [
        "'%.2f' % 2.3"
      ],
      "execution_count": null,
      "outputs": [
        {
          "output_type": "execute_result",
          "data": {
            "application/vnd.google.colaboratory.intrinsic+json": {
              "type": "string"
            },
            "text/plain": [
              "'2.30'"
            ]
          },
          "metadata": {
            "tags": []
          },
          "execution_count": 26
        }
      ]
    },
    {
      "cell_type": "code",
      "metadata": {
        "colab": {
          "base_uri": "https://localhost:8080/",
          "height": 37
        },
        "id": "DrnOR2DRDKYe",
        "outputId": "8ccfb6da-6ddb-4515-d7d8-e33ef9eb818f"
      },
      "source": [
        "'%.3f' % 2.3"
      ],
      "execution_count": null,
      "outputs": [
        {
          "output_type": "execute_result",
          "data": {
            "application/vnd.google.colaboratory.intrinsic+json": {
              "type": "string"
            },
            "text/plain": [
              "'2.300'"
            ]
          },
          "metadata": {
            "tags": []
          },
          "execution_count": 27
        }
      ]
    },
    {
      "cell_type": "markdown",
      "metadata": {
        "id": "zl2d2q2MDUH_"
      },
      "source": [
        "**24.2.4 서식 지정자로 문자열 정렬하기**\n",
        "\n",
        "'%길이s'"
      ]
    },
    {
      "cell_type": "code",
      "metadata": {
        "colab": {
          "base_uri": "https://localhost:8080/",
          "height": 37
        },
        "id": "aa9THabYDbEK",
        "outputId": "c0672c23-370c-492e-aa56-9224a76f8300"
      },
      "source": [
        "'%10s' % 'python'"
      ],
      "execution_count": null,
      "outputs": [
        {
          "output_type": "execute_result",
          "data": {
            "application/vnd.google.colaboratory.intrinsic+json": {
              "type": "string"
            },
            "text/plain": [
              "'    python'"
            ]
          },
          "metadata": {
            "tags": []
          },
          "execution_count": 29
        }
      ]
    },
    {
      "cell_type": "markdown",
      "metadata": {
        "id": "VYeHTNPsEF-B"
      },
      "source": [
        "**자릿수가 다른 숫자출력**\n",
        "\n",
        "% 길이d\n",
        "\n"
      ]
    },
    {
      "cell_type": "code",
      "metadata": {
        "colab": {
          "base_uri": "https://localhost:8080/",
          "height": 37
        },
        "id": "v1vVox1oDt_N",
        "outputId": "e5ebce30-1801-415d-fe0d-fe0bb482c5da"
      },
      "source": [
        "'%10d' % 150"
      ],
      "execution_count": null,
      "outputs": [
        {
          "output_type": "execute_result",
          "data": {
            "application/vnd.google.colaboratory.intrinsic+json": {
              "type": "string"
            },
            "text/plain": [
              "'       150'"
            ]
          },
          "metadata": {
            "tags": []
          },
          "execution_count": 30
        }
      ]
    },
    {
      "cell_type": "code",
      "metadata": {
        "colab": {
          "base_uri": "https://localhost:8080/",
          "height": 37
        },
        "id": "F1eQZUlaEWiF",
        "outputId": "87896601-9e6b-437b-9201-ab6d6d20e71e"
      },
      "source": [
        "'%10d' % 15000"
      ],
      "execution_count": null,
      "outputs": [
        {
          "output_type": "execute_result",
          "data": {
            "application/vnd.google.colaboratory.intrinsic+json": {
              "type": "string"
            },
            "text/plain": [
              "'     15000'"
            ]
          },
          "metadata": {
            "tags": []
          },
          "execution_count": 31
        }
      ]
    },
    {
      "cell_type": "markdown",
      "metadata": {
        "id": "FN6VY-iBEovU"
      },
      "source": [
        "% 길이.자릿수f"
      ]
    },
    {
      "cell_type": "code",
      "metadata": {
        "colab": {
          "base_uri": "https://localhost:8080/",
          "height": 37
        },
        "id": "tUZoTMYQEZy-",
        "outputId": "f5986597-3c05-4afe-debd-ec5e8613330d"
      },
      "source": [
        "'%10.2f' % 2.3"
      ],
      "execution_count": null,
      "outputs": [
        {
          "output_type": "execute_result",
          "data": {
            "application/vnd.google.colaboratory.intrinsic+json": {
              "type": "string"
            },
            "text/plain": [
              "'      2.30'"
            ]
          },
          "metadata": {
            "tags": []
          },
          "execution_count": 32
        }
      ]
    },
    {
      "cell_type": "code",
      "metadata": {
        "colab": {
          "base_uri": "https://localhost:8080/",
          "height": 37
        },
        "id": "DNRTUeRKEfIe",
        "outputId": "e5ef8925-6d57-4b85-afca-01fbe3490498"
      },
      "source": [
        "'%10.2f' % 2000.3"
      ],
      "execution_count": null,
      "outputs": [
        {
          "output_type": "execute_result",
          "data": {
            "application/vnd.google.colaboratory.intrinsic+json": {
              "type": "string"
            },
            "text/plain": [
              "'   2000.30'"
            ]
          },
          "metadata": {
            "tags": []
          },
          "execution_count": 34
        }
      ]
    },
    {
      "cell_type": "markdown",
      "metadata": {
        "id": "BFp6nx_KEzxL"
      },
      "source": [
        "**왼쪽 정렬** \n",
        "\n",
        "'%- 길이s'"
      ]
    },
    {
      "cell_type": "code",
      "metadata": {
        "colab": {
          "base_uri": "https://localhost:8080/",
          "height": 37
        },
        "id": "jVaAIGziEtKs",
        "outputId": "f0510a3e-6368-48e6-ddf2-d2ff33dffbb4"
      },
      "source": [
        "'%-10s' % 'python'"
      ],
      "execution_count": null,
      "outputs": [
        {
          "output_type": "execute_result",
          "data": {
            "application/vnd.google.colaboratory.intrinsic+json": {
              "type": "string"
            },
            "text/plain": [
              "'python    '"
            ]
          },
          "metadata": {
            "tags": []
          },
          "execution_count": 35
        }
      ]
    },
    {
      "cell_type": "markdown",
      "metadata": {
        "id": "RQnWYWXhFF8h"
      },
      "source": [
        "**24.2.5 서식 지정자로 문자열 안에 값 여러 개 넣기**\n",
        "\n",
        "'%d %s' % (숫자, '문자열')"
      ]
    },
    {
      "cell_type": "code",
      "metadata": {
        "colab": {
          "base_uri": "https://localhost:8080/",
          "height": 37
        },
        "id": "kBFNs5JdE96C",
        "outputId": "288194dd-4922-4f59-b631-0bd62cf1a06f"
      },
      "source": [
        "'Today is %d %s.' % (3, 'April')"
      ],
      "execution_count": null,
      "outputs": [
        {
          "output_type": "execute_result",
          "data": {
            "application/vnd.google.colaboratory.intrinsic+json": {
              "type": "string"
            },
            "text/plain": [
              "'Today is 3 April.'"
            ]
          },
          "metadata": {
            "tags": []
          },
          "execution_count": 36
        }
      ]
    },
    {
      "cell_type": "code",
      "metadata": {
        "colab": {
          "base_uri": "https://localhost:8080/",
          "height": 37
        },
        "id": "PkDuNggAFtO1",
        "outputId": "d4b22099-aeb9-4ed8-ac97-a4660a99003e"
      },
      "source": [
        "'Today is %d%s.' % (3, 'April')"
      ],
      "execution_count": null,
      "outputs": [
        {
          "output_type": "execute_result",
          "data": {
            "application/vnd.google.colaboratory.intrinsic+json": {
              "type": "string"
            },
            "text/plain": [
              "'Today is 3April.'"
            ]
          },
          "metadata": {
            "tags": []
          },
          "execution_count": 37
        }
      ]
    },
    {
      "cell_type": "code",
      "metadata": {
        "id": "9HQJc-jgaZLf"
      },
      "source": [
        ""
      ],
      "execution_count": null,
      "outputs": []
    },
    {
      "cell_type": "markdown",
      "metadata": {
        "id": "yKzk20VWH2LG"
      },
      "source": [
        "24.2.6 format 메서드 사용하기\n",
        "\n",
        "'{인덱스}'.format(값)"
      ]
    },
    {
      "cell_type": "code",
      "metadata": {
        "colab": {
          "base_uri": "https://localhost:8080/",
          "height": 37
        },
        "id": "oH6poJkJHV2l",
        "outputId": "c75253cb-29ea-4165-fb70-ace9a16bd42a"
      },
      "source": [
        "'Hello, {0}'.format('world!')"
      ],
      "execution_count": null,
      "outputs": [
        {
          "output_type": "execute_result",
          "data": {
            "application/vnd.google.colaboratory.intrinsic+json": {
              "type": "string"
            },
            "text/plain": [
              "'Hello, world!'"
            ]
          },
          "metadata": {
            "tags": []
          },
          "execution_count": 38
        }
      ]
    },
    {
      "cell_type": "code",
      "metadata": {
        "colab": {
          "base_uri": "https://localhost:8080/",
          "height": 37
        },
        "id": "176xM4HNIC6Y",
        "outputId": "4ee8d3fa-ca00-48e2-c479-6a3bffa90561"
      },
      "source": [
        "'Hello, {0}.'.format(100)"
      ],
      "execution_count": null,
      "outputs": [
        {
          "output_type": "execute_result",
          "data": {
            "application/vnd.google.colaboratory.intrinsic+json": {
              "type": "string"
            },
            "text/plain": [
              "'Hello, 100.'"
            ]
          },
          "metadata": {
            "tags": []
          },
          "execution_count": 39
        }
      ]
    },
    {
      "cell_type": "code",
      "metadata": {
        "colab": {
          "base_uri": "https://localhost:8080/",
          "height": 37
        },
        "id": "mgeKVU8HILbI",
        "outputId": "e9ceeeb1-40cd-4b7d-bb8a-7f73fd741e17"
      },
      "source": [
        "'Hello, {0} {2} {1}'.format('Pytho', 'Script', 3.6)"
      ],
      "execution_count": null,
      "outputs": [
        {
          "output_type": "execute_result",
          "data": {
            "application/vnd.google.colaboratory.intrinsic+json": {
              "type": "string"
            },
            "text/plain": [
              "'Hello, Pytho 3.6 Script'"
            ]
          },
          "metadata": {
            "tags": []
          },
          "execution_count": 41
        }
      ]
    },
    {
      "cell_type": "markdown",
      "metadata": {
        "id": "WdklUGWCImYi"
      },
      "source": [
        "24.2.8 format 메서드로 같은 값을 여러 개 넣기"
      ]
    },
    {
      "cell_type": "code",
      "metadata": {
        "colab": {
          "base_uri": "https://localhost:8080/",
          "height": 37
        },
        "id": "qqru7rrzIsTd",
        "outputId": "08376615-aa27-497d-9722-2cd747e3ba1c"
      },
      "source": [
        "'{0} {0} {1} {1}'.format('Python', 'Script')"
      ],
      "execution_count": null,
      "outputs": [
        {
          "output_type": "execute_result",
          "data": {
            "application/vnd.google.colaboratory.intrinsic+json": {
              "type": "string"
            },
            "text/plain": [
              "'Python Python Script Script'"
            ]
          },
          "metadata": {
            "tags": []
          },
          "execution_count": 42
        }
      ]
    },
    {
      "cell_type": "code",
      "metadata": {
        "colab": {
          "base_uri": "https://localhost:8080/",
          "height": 37
        },
        "id": "VULgF4Y_I1_x",
        "outputId": "db5a1593-c9f2-4e43-cc01-bf564a18ff3b"
      },
      "source": [
        "'Hello, {} {} {}'.format('Python', 'Script', 3.6)"
      ],
      "execution_count": null,
      "outputs": [
        {
          "output_type": "execute_result",
          "data": {
            "application/vnd.google.colaboratory.intrinsic+json": {
              "type": "string"
            },
            "text/plain": [
              "'Hello, Python Script 3.6'"
            ]
          },
          "metadata": {
            "tags": []
          },
          "execution_count": 43
        }
      ]
    },
    {
      "cell_type": "code",
      "metadata": {
        "colab": {
          "base_uri": "https://localhost:8080/",
          "height": 37
        },
        "id": "bNwmIZcTI_GB",
        "outputId": "012d3ad2-13ad-40eb-b1bc-5087bea5cbf1"
      },
      "source": [
        "'Hello, {language} {version}'.format(language='Python', version=3.6)"
      ],
      "execution_count": null,
      "outputs": [
        {
          "output_type": "execute_result",
          "data": {
            "application/vnd.google.colaboratory.intrinsic+json": {
              "type": "string"
            },
            "text/plain": [
              "'Hello, Python 3.6'"
            ]
          },
          "metadata": {
            "tags": []
          },
          "execution_count": 44
        }
      ]
    },
    {
      "cell_type": "markdown",
      "metadata": {
        "id": "pVc1LqNIJqTw"
      },
      "source": [
        "24.2.11 문자열 포매팅에 변수를 그대로 사용하기\n",
        "\n",
        "문자열 앞에 포매팅이라는 뜻으로 f를 붙인다."
      ]
    },
    {
      "cell_type": "code",
      "metadata": {
        "colab": {
          "base_uri": "https://localhost:8080/",
          "height": 37
        },
        "id": "F-4HEuWjJX0M",
        "outputId": "84f63136-ef3b-4d63-9587-248271517847"
      },
      "source": [
        "language = 'Python'\n",
        "version = 3.6\n",
        "f'Hello, {language} {version}'"
      ],
      "execution_count": null,
      "outputs": [
        {
          "output_type": "execute_result",
          "data": {
            "application/vnd.google.colaboratory.intrinsic+json": {
              "type": "string"
            },
            "text/plain": [
              "'Hello, Python 3.6'"
            ]
          },
          "metadata": {
            "tags": []
          },
          "execution_count": 45
        }
      ]
    },
    {
      "cell_type": "markdown",
      "metadata": {
        "id": "eS9FGeOQJ48J"
      },
      "source": [
        "format 메서드로 문자열 정렬하기\n",
        "\n",
        "'{인덱스:<길이}'.format(값)"
      ]
    },
    {
      "cell_type": "code",
      "metadata": {
        "colab": {
          "base_uri": "https://localhost:8080/",
          "height": 37
        },
        "id": "gbV7NNkYJoqN",
        "outputId": "ecd25639-c07d-4958-be0c-a672dff2d6a3"
      },
      "source": [
        "'{0:<10}'.format('python')"
      ],
      "execution_count": null,
      "outputs": [
        {
          "output_type": "execute_result",
          "data": {
            "application/vnd.google.colaboratory.intrinsic+json": {
              "type": "string"
            },
            "text/plain": [
              "'python    '"
            ]
          },
          "metadata": {
            "tags": []
          },
          "execution_count": 46
        }
      ]
    },
    {
      "cell_type": "code",
      "metadata": {
        "colab": {
          "base_uri": "https://localhost:8080/",
          "height": 37
        },
        "id": "wl7yK6_5KIgH",
        "outputId": "7ef73b4c-65f4-4b60-ca9c-1b93bf40cf4a"
      },
      "source": [
        "'{0:>10}'.format('python')"
      ],
      "execution_count": null,
      "outputs": [
        {
          "output_type": "execute_result",
          "data": {
            "application/vnd.google.colaboratory.intrinsic+json": {
              "type": "string"
            },
            "text/plain": [
              "'    python'"
            ]
          },
          "metadata": {
            "tags": []
          },
          "execution_count": 47
        }
      ]
    },
    {
      "cell_type": "markdown",
      "metadata": {
        "id": "r2sKVyoOKTqS"
      },
      "source": [
        "숫자 개수 맞추기\n",
        "\n",
        "'%0개수d' % 숫자\n",
        "\n",
        "'{인덱스:0개수d}'.format(숫자)"
      ]
    },
    {
      "cell_type": "code",
      "metadata": {
        "colab": {
          "base_uri": "https://localhost:8080/",
          "height": 37
        },
        "id": "nUL_KY-HKPKj",
        "outputId": "837e7e93-c903-4106-c2e7-4592f07c841b"
      },
      "source": [
        "'%03d' % 1"
      ],
      "execution_count": null,
      "outputs": [
        {
          "output_type": "execute_result",
          "data": {
            "application/vnd.google.colaboratory.intrinsic+json": {
              "type": "string"
            },
            "text/plain": [
              "'001'"
            ]
          },
          "metadata": {
            "tags": []
          },
          "execution_count": 48
        }
      ]
    },
    {
      "cell_type": "code",
      "metadata": {
        "colab": {
          "base_uri": "https://localhost:8080/",
          "height": 37
        },
        "id": "cH2wMil6L5YI",
        "outputId": "340c1a1c-3dd7-44fd-e6d8-efc97d3b296e"
      },
      "source": [
        "'{0:03d}'.format(35)"
      ],
      "execution_count": null,
      "outputs": [
        {
          "output_type": "execute_result",
          "data": {
            "application/vnd.google.colaboratory.intrinsic+json": {
              "type": "string"
            },
            "text/plain": [
              "'035'"
            ]
          },
          "metadata": {
            "tags": []
          },
          "execution_count": 49
        }
      ]
    },
    {
      "cell_type": "markdown",
      "metadata": {
        "id": "9XxJpnJcMHW8"
      },
      "source": [
        "'%0 개수.자릿수f' % 숫자\n",
        "\n",
        "'{인덱스:0개수.자릿수f}'.format(숫자)\n",
        "\n",
        "실수는 정수,소수점,소수점 이하 자릿수가 모두 포함됨"
      ]
    },
    {
      "cell_type": "code",
      "metadata": {
        "colab": {
          "base_uri": "https://localhost:8080/",
          "height": 37
        },
        "id": "dJqBZBpvMCx4",
        "outputId": "9cb595d4-4fca-4965-9491-2f0c80c566e8"
      },
      "source": [
        "'%08.2f' % 3.6"
      ],
      "execution_count": null,
      "outputs": [
        {
          "output_type": "execute_result",
          "data": {
            "application/vnd.google.colaboratory.intrinsic+json": {
              "type": "string"
            },
            "text/plain": [
              "'00003.60'"
            ]
          },
          "metadata": {
            "tags": []
          },
          "execution_count": 50
        }
      ]
    },
    {
      "cell_type": "code",
      "metadata": {
        "colab": {
          "base_uri": "https://localhost:8080/",
          "height": 37
        },
        "id": "uEe5UoarMk3i",
        "outputId": "6f0dc197-d9d7-4d69-e9f0-4ef95f75f9af"
      },
      "source": [
        "'{0:08.2f}'.format(150.37)"
      ],
      "execution_count": null,
      "outputs": [
        {
          "output_type": "execute_result",
          "data": {
            "application/vnd.google.colaboratory.intrinsic+json": {
              "type": "string"
            },
            "text/plain": [
              "'00150.37'"
            ]
          },
          "metadata": {
            "tags": []
          },
          "execution_count": 51
        }
      ]
    },
    {
      "cell_type": "markdown",
      "metadata": {
        "id": "NoD15dMUM4eF"
      },
      "source": [
        "24.2.14 채우기와 정렬을 조합해서 사용하기\n",
        "\n",
        "'{인덱스:[[채우기]정렬][길이][.자릿수][자료형]}'"
      ]
    },
    {
      "cell_type": "code",
      "metadata": {
        "colab": {
          "base_uri": "https://localhost:8080/",
          "height": 37
        },
        "id": "dXRF92IMMrwo",
        "outputId": "b4fbba33-6389-4334-a4a1-8966086e01e1"
      },
      "source": [
        "'{0:0<10}'.format(15)"
      ],
      "execution_count": null,
      "outputs": [
        {
          "output_type": "execute_result",
          "data": {
            "application/vnd.google.colaboratory.intrinsic+json": {
              "type": "string"
            },
            "text/plain": [
              "'1500000000'"
            ]
          },
          "metadata": {
            "tags": []
          },
          "execution_count": 52
        }
      ]
    },
    {
      "cell_type": "code",
      "metadata": {
        "colab": {
          "base_uri": "https://localhost:8080/",
          "height": 37
        },
        "id": "T3iri05tNNy2",
        "outputId": "de190953-9a85-4f42-981d-715ca32f5206"
      },
      "source": [
        "'{0:0>10}'.format(15)"
      ],
      "execution_count": null,
      "outputs": [
        {
          "output_type": "execute_result",
          "data": {
            "application/vnd.google.colaboratory.intrinsic+json": {
              "type": "string"
            },
            "text/plain": [
              "'0000000015'"
            ]
          },
          "metadata": {
            "tags": []
          },
          "execution_count": 53
        }
      ]
    },
    {
      "cell_type": "code",
      "metadata": {
        "colab": {
          "base_uri": "https://localhost:8080/",
          "height": 37
        },
        "id": "0y2OTGaGNR_2",
        "outputId": "f07ea4d4-4c81-4976-ceb2-379afefb6c51"
      },
      "source": [
        "'{0:0>10.2f}'.format(15)"
      ],
      "execution_count": null,
      "outputs": [
        {
          "output_type": "execute_result",
          "data": {
            "application/vnd.google.colaboratory.intrinsic+json": {
              "type": "string"
            },
            "text/plain": [
              "'0000015.00'"
            ]
          },
          "metadata": {
            "tags": []
          },
          "execution_count": 54
        }
      ]
    },
    {
      "cell_type": "code",
      "metadata": {
        "colab": {
          "base_uri": "https://localhost:8080/",
          "height": 37
        },
        "id": "CM23ULYfNXye",
        "outputId": "6af98e47-3fd3-4e03-e4a7-f2bf20e08060"
      },
      "source": [
        "'{0:>10}'.format(15)"
      ],
      "execution_count": null,
      "outputs": [
        {
          "output_type": "execute_result",
          "data": {
            "application/vnd.google.colaboratory.intrinsic+json": {
              "type": "string"
            },
            "text/plain": [
              "'        15'"
            ]
          },
          "metadata": {
            "tags": []
          },
          "execution_count": 55
        }
      ]
    },
    {
      "cell_type": "code",
      "metadata": {
        "colab": {
          "base_uri": "https://localhost:8080/",
          "height": 37
        },
        "id": "d-sCkRwoNwFh",
        "outputId": "ad31297d-60e3-4357-af69-ce2e53d312ec"
      },
      "source": [
        "'{0:x>10}'.format(15)"
      ],
      "execution_count": null,
      "outputs": [
        {
          "output_type": "execute_result",
          "data": {
            "application/vnd.google.colaboratory.intrinsic+json": {
              "type": "string"
            },
            "text/plain": [
              "'xxxxxxxx15'"
            ]
          },
          "metadata": {
            "tags": []
          },
          "execution_count": 56
        }
      ]
    },
    {
      "cell_type": "markdown",
      "metadata": {
        "id": "Q-M7jWEdOS9v"
      },
      "source": [
        "금액에서 천단위로 콤마 넣기"
      ]
    },
    {
      "cell_type": "code",
      "metadata": {
        "colab": {
          "base_uri": "https://localhost:8080/",
          "height": 37
        },
        "id": "nUHQzSftN2x7",
        "outputId": "09d0d177-7054-4bb4-f49b-56a07d5bf920"
      },
      "source": [
        "format(1493500, ',')"
      ],
      "execution_count": null,
      "outputs": [
        {
          "output_type": "execute_result",
          "data": {
            "application/vnd.google.colaboratory.intrinsic+json": {
              "type": "string"
            },
            "text/plain": [
              "'1,493,500'"
            ]
          },
          "metadata": {
            "tags": []
          },
          "execution_count": 57
        }
      ]
    },
    {
      "cell_type": "code",
      "metadata": {
        "colab": {
          "base_uri": "https://localhost:8080/",
          "height": 37
        },
        "id": "94PBEyiiOBl7",
        "outputId": "7fab429f-db29-4b9e-c415-fd9aab455ca7"
      },
      "source": [
        "'%20s' % format(1493500, ',')"
      ],
      "execution_count": null,
      "outputs": [
        {
          "output_type": "execute_result",
          "data": {
            "application/vnd.google.colaboratory.intrinsic+json": {
              "type": "string"
            },
            "text/plain": [
              "'           1,493,500'"
            ]
          },
          "metadata": {
            "tags": []
          },
          "execution_count": 58
        }
      ]
    },
    {
      "cell_type": "code",
      "metadata": {
        "colab": {
          "base_uri": "https://localhost:8080/",
          "height": 37
        },
        "id": "v0j0L6LnOIUh",
        "outputId": "23154e3c-6ff4-4183-a9f1-26b485312b44"
      },
      "source": [
        "'{0:,}'.format(1493500)"
      ],
      "execution_count": null,
      "outputs": [
        {
          "output_type": "execute_result",
          "data": {
            "application/vnd.google.colaboratory.intrinsic+json": {
              "type": "string"
            },
            "text/plain": [
              "'1,493,500'"
            ]
          },
          "metadata": {
            "tags": []
          },
          "execution_count": 59
        }
      ]
    }
  ]
}